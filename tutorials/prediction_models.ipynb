{
 "cells": [
  {
   "attachments": {},
   "cell_type": "markdown",
   "id": "fab2fcc6-e936-4ff1-9f73-33a82a834098",
   "metadata": {},
   "source": [
    "# AsaPy\n",
    "\n",
    "### Asa Prediction\n",
    "\n",
    "#### Prediction.full_cycle\n",
    "\n",
    "    \"\"\"\n",
    "    Performs the full cycle of the machine learning pipeline: loads or trains the models, preprocesses the input data,\n",
    "    generates predictions, and post-processes the output data.\n",
    "\n",
    "    Args:\n",
    "        X_pred (pandas.DataFrame): Input data to generate predictions for.\n",
    "        load (bool, optional): If True, loads the trained models from disk instead of training new ones. Default is False.\n",
    "        **kwargs: Additional keyword arguments passed to either `load_model()` or `train_model()` method.\n",
    "\n",
    "    Returns:\n",
    "        pandas.DataFrame: Dataframe with the generated predictions.\n",
    "\n",
    "    Raises:\n",
    "        ValueError: If `load` is True and `path` is not provided in `kwargs`.\n",
    "    \"\"\"\n"
   ]
  },
  {
   "cell_type": "code",
   "execution_count": 1,
   "id": "063241b7-9241-4db0-988a-cc1724db39e9",
   "metadata": {},
   "outputs": [],
   "source": [
    "import asapy\n",
    "from sklearn.datasets import load_diabetes, load_wine\n",
    "from sklearn.model_selection import train_test_split"
   ]
  },
  {
   "cell_type": "markdown",
   "id": "182d3c92-4e03-457c-8933-6f9080816afb",
   "metadata": {},
   "source": [
    "## RandomForest"
   ]
  },
  {
   "cell_type": "markdown",
   "id": "1afdb392-95cf-40c6-8461-8665be994e09",
   "metadata": {},
   "source": [
    "#### Classification"
   ]
  },
  {
   "cell_type": "code",
   "execution_count": 2,
   "id": "1edb6a71-2820-4bcb-ac15-c974c8079e2b",
   "metadata": {},
   "outputs": [],
   "source": [
    "ml = asapy.AsaML()"
   ]
  },
  {
   "cell_type": "code",
   "execution_count": 3,
   "id": "7fc17411-8efe-478b-bd77-1f4b16fe6e77",
   "metadata": {},
   "outputs": [],
   "source": [
    "# multi_cat classification\n",
    "X, y  = load_wine(as_frame=True, return_X_y=True)\n",
    "y = y.to_frame()"
   ]
  },
  {
   "cell_type": "code",
   "execution_count": 4,
   "id": "af04e04e-998a-4f4e-9821-4ab16d9bfcf6",
   "metadata": {},
   "outputs": [],
   "source": [
    "X_train, X_test, y_train, y_test = train_test_split(X, y, test_size=0.2)\n",
    "X = X_train\n",
    "y = y_train\n",
    "X_pred = X_test.reset_index(drop=True)\n",
    "y_pred = y_test.reset_index(drop=True)"
   ]
  },
  {
   "cell_type": "code",
   "execution_count": 5,
   "id": "95676eca-a681-467c-82b8-a2e0283e4e70",
   "metadata": {},
   "outputs": [
    {
     "name": "stdout",
     "output_type": "stream",
     "text": [
      "Removed 0 rows.\n",
      "\n",
      "Best hyperparameters: {'bootstrap': False, 'max_depth': 40, 'max_features': 'log2', 'min_samples_leaf': 2, 'min_samples_split': 4, 'n_estimators': 510}\n"
     ]
    }
   ],
   "source": [
    "out = ml.full_cycle(X_test, X = X, y = y, name_model = 'RandomForest', search = True, remove_outlier=True)"
   ]
  },
  {
   "cell_type": "code",
   "execution_count": 6,
   "id": "03b6fd3b-af3e-483c-bb08-ba17d3b9f238",
   "metadata": {},
   "outputs": [],
   "source": [
    "out = out.astype(int)\n",
    "y_pred = y_pred.astype(int)"
   ]
  },
  {
   "cell_type": "code",
   "execution_count": 7,
   "id": "72b32574-5674-4c24-b824-d9b40a3d2eed",
   "metadata": {},
   "outputs": [
    {
     "data": {
      "text/plain": [
       "0"
      ]
     },
     "execution_count": 7,
     "metadata": {},
     "output_type": "execute_result"
    }
   ],
   "source": [
    "diff = out.compare(y_pred)\n",
    "len(diff)"
   ]
  },
  {
   "cell_type": "markdown",
   "id": "efee3f6c-921b-41a4-bf69-405380b76013",
   "metadata": {},
   "source": [
    "#### Regression"
   ]
  },
  {
   "cell_type": "code",
   "execution_count": 8,
   "id": "70a61d20-afbf-4e3b-8edb-3d08f7df2e8a",
   "metadata": {},
   "outputs": [],
   "source": [
    "#dataset para regressão com duas colunas target\n",
    "X, y  = load_diabetes(as_frame=True, return_X_y=True)\n",
    "y = y.to_frame()"
   ]
  },
  {
   "cell_type": "code",
   "execution_count": 9,
   "id": "ec974706-b830-4b80-be4b-f69e490edba8",
   "metadata": {},
   "outputs": [],
   "source": [
    "X_train, X_test, y_train, y_test = train_test_split(X, y, test_size=0.2)\n",
    "X = X_train\n",
    "y = y_train\n",
    "X_pred = X_test.reset_index(drop=True)\n",
    "y_pred = y_test.reset_index(drop=True)"
   ]
  },
  {
   "cell_type": "code",
   "execution_count": 10,
   "id": "099254a4-8304-4f61-8f95-cdad134815be",
   "metadata": {},
   "outputs": [
    {
     "data": {
      "text/plain": [
       "'2023_12_19_(18-29-48)'"
      ]
     },
     "execution_count": 10,
     "metadata": {},
     "output_type": "execute_result"
    }
   ],
   "source": [
    "ml = asapy.AsaML()\n",
    "ml.dir_name"
   ]
  },
  {
   "cell_type": "code",
   "execution_count": 11,
   "id": "c3ca4eb9-e2cc-4752-8f13-bb4ca4c59f75",
   "metadata": {},
   "outputs": [
    {
     "name": "stdout",
     "output_type": "stream",
     "text": [
      "Removed 0 rows.\n",
      "\n",
      "Best hyperparameters: {'bootstrap': True, 'max_depth': 15, 'max_features': 'sqrt', 'min_samples_leaf': 3, 'min_samples_split': 3, 'n_estimators': 495}\n"
     ]
    }
   ],
   "source": [
    "out = ml.full_cycle(X_test, X = X, y = y, name_model = 'RandomForest', search = True, remove_outlier=True)"
   ]
  },
  {
   "cell_type": "code",
   "execution_count": 12,
   "id": "f7ac3c55-487b-453b-9916-da1abd75e674",
   "metadata": {},
   "outputs": [
    {
     "data": {
      "image/png": "[encoded data removed]",
      "text/plain": [
       "<Figure size 640x480 with 1 Axes>"
      ]
     },
     "metadata": {},
     "output_type": "display_data"
    }
   ],
   "source": [
    "from matplotlib import pyplot as plt\n",
    "error = out - y_pred\n",
    "plt.hist(error, bins = 25)\n",
    "plt.xlabel(\"Prediction Error\")\n",
    "_ = plt.ylabel(\"Count\")"
   ]
  },
  {
   "cell_type": "markdown",
   "id": "b2c86c72-b593-400a-825a-06e40be9e883",
   "metadata": {},
   "source": [
    "### Neural Networks"
   ]
  },
  {
   "cell_type": "markdown",
   "id": "778889b7-606b-420a-8600-edbfa2b2b2dc",
   "metadata": {},
   "source": [
    "#### Classification"
   ]
  },
  {
   "cell_type": "code",
   "execution_count": 13,
   "id": "1b13346c-11ae-4cef-9005-943ac929692e",
   "metadata": {},
   "outputs": [],
   "source": [
    "ml = asapy.AsaML()"
   ]
  },
  {
   "cell_type": "code",
   "execution_count": 14,
   "id": "90f0323a-d0b0-4b82-a7a6-24e2ba8e9f6d",
   "metadata": {},
   "outputs": [],
   "source": [
    "# multi-cat classification\n",
    "X, y  = load_wine(as_frame=True, return_X_y=True)\n",
    "y = y.to_frame()"
   ]
  },
  {
   "cell_type": "code",
   "execution_count": 15,
   "id": "f6affa72-b19d-41ff-8344-9243c19fd498",
   "metadata": {},
   "outputs": [],
   "source": [
    "X_train, X_test, y_train, y_test = train_test_split(X, y, test_size=0.2)\n",
    "X = X_train\n",
    "y = y_train\n",
    "X_pred = X_test.reset_index(drop=True)\n",
    "y_pred = y_test.reset_index(drop=True)"
   ]
  },
  {
   "cell_type": "code",
   "execution_count": 16,
   "id": "a78903e1-ac52-483d-ae51-79ee8aac9278",
   "metadata": {},
   "outputs": [
    {
     "name": "stdout",
     "output_type": "stream",
     "text": [
      "Trial 30 Complete [00h 00m 01s]\n",
      "val_accuracy: 0.3103448152542114\n",
      "\n",
      "Best val_accuracy So Far: 1.0\n",
      "Total elapsed time: 00h 00m 21s\n",
      "INFO:tensorflow:Oracle triggered exit\n"
     ]
    },
    {
     "name": "stderr",
     "output_type": "stream",
     "text": [
      "INFO:tensorflow:Oracle triggered exit\n",
      "WARNING:absl:At this time, the v2.11+ optimizer `tf.keras.optimizers.Adam` runs slowly on M1/M2 Macs, please use the legacy Keras optimizer instead, located at `tf.keras.optimizers.legacy.Adam`.\n",
      "WARNING:absl:There is a known slowdown when using v2.11+ Keras optimizers on M1/M2 Macs. Falling back to the legacy Keras optimizer, i.e., `tf.keras.optimizers.legacy.Adam`.\n"
     ]
    },
    {
     "name": "stdout",
     "output_type": "stream",
     "text": [
      "Model: \"sequential_1\"\n",
      "_________________________________________________________________\n",
      " Layer (type)                Output Shape              Param #   \n",
      "=================================================================\n",
      " dense_12 (Dense)            (None, 35)                490       \n",
      "                                                                 \n",
      " dense_13 (Dense)            (None, 126)               4536      \n",
      "                                                                 \n",
      " dense_14 (Dense)            (None, 205)               26035     \n",
      "                                                                 \n",
      " dense_15 (Dense)            (None, 3)                 618       \n",
      "                                                                 \n",
      "=================================================================\n",
      "Total params: 31679 (123.75 KB)\n",
      "Trainable params: 31679 (123.75 KB)\n",
      "Non-trainable params: 0 (0.00 Byte)\n",
      "_________________________________________________________________\n",
      "Epoch 1/500\n",
      "3/3 [==============================] - 0s 35ms/step - loss: 1.1146 - accuracy: 0.4556 - val_loss: 0.5360 - val_accuracy: 0.6957\n",
      "Epoch 2/500\n",
      "3/3 [==============================] - 0s 5ms/step - loss: 0.4250 - accuracy: 0.9333 - val_loss: 0.3942 - val_accuracy: 0.8696\n",
      "Epoch 3/500\n",
      "3/3 [==============================] - 0s 5ms/step - loss: 0.3045 - accuracy: 0.9556 - val_loss: 0.3148 - val_accuracy: 0.8696\n",
      "Epoch 4/500\n",
      "3/3 [==============================] - 0s 5ms/step - loss: 0.2070 - accuracy: 0.9667 - val_loss: 0.4413 - val_accuracy: 0.8696\n",
      "Epoch 5/500\n",
      "3/3 [==============================] - 0s 5ms/step - loss: 0.1423 - accuracy: 0.9667 - val_loss: 0.4282 - val_accuracy: 0.8696\n",
      "Epoch 6/500\n",
      "3/3 [==============================] - 0s 5ms/step - loss: 0.0974 - accuracy: 0.9778 - val_loss: 0.5915 - val_accuracy: 0.8696\n",
      "Epoch 7/500\n",
      "3/3 [==============================] - 0s 5ms/step - loss: 0.0683 - accuracy: 0.9889 - val_loss: 0.5781 - val_accuracy: 0.8696\n",
      "Epoch 8/500\n",
      "3/3 [==============================] - 0s 5ms/step - loss: 0.0507 - accuracy: 0.9889 - val_loss: 0.5679 - val_accuracy: 0.8696\n",
      "Epoch 9/500\n",
      "3/3 [==============================] - 0s 5ms/step - loss: 0.0367 - accuracy: 0.9889 - val_loss: 0.5545 - val_accuracy: 0.8696\n",
      "Epoch 10/500\n",
      "3/3 [==============================] - 0s 5ms/step - loss: 0.0270 - accuracy: 0.9889 - val_loss: 0.5438 - val_accuracy: 0.8696\n",
      "Epoch 11/500\n",
      "3/3 [==============================] - 0s 5ms/step - loss: 0.0194 - accuracy: 1.0000 - val_loss: 0.5362 - val_accuracy: 0.8696\n",
      "Epoch 12/500\n",
      "3/3 [==============================] - 0s 5ms/step - loss: 0.0155 - accuracy: 1.0000 - val_loss: 0.5324 - val_accuracy: 0.8696\n",
      "Epoch 13/500\n",
      "3/3 [==============================] - 0s 5ms/step - loss: 0.0113 - accuracy: 1.0000 - val_loss: 0.5323 - val_accuracy: 0.8696\n",
      "Epoch 13: early stopping\n",
      "1/1 [==============================] - 0s 35ms/step\n",
      "Epoch 1/500\n",
      "3/3 [==============================] - 0s 12ms/step - loss: 0.1435 - accuracy: 0.9667 - val_loss: 0.0030 - val_accuracy: 1.0000\n",
      "Epoch 2/500\n",
      "3/3 [==============================] - 0s 5ms/step - loss: 0.1349 - accuracy: 0.9889 - val_loss: 0.0038 - val_accuracy: 1.0000\n",
      "Epoch 3/500\n",
      "3/3 [==============================] - 0s 5ms/step - loss: 0.1273 - accuracy: 0.9889 - val_loss: 0.0058 - val_accuracy: 1.0000\n",
      "Epoch 4/500\n",
      "3/3 [==============================] - 0s 5ms/step - loss: 0.1244 - accuracy: 0.9889 - val_loss: 0.0116 - val_accuracy: 1.0000\n",
      "Epoch 5/500\n",
      "3/3 [==============================] - 0s 5ms/step - loss: 0.1212 - accuracy: 0.9889 - val_loss: 0.0159 - val_accuracy: 1.0000\n",
      "Epoch 6/500\n",
      "3/3 [==============================] - 0s 5ms/step - loss: 0.1189 - accuracy: 0.9889 - val_loss: 0.0174 - val_accuracy: 1.0000\n",
      "Epoch 7/500\n",
      "3/3 [==============================] - 0s 5ms/step - loss: 0.1168 - accuracy: 0.9889 - val_loss: 0.0178 - val_accuracy: 1.0000\n",
      "Epoch 8/500\n",
      "3/3 [==============================] - 0s 5ms/step - loss: 0.1151 - accuracy: 0.9889 - val_loss: 0.0158 - val_accuracy: 1.0000\n",
      "Epoch 9/500\n",
      "3/3 [==============================] - 0s 5ms/step - loss: 0.1141 - accuracy: 0.9889 - val_loss: 0.0140 - val_accuracy: 1.0000\n",
      "Epoch 10/500\n",
      "3/3 [==============================] - 0s 5ms/step - loss: 0.1140 - accuracy: 0.9889 - val_loss: 0.0135 - val_accuracy: 1.0000\n",
      "Epoch 11/500\n",
      "3/3 [==============================] - 0s 5ms/step - loss: 0.1138 - accuracy: 0.9889 - val_loss: 0.0149 - val_accuracy: 1.0000\n",
      "Epoch 11: early stopping\n",
      "1/1 [==============================] - 0s 7ms/step\n",
      "Epoch 1/500\n",
      "3/3 [==============================] - 0s 12ms/step - loss: 0.1174 - accuracy: 0.9889 - val_loss: 8.6475e-05 - val_accuracy: 1.0000\n",
      "Epoch 2/500\n",
      "3/3 [==============================] - 0s 5ms/step - loss: 0.1156 - accuracy: 0.9889 - val_loss: 6.6406e-04 - val_accuracy: 1.0000\n",
      "Epoch 3/500\n",
      "3/3 [==============================] - 0s 5ms/step - loss: 0.1144 - accuracy: 0.9889 - val_loss: 0.0019 - val_accuracy: 1.0000\n",
      "Epoch 4/500\n",
      "3/3 [==============================] - 0s 11ms/step - loss: 0.1139 - accuracy: 0.9889 - val_loss: 0.0031 - val_accuracy: 1.0000\n",
      "Epoch 5/500\n",
      "3/3 [==============================] - 0s 6ms/step - loss: 0.1138 - accuracy: 0.9889 - val_loss: 0.0035 - val_accuracy: 1.0000\n",
      "Epoch 6/500\n",
      "3/3 [==============================] - 0s 5ms/step - loss: 0.1137 - accuracy: 0.9889 - val_loss: 0.0033 - val_accuracy: 1.0000\n",
      "Epoch 7/500\n",
      "3/3 [==============================] - 0s 5ms/step - loss: 0.1136 - accuracy: 0.9889 - val_loss: 0.0031 - val_accuracy: 1.0000\n",
      "Epoch 8/500\n",
      "3/3 [==============================] - 0s 5ms/step - loss: 0.1136 - accuracy: 0.9889 - val_loss: 0.0030 - val_accuracy: 1.0000\n",
      "Epoch 9/500\n",
      "3/3 [==============================] - 0s 5ms/step - loss: 0.1136 - accuracy: 0.9889 - val_loss: 0.0029 - val_accuracy: 1.0000\n",
      "Epoch 10/500\n",
      "3/3 [==============================] - 0s 5ms/step - loss: 0.1136 - accuracy: 0.9889 - val_loss: 0.0029 - val_accuracy: 1.0000\n",
      "Epoch 11/500\n",
      "3/3 [==============================] - 0s 5ms/step - loss: 0.1136 - accuracy: 0.9889 - val_loss: 0.0028 - val_accuracy: 1.0000\n",
      "Epoch 11: early stopping\n",
      "1/1 [==============================] - 0s 7ms/step\n",
      "Epoch 1/500\n",
      "3/3 [==============================] - 0s 12ms/step - loss: 0.1131 - accuracy: 0.9890 - val_loss: 0.0000e+00 - val_accuracy: 1.0000\n",
      "Epoch 2/500\n",
      "3/3 [==============================] - 0s 5ms/step - loss: 0.1127 - accuracy: 0.9890 - val_loss: 0.0000e+00 - val_accuracy: 1.0000\n",
      "Epoch 3/500\n",
      "3/3 [==============================] - 0s 5ms/step - loss: 0.1124 - accuracy: 0.9890 - val_loss: 0.0000e+00 - val_accuracy: 1.0000\n",
      "Epoch 4/500\n",
      "3/3 [==============================] - 0s 5ms/step - loss: 0.1124 - accuracy: 0.9890 - val_loss: 0.0000e+00 - val_accuracy: 1.0000\n",
      "Epoch 5/500\n",
      "3/3 [==============================] - 0s 5ms/step - loss: 0.1124 - accuracy: 0.9890 - val_loss: 0.0000e+00 - val_accuracy: 1.0000\n",
      "Epoch 6/500\n",
      "3/3 [==============================] - 0s 5ms/step - loss: 0.1124 - accuracy: 0.9890 - val_loss: 0.0000e+00 - val_accuracy: 1.0000\n",
      "Epoch 7/500\n",
      "3/3 [==============================] - 0s 5ms/step - loss: 0.1124 - accuracy: 0.9890 - val_loss: 0.0000e+00 - val_accuracy: 1.0000\n",
      "Epoch 8/500\n",
      "3/3 [==============================] - 0s 5ms/step - loss: 0.1124 - accuracy: 0.9890 - val_loss: 0.0000e+00 - val_accuracy: 1.0000\n",
      "Epoch 9/500\n",
      "3/3 [==============================] - 0s 5ms/step - loss: 0.1124 - accuracy: 0.9890 - val_loss: 0.0000e+00 - val_accuracy: 1.0000\n",
      "Epoch 10/500\n",
      "3/3 [==============================] - 0s 5ms/step - loss: 0.1124 - accuracy: 0.9890 - val_loss: 0.0000e+00 - val_accuracy: 1.0000\n",
      "Epoch 11/500\n",
      "3/3 [==============================] - 0s 5ms/step - loss: 0.1124 - accuracy: 0.9890 - val_loss: 0.0000e+00 - val_accuracy: 1.0000\n",
      "Epoch 11: early stopping\n",
      "1/1 [==============================] - 0s 7ms/step\n",
      "Epoch 1/500\n",
      "3/3 [==============================] - 0s 12ms/step - loss: 0.1124 - accuracy: 0.9890 - val_loss: 0.0000e+00 - val_accuracy: 1.0000\n",
      "Epoch 2/500\n",
      "3/3 [==============================] - 0s 5ms/step - loss: 0.1124 - accuracy: 0.9890 - val_loss: 0.0000e+00 - val_accuracy: 1.0000\n",
      "Epoch 3/500\n",
      "3/3 [==============================] - 0s 5ms/step - loss: 0.1124 - accuracy: 0.9890 - val_loss: 0.0000e+00 - val_accuracy: 1.0000\n",
      "Epoch 4/500\n",
      "3/3 [==============================] - 0s 5ms/step - loss: 0.1124 - accuracy: 0.9890 - val_loss: 0.0000e+00 - val_accuracy: 1.0000\n",
      "Epoch 5/500\n",
      "3/3 [==============================] - 0s 5ms/step - loss: 0.1124 - accuracy: 0.9890 - val_loss: 0.0000e+00 - val_accuracy: 1.0000\n",
      "Epoch 6/500\n",
      "3/3 [==============================] - 0s 5ms/step - loss: 0.1124 - accuracy: 0.9890 - val_loss: 0.0000e+00 - val_accuracy: 1.0000\n",
      "Epoch 7/500\n",
      "3/3 [==============================] - 0s 5ms/step - loss: 0.1124 - accuracy: 0.9890 - val_loss: 0.0000e+00 - val_accuracy: 1.0000\n",
      "Epoch 8/500\n",
      "3/3 [==============================] - 0s 5ms/step - loss: 0.1124 - accuracy: 0.9890 - val_loss: 0.0000e+00 - val_accuracy: 1.0000\n",
      "Epoch 9/500\n",
      "3/3 [==============================] - 0s 5ms/step - loss: 0.1124 - accuracy: 0.9890 - val_loss: 0.0000e+00 - val_accuracy: 1.0000\n",
      "Epoch 10/500\n",
      "3/3 [==============================] - 0s 5ms/step - loss: 0.1124 - accuracy: 0.9890 - val_loss: 0.0000e+00 - val_accuracy: 1.0000\n",
      "Epoch 11/500\n",
      "3/3 [==============================] - 0s 6ms/step - loss: 0.1124 - accuracy: 0.9890 - val_loss: 0.0000e+00 - val_accuracy: 1.0000\n",
      "Epoch 11: early stopping\n",
      "1/1 [==============================] - 0s 7ms/step\n",
      "2/2 [==============================] - 0s 850us/step\n"
     ]
    },
    {
     "name": "stderr",
     "output_type": "stream",
     "text": [
      "/Users/joaodantas/anaconda3/envs/asa/lib/python3.8/site-packages/keras/src/engine/training.py:3000: UserWarning: You are saving your model as an HDF5 file via `model.save()`. This file format is considered legacy. We recommend using instead the native Keras format, e.g. `model.save('my_model.keras')`.\n",
      "  saving_api.save_model(\n"
     ]
    }
   ],
   "source": [
    "out = ml.full_cycle(X_test, X = X, y = y, name_model = 'NN', search = True, epochs = 500, patience = 10, remove_outlier=True)"
   ]
  },
  {
   "cell_type": "code",
   "execution_count": 17,
   "id": "c2361a0b-5306-4e4a-be13-5a4eb98e2d78",
   "metadata": {},
   "outputs": [
    {
     "data": {
      "text/plain": [
       "1"
      ]
     },
     "execution_count": 17,
     "metadata": {},
     "output_type": "execute_result"
    }
   ],
   "source": [
    "out = out.astype(int)\n",
    "y_pred = y_pred.astype(int)\n",
    "diff = out.compare(y_pred)\n",
    "len(diff)"
   ]
  },
  {
   "cell_type": "markdown",
   "id": "1369627d-00f8-42d6-abfd-cac58acc5c5a",
   "metadata": {},
   "source": [
    "#### Regression"
   ]
  },
  {
   "cell_type": "code",
   "execution_count": 18,
   "id": "8df2851d-78aa-4355-a9d8-075187dee8da",
   "metadata": {},
   "outputs": [],
   "source": [
    "# regression with two columns target\n",
    "X, y  = load_diabetes(as_frame=True, return_X_y=True)\n",
    "y = y.to_frame()"
   ]
  },
  {
   "cell_type": "code",
   "execution_count": 19,
   "id": "ea80dce6-a2e9-4853-9c8d-62d3b02c7119",
   "metadata": {},
   "outputs": [],
   "source": [
    "X_train, X_test, y_train, y_test = train_test_split(X, y, test_size=0.2)\n",
    "X = X_train\n",
    "y = y_train\n",
    "X_pred = X_test.reset_index(drop=True)\n",
    "y_pred = y_test.reset_index(drop=True)"
   ]
  },
  {
   "cell_type": "code",
   "execution_count": 20,
   "id": "0de84280-d5d9-4a8c-8e3d-e77d803ae3ca",
   "metadata": {},
   "outputs": [
    {
     "data": {
      "text/plain": [
       "'2023_12_19_(18-31-18)'"
      ]
     },
     "execution_count": 20,
     "metadata": {},
     "output_type": "execute_result"
    }
   ],
   "source": [
    "ml = asapy.AsaML()\n",
    "ml.dir_name"
   ]
  },
  {
   "cell_type": "code",
   "execution_count": 21,
   "id": "d30b41dc-1b5f-4ff0-8a71-9b2fab77b950",
   "metadata": {},
   "outputs": [
    {
     "name": "stdout",
     "output_type": "stream",
     "text": [
      "Trial 30 Complete [00h 00m 01s]\n",
      "val_loss: 3111.443603515625\n",
      "\n",
      "Best val_loss So Far: 2827.6806640625\n",
      "Total elapsed time: 00h 01m 34s\n",
      "INFO:tensorflow:Oracle triggered exit\n"
     ]
    },
    {
     "name": "stderr",
     "output_type": "stream",
     "text": [
      "INFO:tensorflow:Oracle triggered exit\n",
      "WARNING:absl:At this time, the v2.11+ optimizer `tf.keras.optimizers.Adam` runs slowly on M1/M2 Macs, please use the legacy Keras optimizer instead, located at `tf.keras.optimizers.legacy.Adam`.\n",
      "WARNING:absl:There is a known slowdown when using v2.11+ Keras optimizers on M1/M2 Macs. Falling back to the legacy Keras optimizer, i.e., `tf.keras.optimizers.legacy.Adam`.\n"
     ]
    },
    {
     "name": "stdout",
     "output_type": "stream",
     "text": [
      "Model: \"sequential_1\"\n",
      "_________________________________________________________________\n",
      " Layer (type)                Output Shape              Param #   \n",
      "=================================================================\n",
      " dense_11 (Dense)            (None, 57)                684       \n",
      "                                                                 \n",
      " dense_12 (Dense)            (None, 116)               6728      \n",
      "                                                                 \n",
      " dense_13 (Dense)            (None, 83)                9711      \n",
      "                                                                 \n",
      " dense_14 (Dense)            (None, 157)               13188     \n",
      "                                                                 \n",
      " dense_15 (Dense)            (None, 1)                 158       \n",
      "                                                                 \n",
      "=================================================================\n",
      "Total params: 30469 (119.02 KB)\n",
      "Trainable params: 30469 (119.02 KB)\n",
      "Non-trainable params: 0 (0.00 Byte)\n",
      "_________________________________________________________________\n",
      "Epoch 1/500\n",
      "8/8 [==============================] - 0s 10ms/step - loss: 21770.9180 - mean_squared_error: 21770.9180 - val_loss: 47644.6367 - val_mean_squared_error: 47644.6367\n",
      "Epoch 2/500\n",
      "8/8 [==============================] - 0s 2ms/step - loss: 17056.6406 - mean_squared_error: 17056.6406 - val_loss: 17396.3125 - val_mean_squared_error: 17396.3125\n",
      "Epoch 3/500\n",
      "8/8 [==============================] - 0s 2ms/step - loss: 15261.1348 - mean_squared_error: 15261.1348 - val_loss: 12547.2715 - val_mean_squared_error: 12547.2715\n",
      "Epoch 4/500\n",
      "8/8 [==============================] - 0s 2ms/step - loss: 6361.4189 - mean_squared_error: 6361.4189 - val_loss: 10425.1094 - val_mean_squared_error: 10425.1094\n",
      "Epoch 5/500\n",
      "8/8 [==============================] - 0s 2ms/step - loss: 4827.2812 - mean_squared_error: 4827.2812 - val_loss: 6902.4595 - val_mean_squared_error: 6902.4595\n",
      "Epoch 6/500\n",
      "8/8 [==============================] - 0s 2ms/step - loss: 5944.3066 - mean_squared_error: 5944.3066 - val_loss: 4952.8965 - val_mean_squared_error: 4952.8965\n",
      "Epoch 7/500\n",
      "8/8 [==============================] - 0s 2ms/step - loss: 4491.2466 - mean_squared_error: 4491.2466 - val_loss: 4429.2407 - val_mean_squared_error: 4429.2407\n",
      "Epoch 8/500\n",
      "8/8 [==============================] - 0s 2ms/step - loss: 4974.5649 - mean_squared_error: 4974.5649 - val_loss: 6829.2773 - val_mean_squared_error: 6829.2773\n",
      "Epoch 9/500\n",
      "8/8 [==============================] - 0s 2ms/step - loss: 4046.9861 - mean_squared_error: 4046.9861 - val_loss: 6759.8467 - val_mean_squared_error: 6759.8467\n",
      "Epoch 10/500\n",
      "8/8 [==============================] - 0s 2ms/step - loss: 3228.1594 - mean_squared_error: 3228.1594 - val_loss: 4918.6196 - val_mean_squared_error: 4918.6196\n",
      "Epoch 11/500\n",
      "8/8 [==============================] - 0s 2ms/step - loss: 3034.0381 - mean_squared_error: 3034.0381 - val_loss: 4311.0200 - val_mean_squared_error: 4311.0200\n",
      "Epoch 12/500\n",
      "8/8 [==============================] - 0s 2ms/step - loss: 2595.5505 - mean_squared_error: 2595.5505 - val_loss: 4314.8755 - val_mean_squared_error: 4314.8755\n",
      "Epoch 13/500\n",
      "8/8 [==============================] - 0s 2ms/step - loss: 2302.8274 - mean_squared_error: 2302.8274 - val_loss: 4468.4326 - val_mean_squared_error: 4468.4326\n",
      "Epoch 14/500\n",
      "8/8 [==============================] - 0s 2ms/step - loss: 2273.2488 - mean_squared_error: 2273.2488 - val_loss: 4475.3340 - val_mean_squared_error: 4475.3340\n",
      "Epoch 15/500\n",
      "8/8 [==============================] - 0s 2ms/step - loss: 2247.0505 - mean_squared_error: 2247.0505 - val_loss: 4382.1353 - val_mean_squared_error: 4382.1353\n",
      "Epoch 16/500\n",
      "8/8 [==============================] - 0s 2ms/step - loss: 2224.2605 - mean_squared_error: 2224.2605 - val_loss: 4311.0547 - val_mean_squared_error: 4311.0547\n",
      "Epoch 17/500\n",
      "8/8 [==============================] - 0s 2ms/step - loss: 2163.9822 - mean_squared_error: 2163.9822 - val_loss: 4253.9395 - val_mean_squared_error: 4253.9395\n",
      "Epoch 18/500\n",
      "8/8 [==============================] - 0s 2ms/step - loss: 2193.1384 - mean_squared_error: 2193.1384 - val_loss: 4200.8447 - val_mean_squared_error: 4200.8447\n",
      "Epoch 19/500\n",
      "8/8 [==============================] - 0s 2ms/step - loss: 2548.9863 - mean_squared_error: 2548.9863 - val_loss: 4759.9546 - val_mean_squared_error: 4759.9546\n",
      "Epoch 20/500\n",
      "8/8 [==============================] - 0s 2ms/step - loss: 2534.2117 - mean_squared_error: 2534.2117 - val_loss: 4412.3569 - val_mean_squared_error: 4412.3569\n",
      "Epoch 21/500\n",
      "8/8 [==============================] - 0s 2ms/step - loss: 2124.2639 - mean_squared_error: 2124.2639 - val_loss: 4464.9043 - val_mean_squared_error: 4464.9043\n",
      "Epoch 22/500\n",
      "8/8 [==============================] - 0s 2ms/step - loss: 2068.1462 - mean_squared_error: 2068.1462 - val_loss: 4431.4497 - val_mean_squared_error: 4431.4497\n",
      "Epoch 23/500\n",
      "8/8 [==============================] - 0s 2ms/step - loss: 1993.6118 - mean_squared_error: 1993.6118 - val_loss: 4311.2891 - val_mean_squared_error: 4311.2891\n",
      "Epoch 24/500\n",
      "8/8 [==============================] - 0s 2ms/step - loss: 1953.8480 - mean_squared_error: 1953.8480 - val_loss: 4435.5234 - val_mean_squared_error: 4435.5234\n",
      "Epoch 25/500\n",
      "8/8 [==============================] - 0s 2ms/step - loss: 2235.0840 - mean_squared_error: 2235.0840 - val_loss: 5062.2393 - val_mean_squared_error: 5062.2393\n",
      "Epoch 26/500\n",
      "8/8 [==============================] - 0s 2ms/step - loss: 2277.8696 - mean_squared_error: 2277.8696 - val_loss: 4515.4473 - val_mean_squared_error: 4515.4473\n",
      "Epoch 27/500\n",
      "8/8 [==============================] - 0s 2ms/step - loss: 1892.7744 - mean_squared_error: 1892.7744 - val_loss: 4488.3066 - val_mean_squared_error: 4488.3066\n",
      "Epoch 28/500\n",
      "8/8 [==============================] - 0s 2ms/step - loss: 1962.8690 - mean_squared_error: 1962.8690 - val_loss: 4524.8804 - val_mean_squared_error: 4524.8804\n",
      "Epoch 28: early stopping\n",
      "3/3 [==============================] - 0s 670us/step\n",
      "Epoch 1/500\n",
      "8/8 [==============================] - 0s 4ms/step - loss: 3048.9287 - mean_squared_error: 3048.9287 - val_loss: 2081.1448 - val_mean_squared_error: 2081.1448\n",
      "Epoch 2/500\n",
      "8/8 [==============================] - 0s 2ms/step - loss: 2741.1899 - mean_squared_error: 2741.1899 - val_loss: 1972.9684 - val_mean_squared_error: 1972.9684\n",
      "Epoch 3/500\n",
      "8/8 [==============================] - 0s 2ms/step - loss: 2553.0996 - mean_squared_error: 2553.0996 - val_loss: 2480.7822 - val_mean_squared_error: 2480.7822\n",
      "Epoch 4/500\n",
      "8/8 [==============================] - 0s 2ms/step - loss: 3840.7039 - mean_squared_error: 3840.7039 - val_loss: 3054.6338 - val_mean_squared_error: 3054.6338\n",
      "Epoch 5/500\n",
      "8/8 [==============================] - 0s 2ms/step - loss: 2913.7944 - mean_squared_error: 2913.7944 - val_loss: 3019.5586 - val_mean_squared_error: 3019.5586\n",
      "Epoch 6/500\n",
      "8/8 [==============================] - 0s 2ms/step - loss: 3717.6006 - mean_squared_error: 3717.6006 - val_loss: 3627.8909 - val_mean_squared_error: 3627.8909\n",
      "Epoch 7/500\n",
      "8/8 [==============================] - 0s 2ms/step - loss: 3521.6599 - mean_squared_error: 3521.6599 - val_loss: 4598.3604 - val_mean_squared_error: 4598.3604\n",
      "Epoch 8/500\n",
      "8/8 [==============================] - 0s 2ms/step - loss: 4259.6240 - mean_squared_error: 4259.6240 - val_loss: 2487.7405 - val_mean_squared_error: 2487.7405\n",
      "Epoch 9/500\n",
      "8/8 [==============================] - 0s 2ms/step - loss: 2802.9917 - mean_squared_error: 2802.9917 - val_loss: 2080.3767 - val_mean_squared_error: 2080.3767\n",
      "Epoch 10/500\n",
      "8/8 [==============================] - 0s 2ms/step - loss: 3762.9495 - mean_squared_error: 3762.9495 - val_loss: 2917.2859 - val_mean_squared_error: 2917.2859\n",
      "Epoch 11/500\n",
      "8/8 [==============================] - 0s 2ms/step - loss: 2948.7402 - mean_squared_error: 2948.7402 - val_loss: 2126.7437 - val_mean_squared_error: 2126.7437\n",
      "Epoch 12/500\n",
      "8/8 [==============================] - 0s 2ms/step - loss: 2727.3369 - mean_squared_error: 2727.3369 - val_loss: 2189.0154 - val_mean_squared_error: 2189.0154\n",
      "Epoch 12: early stopping\n",
      "3/3 [==============================] - 0s 619us/step\n",
      "Epoch 1/500\n",
      "8/8 [==============================] - 0s 4ms/step - loss: 2594.1597 - mean_squared_error: 2594.1597 - val_loss: 1242.1501 - val_mean_squared_error: 1242.1501\n",
      "Epoch 2/500\n",
      "8/8 [==============================] - 0s 2ms/step - loss: 2482.0391 - mean_squared_error: 2482.0391 - val_loss: 1825.8262 - val_mean_squared_error: 1825.8262\n",
      "Epoch 3/500\n",
      "8/8 [==============================] - 0s 2ms/step - loss: 2359.9307 - mean_squared_error: 2359.9307 - val_loss: 1443.6619 - val_mean_squared_error: 1443.6619\n",
      "Epoch 4/500\n",
      "8/8 [==============================] - 0s 2ms/step - loss: 2907.7507 - mean_squared_error: 2907.7507 - val_loss: 2210.5015 - val_mean_squared_error: 2210.5015\n",
      "Epoch 5/500\n",
      "8/8 [==============================] - 0s 2ms/step - loss: 2446.3696 - mean_squared_error: 2446.3696 - val_loss: 1459.2761 - val_mean_squared_error: 1459.2761\n",
      "Epoch 6/500\n",
      "8/8 [==============================] - 0s 2ms/step - loss: 2505.9521 - mean_squared_error: 2505.9521 - val_loss: 1531.1664 - val_mean_squared_error: 1531.1664\n",
      "Epoch 7/500\n",
      "8/8 [==============================] - 0s 2ms/step - loss: 2362.7644 - mean_squared_error: 2362.7644 - val_loss: 3223.7617 - val_mean_squared_error: 3223.7617\n",
      "Epoch 8/500\n",
      "8/8 [==============================] - 0s 2ms/step - loss: 3217.6375 - mean_squared_error: 3217.6375 - val_loss: 1423.1935 - val_mean_squared_error: 1423.1935\n",
      "Epoch 9/500\n",
      "8/8 [==============================] - 0s 2ms/step - loss: 2310.5798 - mean_squared_error: 2310.5798 - val_loss: 1801.9570 - val_mean_squared_error: 1801.9570\n",
      "Epoch 10/500\n",
      "8/8 [==============================] - 0s 2ms/step - loss: 2141.6604 - mean_squared_error: 2141.6604 - val_loss: 1510.1891 - val_mean_squared_error: 1510.1891\n",
      "Epoch 11/500\n",
      "8/8 [==============================] - 0s 2ms/step - loss: 2056.7385 - mean_squared_error: 2056.7385 - val_loss: 1277.3407 - val_mean_squared_error: 1277.3407\n",
      "Epoch 11: early stopping\n",
      "3/3 [==============================] - 0s 674us/step\n",
      "Epoch 1/500\n",
      "8/8 [==============================] - 0s 4ms/step - loss: 2408.1680 - mean_squared_error: 2408.1680 - val_loss: 1687.5260 - val_mean_squared_error: 1687.5260\n",
      "Epoch 2/500\n",
      "8/8 [==============================] - 0s 2ms/step - loss: 1909.0403 - mean_squared_error: 1909.0403 - val_loss: 2599.9109 - val_mean_squared_error: 2599.9109\n",
      "Epoch 3/500\n",
      "8/8 [==============================] - 0s 2ms/step - loss: 1930.0076 - mean_squared_error: 1930.0076 - val_loss: 1932.5537 - val_mean_squared_error: 1932.5536\n",
      "Epoch 4/500\n",
      "8/8 [==============================] - 0s 2ms/step - loss: 1970.4500 - mean_squared_error: 1970.4500 - val_loss: 3512.5574 - val_mean_squared_error: 3512.5574\n",
      "Epoch 5/500\n",
      "8/8 [==============================] - 0s 2ms/step - loss: 2226.8909 - mean_squared_error: 2226.8909 - val_loss: 2037.9011 - val_mean_squared_error: 2037.9010\n",
      "Epoch 6/500\n",
      "8/8 [==============================] - 0s 2ms/step - loss: 1781.2947 - mean_squared_error: 1781.2947 - val_loss: 2437.9609 - val_mean_squared_error: 2437.9609\n",
      "Epoch 7/500\n",
      "8/8 [==============================] - 0s 2ms/step - loss: 1863.7007 - mean_squared_error: 1863.7007 - val_loss: 3090.2153 - val_mean_squared_error: 3090.2153\n",
      "Epoch 8/500\n",
      "8/8 [==============================] - 0s 2ms/step - loss: 1967.6876 - mean_squared_error: 1967.6876 - val_loss: 2725.3184 - val_mean_squared_error: 2725.3184\n",
      "Epoch 9/500\n",
      "8/8 [==============================] - 0s 2ms/step - loss: 1668.7999 - mean_squared_error: 1668.7999 - val_loss: 2498.8809 - val_mean_squared_error: 2498.8809\n",
      "Epoch 10/500\n",
      "8/8 [==============================] - 0s 2ms/step - loss: 1733.4492 - mean_squared_error: 1733.4492 - val_loss: 4058.5234 - val_mean_squared_error: 4058.5234\n",
      "Epoch 11/500\n",
      "8/8 [==============================] - 0s 2ms/step - loss: 1874.7955 - mean_squared_error: 1874.7955 - val_loss: 3020.7336 - val_mean_squared_error: 3020.7336\n",
      "Epoch 11: early stopping\n",
      "3/3 [==============================] - 0s 722us/step\n",
      "Epoch 1/500\n",
      "8/8 [==============================] - 0s 4ms/step - loss: 2738.3601 - mean_squared_error: 2738.3601 - val_loss: 1626.9268 - val_mean_squared_error: 1626.9268\n",
      "Epoch 2/500\n",
      "8/8 [==============================] - 0s 2ms/step - loss: 2817.6714 - mean_squared_error: 2817.6714 - val_loss: 3614.5039 - val_mean_squared_error: 3614.5039\n",
      "Epoch 3/500\n",
      "8/8 [==============================] - 0s 2ms/step - loss: 3086.3162 - mean_squared_error: 3086.3162 - val_loss: 3994.6255 - val_mean_squared_error: 3994.6255\n",
      "Epoch 4/500\n",
      "8/8 [==============================] - 0s 2ms/step - loss: 2648.5779 - mean_squared_error: 2648.5779 - val_loss: 2246.1584 - val_mean_squared_error: 2246.1584\n",
      "Epoch 5/500\n",
      "8/8 [==============================] - 0s 2ms/step - loss: 2008.9694 - mean_squared_error: 2008.9694 - val_loss: 2603.9907 - val_mean_squared_error: 2603.9907\n",
      "Epoch 6/500\n",
      "8/8 [==============================] - 0s 2ms/step - loss: 1777.0093 - mean_squared_error: 1777.0093 - val_loss: 2154.0405 - val_mean_squared_error: 2154.0405\n",
      "Epoch 7/500\n",
      "8/8 [==============================] - 0s 2ms/step - loss: 1717.7903 - mean_squared_error: 1717.7903 - val_loss: 2037.6283 - val_mean_squared_error: 2037.6283\n",
      "Epoch 8/500\n",
      "8/8 [==============================] - 0s 2ms/step - loss: 1610.5186 - mean_squared_error: 1610.5186 - val_loss: 1786.3602 - val_mean_squared_error: 1786.3602\n",
      "Epoch 9/500\n",
      "8/8 [==============================] - 0s 2ms/step - loss: 1654.8798 - mean_squared_error: 1654.8798 - val_loss: 1858.5597 - val_mean_squared_error: 1858.5597\n",
      "Epoch 10/500\n",
      "8/8 [==============================] - 0s 2ms/step - loss: 1611.2950 - mean_squared_error: 1611.2950 - val_loss: 3858.4688 - val_mean_squared_error: 3858.4688\n",
      "Epoch 11/500\n",
      "8/8 [==============================] - 0s 2ms/step - loss: 1954.1643 - mean_squared_error: 1954.1643 - val_loss: 2210.9109 - val_mean_squared_error: 2210.9109\n",
      "Epoch 11: early stopping\n",
      "3/3 [==============================] - 0s 607us/step\n",
      "3/3 [==============================] - 0s 624us/step\n"
     ]
    },
    {
     "name": "stderr",
     "output_type": "stream",
     "text": [
      "/Users/joaodantas/anaconda3/envs/asa/lib/python3.8/site-packages/keras/src/engine/training.py:3000: UserWarning: You are saving your model as an HDF5 file via `model.save()`. This file format is considered legacy. We recommend using instead the native Keras format, e.g. `model.save('my_model.keras')`.\n",
      "  saving_api.save_model(\n"
     ]
    }
   ],
   "source": [
    "out = ml.full_cycle(X_test, X = X, y = y, name_model = 'NN', search = True, epochs = 500, patience = 10, remove_outlier=True)"
   ]
  },
  {
   "cell_type": "code",
   "execution_count": 22,
   "id": "091fb3c2-53f6-4d23-928b-3176e8b8370a",
   "metadata": {},
   "outputs": [
    {
     "data": {
      "image/png": "[encoded data removed]",
      "text/plain": [
       "<Figure size 640x480 with 1 Axes>"
      ]
     },
     "metadata": {},
     "output_type": "display_data"
    }
   ],
   "source": [
    "from matplotlib import pyplot as plt\n",
    "error = out - y_pred\n",
    "plt.hist(error, bins = 25)\n",
    "plt.xlabel(\"Prediction Error\")\n",
    "_ = plt.ylabel(\"Count\")"
   ]
  },
  {
   "cell_type": "markdown",
   "id": "91dcb961",
   "metadata": {},
   "source": [
    "#### Load model"
   ]
  },
  {
   "cell_type": "code",
   "execution_count": 23,
   "id": "d748ccf6",
   "metadata": {},
   "outputs": [],
   "source": [
    "# regression with two columns target\n",
    "X, y  = load_diabetes(as_frame=True, return_X_y=True)\n",
    "y = y.to_frame()"
   ]
  },
  {
   "cell_type": "code",
   "execution_count": 24,
   "id": "a7e51de3",
   "metadata": {},
   "outputs": [],
   "source": [
    "X_train, X_test, y_train, y_test = train_test_split(X, y, test_size=0.2)\n",
    "X = X_train\n",
    "y = y_train\n",
    "X_pred = X_test.reset_index(drop=True)\n",
    "y_pred = y_test.reset_index(drop=True)"
   ]
  },
  {
   "cell_type": "code",
   "execution_count": 25,
   "id": "53e6491a",
   "metadata": {},
   "outputs": [],
   "source": [
    "ml = asapy.AsaML()"
   ]
  },
  {
   "cell_type": "code",
   "execution_count": 26,
   "id": "67a124c7",
   "metadata": {},
   "outputs": [],
   "source": [
    "import os \n",
    "newest_subfolder = max((sub for sub in os.listdir('models') if os.path.isdir(os.path.join('models', sub))), key=lambda x: os.path.getmtime(os.path.join('models', x)), default=None)"
   ]
  },
  {
   "cell_type": "code",
   "execution_count": 27,
   "id": "ba8adace",
   "metadata": {},
   "outputs": [
    {
     "data": {
      "text/plain": [
       "'2023_12_19_(18-31-18)'"
      ]
     },
     "execution_count": 27,
     "metadata": {},
     "output_type": "execute_result"
    }
   ],
   "source": [
    "newest_subfolder"
   ]
  },
  {
   "cell_type": "code",
   "execution_count": 28,
   "id": "07e4bdfd",
   "metadata": {},
   "outputs": [
    {
     "name": "stdout",
     "output_type": "stream",
     "text": [
      "3/3 [==============================] - 0s 711us/step\n"
     ]
    }
   ],
   "source": [
    "out = ml.full_cycle(X_test,load = True,  path = f'./models/{newest_subfolder}')"
   ]
  },
  {
   "cell_type": "code",
   "execution_count": 29,
   "id": "4949860e",
   "metadata": {},
   "outputs": [
    {
     "data": {
      "image/png": "[encoded data removed]",
      "text/plain": [
       "<Figure size 640x480 with 1 Axes>"
      ]
     },
     "metadata": {},
     "output_type": "display_data"
    }
   ],
   "source": [
    "from matplotlib import pyplot as plt\n",
    "error = out - y_pred\n",
    "plt.hist(error, bins = 25)\n",
    "plt.xlabel(\"Prediction Error\")\n",
    "_ = plt.ylabel(\"Count\")"
   ]
  },
  {
   "cell_type": "markdown",
   "id": "5ec1f171-3afb-40c8-b92d-11c5afd54037",
   "metadata": {},
   "source": [
    "#### Inserting the hyperparametes"
   ]
  },
  {
   "cell_type": "code",
   "execution_count": 30,
   "id": "cc1c02fb-ec58-425f-98f3-46647449797c",
   "metadata": {},
   "outputs": [],
   "source": [
    "# multi-cat classification\n",
    "X, y  = load_wine(as_frame=True, return_X_y=True)\n",
    "y = y.to_frame()"
   ]
  },
  {
   "cell_type": "code",
   "execution_count": 31,
   "id": "dfa2ca88-d5e9-4dc0-abb5-c5310238d801",
   "metadata": {},
   "outputs": [],
   "source": [
    "X_train, X_test, y_train, y_test = train_test_split(X, y, test_size=0.2)\n",
    "X = X_train\n",
    "y = y_train\n",
    "X_pred = X_test.reset_index(drop=True)\n",
    "y_pred = y_test.reset_index(drop=True)"
   ]
  },
  {
   "cell_type": "code",
   "execution_count": 32,
   "id": "cb1dc50b-c435-4896-9639-7b42104d34c7",
   "metadata": {},
   "outputs": [],
   "source": [
    "ml = asapy.AsaML()"
   ]
  },
  {
   "cell_type": "code",
   "execution_count": 33,
   "id": "a0fe7a2d-256a-47e4-9dbe-2c30c0de2ec2",
   "metadata": {},
   "outputs": [
    {
     "name": "stderr",
     "output_type": "stream",
     "text": [
      "WARNING:absl:At this time, the v2.11+ optimizer `tf.keras.optimizers.Adam` runs slowly on M1/M2 Macs, please use the legacy Keras optimizer instead, located at `tf.keras.optimizers.legacy.Adam`.\n",
      "WARNING:absl:There is a known slowdown when using v2.11+ Keras optimizers on M1/M2 Macs. Falling back to the legacy Keras optimizer, i.e., `tf.keras.optimizers.legacy.Adam`.\n"
     ]
    },
    {
     "name": "stdout",
     "output_type": "stream",
     "text": [
      "Removed 0 rows.\n",
      "\n",
      "Model: \"sequential_2\"\n",
      "_________________________________________________________________\n",
      " Layer (type)                Output Shape              Param #   \n",
      "=================================================================\n",
      " dense_16 (Dense)            (None, 64)                896       \n",
      "                                                                 \n",
      " dense_17 (Dense)            (None, 64)                4160      \n",
      "                                                                 \n",
      " dense_18 (Dense)            (None, 3)                 195       \n",
      "                                                                 \n",
      "=================================================================\n",
      "Total params: 5251 (20.51 KB)\n",
      "Trainable params: 5251 (20.51 KB)\n",
      "Non-trainable params: 0 (0.00 Byte)\n",
      "_________________________________________________________________\n",
      "Epoch 1/500\n",
      "3/3 [==============================] - 0s 34ms/step - loss: 3.2096 - accuracy: 0.3556 - val_loss: 2.6195 - val_accuracy: 0.3913\n",
      "Epoch 2/500\n",
      "3/3 [==============================] - 0s 5ms/step - loss: 2.6742 - accuracy: 0.4222 - val_loss: 2.2987 - val_accuracy: 0.4348\n",
      "Epoch 3/500\n",
      "3/3 [==============================] - 0s 5ms/step - loss: 2.2043 - accuracy: 0.5222 - val_loss: 2.2129 - val_accuracy: 0.5217\n",
      "Epoch 4/500\n",
      "3/3 [==============================] - 0s 5ms/step - loss: 2.0562 - accuracy: 0.5889 - val_loss: 2.0735 - val_accuracy: 0.5652\n",
      "Epoch 5/500\n",
      "3/3 [==============================] - 0s 5ms/step - loss: 1.9878 - accuracy: 0.6000 - val_loss: 1.9737 - val_accuracy: 0.6087\n",
      "Epoch 6/500\n",
      "3/3 [==============================] - 0s 5ms/step - loss: 1.9563 - accuracy: 0.6000 - val_loss: 1.9445 - val_accuracy: 0.6087\n",
      "Epoch 7/500\n",
      "3/3 [==============================] - 0s 5ms/step - loss: 1.9339 - accuracy: 0.6111 - val_loss: 1.7734 - val_accuracy: 0.6087\n",
      "Epoch 8/500\n",
      "3/3 [==============================] - 0s 5ms/step - loss: 1.8350 - accuracy: 0.6333 - val_loss: 1.5536 - val_accuracy: 0.6087\n",
      "Epoch 9/500\n",
      "3/3 [==============================] - 0s 5ms/step - loss: 1.7391 - accuracy: 0.6444 - val_loss: 1.4947 - val_accuracy: 0.7391\n",
      "Epoch 10/500\n",
      "3/3 [==============================] - 0s 5ms/step - loss: 1.4104 - accuracy: 0.7222 - val_loss: 1.1246 - val_accuracy: 0.7826\n",
      "Epoch 11/500\n",
      "3/3 [==============================] - 0s 5ms/step - loss: 1.3788 - accuracy: 0.7667 - val_loss: 0.7207 - val_accuracy: 0.8261\n",
      "Epoch 12/500\n",
      "3/3 [==============================] - 0s 5ms/step - loss: 1.1354 - accuracy: 0.8333 - val_loss: 0.4527 - val_accuracy: 0.9130\n",
      "Epoch 13/500\n",
      "3/3 [==============================] - 0s 5ms/step - loss: 0.9595 - accuracy: 0.8444 - val_loss: 0.3952 - val_accuracy: 0.9565\n",
      "Epoch 14/500\n",
      "3/3 [==============================] - 0s 5ms/step - loss: 0.7473 - accuracy: 0.8667 - val_loss: 0.3571 - val_accuracy: 0.9565\n",
      "Epoch 15/500\n",
      "3/3 [==============================] - 0s 5ms/step - loss: 0.5277 - accuracy: 0.9000 - val_loss: 0.3312 - val_accuracy: 0.9565\n",
      "Epoch 16/500\n",
      "3/3 [==============================] - 0s 5ms/step - loss: 0.2986 - accuracy: 0.9222 - val_loss: 0.3149 - val_accuracy: 0.9565\n",
      "Epoch 17/500\n",
      "3/3 [==============================] - 0s 5ms/step - loss: 0.2598 - accuracy: 0.9667 - val_loss: 0.1642 - val_accuracy: 0.9565\n",
      "Epoch 18/500\n",
      "3/3 [==============================] - 0s 5ms/step - loss: 0.2413 - accuracy: 0.9778 - val_loss: 0.1010 - val_accuracy: 0.9565\n",
      "Epoch 19/500\n",
      "3/3 [==============================] - 0s 5ms/step - loss: 0.1831 - accuracy: 0.9889 - val_loss: 0.0851 - val_accuracy: 1.0000\n",
      "Epoch 20/500\n",
      "3/3 [==============================] - 0s 5ms/step - loss: 0.1271 - accuracy: 0.9889 - val_loss: 0.0730 - val_accuracy: 1.0000\n",
      "Epoch 21/500\n",
      "3/3 [==============================] - 0s 5ms/step - loss: 0.1062 - accuracy: 1.0000 - val_loss: 0.0641 - val_accuracy: 1.0000\n",
      "Epoch 22/500\n",
      "3/3 [==============================] - 0s 5ms/step - loss: 0.0914 - accuracy: 1.0000 - val_loss: 0.0561 - val_accuracy: 1.0000\n",
      "Epoch 23/500\n",
      "3/3 [==============================] - 0s 5ms/step - loss: 0.0804 - accuracy: 1.0000 - val_loss: 0.0487 - val_accuracy: 1.0000\n",
      "Epoch 24/500\n",
      "3/3 [==============================] - 0s 5ms/step - loss: 0.0712 - accuracy: 1.0000 - val_loss: 0.0428 - val_accuracy: 1.0000\n",
      "Epoch 25/500\n",
      "3/3 [==============================] - 0s 5ms/step - loss: 0.0638 - accuracy: 1.0000 - val_loss: 0.0380 - val_accuracy: 1.0000\n",
      "Epoch 26/500\n",
      "3/3 [==============================] - 0s 5ms/step - loss: 0.0575 - accuracy: 1.0000 - val_loss: 0.0336 - val_accuracy: 1.0000\n",
      "Epoch 27/500\n",
      "3/3 [==============================] - 0s 5ms/step - loss: 0.0524 - accuracy: 1.0000 - val_loss: 0.0302 - val_accuracy: 1.0000\n",
      "Epoch 28/500\n",
      "3/3 [==============================] - 0s 5ms/step - loss: 0.0476 - accuracy: 1.0000 - val_loss: 0.0275 - val_accuracy: 1.0000\n",
      "Epoch 29/500\n",
      "3/3 [==============================] - 0s 6ms/step - loss: 0.0435 - accuracy: 1.0000 - val_loss: 0.0251 - val_accuracy: 1.0000\n",
      "Epoch 30/500\n",
      "3/3 [==============================] - 0s 5ms/step - loss: 0.0402 - accuracy: 1.0000 - val_loss: 0.0229 - val_accuracy: 1.0000\n",
      "Epoch 31/500\n",
      "3/3 [==============================] - 0s 5ms/step - loss: 0.0375 - accuracy: 1.0000 - val_loss: 0.0213 - val_accuracy: 1.0000\n",
      "Epoch 32/500\n",
      "3/3 [==============================] - 0s 5ms/step - loss: 0.0350 - accuracy: 1.0000 - val_loss: 0.0201 - val_accuracy: 1.0000\n",
      "Epoch 33/500\n",
      "3/3 [==============================] - 0s 5ms/step - loss: 0.0331 - accuracy: 1.0000 - val_loss: 0.0192 - val_accuracy: 1.0000\n",
      "Epoch 34/500\n",
      "3/3 [==============================] - 0s 5ms/step - loss: 0.0308 - accuracy: 1.0000 - val_loss: 0.0185 - val_accuracy: 1.0000\n",
      "Epoch 35/500\n",
      "3/3 [==============================] - 0s 5ms/step - loss: 0.0288 - accuracy: 1.0000 - val_loss: 0.0178 - val_accuracy: 1.0000\n",
      "Epoch 36/500\n",
      "3/3 [==============================] - 0s 5ms/step - loss: 0.0272 - accuracy: 1.0000 - val_loss: 0.0171 - val_accuracy: 1.0000\n",
      "Epoch 37/500\n",
      "3/3 [==============================] - 0s 5ms/step - loss: 0.0255 - accuracy: 1.0000 - val_loss: 0.0165 - val_accuracy: 1.0000\n",
      "Epoch 38/500\n",
      "3/3 [==============================] - 0s 5ms/step - loss: 0.0238 - accuracy: 1.0000 - val_loss: 0.0162 - val_accuracy: 1.0000\n",
      "Epoch 39/500\n",
      "3/3 [==============================] - 0s 5ms/step - loss: 0.0223 - accuracy: 1.0000 - val_loss: 0.0160 - val_accuracy: 1.0000\n",
      "Epoch 40/500\n",
      "3/3 [==============================] - 0s 5ms/step - loss: 0.0210 - accuracy: 1.0000 - val_loss: 0.0159 - val_accuracy: 1.0000\n",
      "Epoch 41/500\n",
      "3/3 [==============================] - 0s 5ms/step - loss: 0.0197 - accuracy: 1.0000 - val_loss: 0.0158 - val_accuracy: 1.0000\n",
      "Epoch 42/500\n",
      "3/3 [==============================] - 0s 5ms/step - loss: 0.0184 - accuracy: 1.0000 - val_loss: 0.0156 - val_accuracy: 1.0000\n",
      "Epoch 43/500\n",
      "3/3 [==============================] - 0s 5ms/step - loss: 0.0172 - accuracy: 1.0000 - val_loss: 0.0154 - val_accuracy: 1.0000\n",
      "Epoch 44/500\n",
      "3/3 [==============================] - 0s 5ms/step - loss: 0.0162 - accuracy: 1.0000 - val_loss: 0.0150 - val_accuracy: 1.0000\n",
      "Epoch 45/500\n",
      "3/3 [==============================] - 0s 5ms/step - loss: 0.0153 - accuracy: 1.0000 - val_loss: 0.0146 - val_accuracy: 1.0000\n",
      "Epoch 46/500\n",
      "3/3 [==============================] - 0s 5ms/step - loss: 0.0143 - accuracy: 1.0000 - val_loss: 0.0141 - val_accuracy: 1.0000\n",
      "Epoch 47/500\n",
      "3/3 [==============================] - 0s 5ms/step - loss: 0.0136 - accuracy: 1.0000 - val_loss: 0.0138 - val_accuracy: 1.0000\n",
      "Epoch 48/500\n",
      "3/3 [==============================] - 0s 5ms/step - loss: 0.0125 - accuracy: 1.0000 - val_loss: 0.0135 - val_accuracy: 1.0000\n",
      "Epoch 49/500\n",
      "3/3 [==============================] - 0s 5ms/step - loss: 0.0117 - accuracy: 1.0000 - val_loss: 0.0132 - val_accuracy: 1.0000\n",
      "Epoch 50/500\n",
      "3/3 [==============================] - 0s 5ms/step - loss: 0.0110 - accuracy: 1.0000 - val_loss: 0.0130 - val_accuracy: 1.0000\n",
      "Epoch 51/500\n",
      "3/3 [==============================] - 0s 5ms/step - loss: 0.0102 - accuracy: 1.0000 - val_loss: 0.0128 - val_accuracy: 1.0000\n",
      "Epoch 52/500\n",
      "3/3 [==============================] - 0s 5ms/step - loss: 0.0096 - accuracy: 1.0000 - val_loss: 0.0128 - val_accuracy: 1.0000\n",
      "Epoch 53/500\n",
      "3/3 [==============================] - 0s 5ms/step - loss: 0.0089 - accuracy: 1.0000 - val_loss: 0.0127 - val_accuracy: 1.0000\n",
      "Epoch 54/500\n",
      "3/3 [==============================] - 0s 5ms/step - loss: 0.0082 - accuracy: 1.0000 - val_loss: 0.0127 - val_accuracy: 1.0000\n",
      "Epoch 55/500\n",
      "3/3 [==============================] - 0s 5ms/step - loss: 0.0076 - accuracy: 1.0000 - val_loss: 0.0126 - val_accuracy: 1.0000\n",
      "Epoch 56/500\n",
      "3/3 [==============================] - 0s 5ms/step - loss: 0.0071 - accuracy: 1.0000 - val_loss: 0.0127 - val_accuracy: 1.0000\n",
      "Epoch 57/500\n",
      "3/3 [==============================] - 0s 5ms/step - loss: 0.0067 - accuracy: 1.0000 - val_loss: 0.0128 - val_accuracy: 1.0000\n",
      "Epoch 58/500\n",
      "3/3 [==============================] - 0s 5ms/step - loss: 0.0062 - accuracy: 1.0000 - val_loss: 0.0128 - val_accuracy: 1.0000\n",
      "Epoch 59/500\n",
      "3/3 [==============================] - 0s 5ms/step - loss: 0.0057 - accuracy: 1.0000 - val_loss: 0.0128 - val_accuracy: 1.0000\n",
      "Epoch 60/500\n",
      "3/3 [==============================] - 0s 5ms/step - loss: 0.0052 - accuracy: 1.0000 - val_loss: 0.0128 - val_accuracy: 1.0000\n",
      "Epoch 60: early stopping\n",
      "1/1 [==============================] - 0s 21ms/step\n",
      "Epoch 1/500\n",
      "3/3 [==============================] - 0s 11ms/step - loss: 0.0064 - accuracy: 1.0000 - val_loss: 0.0065 - val_accuracy: 1.0000\n",
      "Epoch 2/500\n",
      "3/3 [==============================] - 0s 5ms/step - loss: 0.0059 - accuracy: 1.0000 - val_loss: 0.0065 - val_accuracy: 1.0000\n",
      "Epoch 3/500\n",
      "3/3 [==============================] - 0s 6ms/step - loss: 0.0051 - accuracy: 1.0000 - val_loss: 0.0064 - val_accuracy: 1.0000\n",
      "Epoch 4/500\n",
      "3/3 [==============================] - 0s 5ms/step - loss: 0.0044 - accuracy: 1.0000 - val_loss: 0.0065 - val_accuracy: 1.0000\n",
      "Epoch 5/500\n",
      "3/3 [==============================] - 0s 6ms/step - loss: 0.0034 - accuracy: 1.0000 - val_loss: 0.0067 - val_accuracy: 1.0000\n",
      "Epoch 6/500\n",
      "3/3 [==============================] - 0s 5ms/step - loss: 0.0028 - accuracy: 1.0000 - val_loss: 0.0069 - val_accuracy: 1.0000\n",
      "Epoch 7/500\n",
      "3/3 [==============================] - 0s 5ms/step - loss: 0.0025 - accuracy: 1.0000 - val_loss: 0.0070 - val_accuracy: 1.0000\n",
      "Epoch 8/500\n",
      "3/3 [==============================] - 0s 5ms/step - loss: 0.0021 - accuracy: 1.0000 - val_loss: 0.0071 - val_accuracy: 1.0000\n",
      "Epoch 8: early stopping\n",
      "1/1 [==============================] - 0s 7ms/step\n",
      "Epoch 1/500\n",
      "3/3 [==============================] - 0s 12ms/step - loss: 0.0026 - accuracy: 1.0000 - val_loss: 0.0037 - val_accuracy: 1.0000\n",
      "Epoch 2/500\n",
      "3/3 [==============================] - 0s 5ms/step - loss: 0.0023 - accuracy: 1.0000 - val_loss: 0.0035 - val_accuracy: 1.0000\n",
      "Epoch 3/500\n",
      "3/3 [==============================] - 0s 5ms/step - loss: 0.0020 - accuracy: 1.0000 - val_loss: 0.0032 - val_accuracy: 1.0000\n",
      "Epoch 4/500\n",
      "3/3 [==============================] - 0s 5ms/step - loss: 0.0017 - accuracy: 1.0000 - val_loss: 0.0030 - val_accuracy: 1.0000\n",
      "Epoch 5/500\n",
      "3/3 [==============================] - 0s 5ms/step - loss: 0.0014 - accuracy: 1.0000 - val_loss: 0.0028 - val_accuracy: 1.0000\n",
      "Epoch 6/500\n",
      "3/3 [==============================] - 0s 5ms/step - loss: 0.0012 - accuracy: 1.0000 - val_loss: 0.0027 - val_accuracy: 1.0000\n",
      "Epoch 7/500\n",
      "3/3 [==============================] - 0s 5ms/step - loss: 9.4673e-04 - accuracy: 1.0000 - val_loss: 0.0025 - val_accuracy: 1.0000\n",
      "Epoch 8/500\n",
      "3/3 [==============================] - 0s 5ms/step - loss: 7.8054e-04 - accuracy: 1.0000 - val_loss: 0.0025 - val_accuracy: 1.0000\n",
      "Epoch 9/500\n",
      "3/3 [==============================] - 0s 5ms/step - loss: 6.6860e-04 - accuracy: 1.0000 - val_loss: 0.0025 - val_accuracy: 1.0000\n",
      "Epoch 10/500\n",
      "3/3 [==============================] - 0s 5ms/step - loss: 5.6949e-04 - accuracy: 1.0000 - val_loss: 0.0026 - val_accuracy: 1.0000\n",
      "Epoch 11/500\n",
      "3/3 [==============================] - 0s 5ms/step - loss: 4.1599e-04 - accuracy: 1.0000 - val_loss: 0.0026 - val_accuracy: 1.0000\n",
      "Epoch 12/500\n",
      "3/3 [==============================] - 0s 5ms/step - loss: 3.5881e-04 - accuracy: 1.0000 - val_loss: 0.0028 - val_accuracy: 1.0000\n",
      "Epoch 13/500\n",
      "3/3 [==============================] - 0s 5ms/step - loss: 2.8489e-04 - accuracy: 1.0000 - val_loss: 0.0029 - val_accuracy: 1.0000\n",
      "Epoch 13: early stopping\n",
      "1/1 [==============================] - 0s 10ms/step\n",
      "Epoch 1/500\n",
      "3/3 [==============================] - 0s 12ms/step - loss: 9.6482e-04 - accuracy: 1.0000 - val_loss: 0.0000e+00 - val_accuracy: 1.0000\n",
      "Epoch 2/500\n",
      "3/3 [==============================] - 0s 5ms/step - loss: 7.8758e-04 - accuracy: 1.0000 - val_loss: 0.0000e+00 - val_accuracy: 1.0000\n",
      "Epoch 3/500\n",
      "3/3 [==============================] - 0s 5ms/step - loss: 7.0615e-04 - accuracy: 1.0000 - val_loss: 0.0000e+00 - val_accuracy: 1.0000\n",
      "Epoch 4/500\n",
      "3/3 [==============================] - 0s 5ms/step - loss: 5.6646e-04 - accuracy: 1.0000 - val_loss: 1.0180e-04 - val_accuracy: 1.0000\n",
      "Epoch 5/500\n",
      "3/3 [==============================] - 0s 5ms/step - loss: 4.3420e-04 - accuracy: 1.0000 - val_loss: 1.8341e-04 - val_accuracy: 1.0000\n",
      "Epoch 6/500\n",
      "3/3 [==============================] - 0s 5ms/step - loss: 3.3227e-04 - accuracy: 1.0000 - val_loss: 2.9633e-04 - val_accuracy: 1.0000\n",
      "Epoch 6: early stopping\n",
      "1/1 [==============================] - 0s 7ms/step\n",
      "Epoch 1/500\n",
      "3/3 [==============================] - 0s 11ms/step - loss: 2.7306e-04 - accuracy: 1.0000 - val_loss: 2.4952e-04 - val_accuracy: 1.0000\n",
      "Epoch 2/500\n",
      "3/3 [==============================] - 0s 5ms/step - loss: 2.0413e-04 - accuracy: 1.0000 - val_loss: 2.1179e-04 - val_accuracy: 1.0000\n",
      "Epoch 3/500\n",
      "3/3 [==============================] - 0s 5ms/step - loss: 1.6699e-04 - accuracy: 1.0000 - val_loss: 1.8533e-04 - val_accuracy: 1.0000\n",
      "Epoch 4/500\n",
      "3/3 [==============================] - 0s 5ms/step - loss: 1.1464e-04 - accuracy: 1.0000 - val_loss: 1.4976e-04 - val_accuracy: 1.0000\n",
      "Epoch 5/500\n",
      "3/3 [==============================] - 0s 5ms/step - loss: 6.6112e-05 - accuracy: 1.0000 - val_loss: 7.5771e-05 - val_accuracy: 1.0000\n",
      "Epoch 6/500\n",
      "3/3 [==============================] - 0s 5ms/step - loss: 4.8678e-05 - accuracy: 1.0000 - val_loss: 7.2454e-05 - val_accuracy: 1.0000\n",
      "Epoch 7/500\n",
      "3/3 [==============================] - 0s 5ms/step - loss: 1.1611e-05 - accuracy: 1.0000 - val_loss: 9.7827e-05 - val_accuracy: 1.0000\n",
      "Epoch 8/500\n",
      "3/3 [==============================] - 0s 5ms/step - loss: 0.0000e+00 - accuracy: 1.0000 - val_loss: 1.4626e-04 - val_accuracy: 1.0000\n",
      "Epoch 9/500\n",
      "3/3 [==============================] - 0s 5ms/step - loss: 6.3093e-06 - accuracy: 1.0000 - val_loss: 1.7394e-04 - val_accuracy: 1.0000\n",
      "Epoch 10/500\n",
      "3/3 [==============================] - 0s 5ms/step - loss: 0.0000e+00 - accuracy: 1.0000 - val_loss: 1.8050e-04 - val_accuracy: 1.0000\n",
      "Epoch 11/500\n",
      "3/3 [==============================] - 0s 5ms/step - loss: 0.0000e+00 - accuracy: 1.0000 - val_loss: 1.8532e-04 - val_accuracy: 1.0000\n",
      "Epoch 11: early stopping\n",
      "1/1 [==============================] - 0s 7ms/step\n",
      "2/2 [==============================] - 0s 927us/step\n"
     ]
    },
    {
     "name": "stderr",
     "output_type": "stream",
     "text": [
      "/Users/joaodantas/anaconda3/envs/asa/lib/python3.8/site-packages/keras/src/engine/training.py:3000: UserWarning: You are saving your model as an HDF5 file via `model.save()`. This file format is considered legacy. We recommend using instead the native Keras format, e.g. `model.save('my_model.keras')`.\n",
      "  saving_api.save_model(\n"
     ]
    }
   ],
   "source": [
    "params  = {'n_neurons' : [64,64], 'n_layers' :  2, 'epochs' : 500, 'patience' : 10}\n",
    "out = ml.full_cycle(X_test, X = X, y = y, name_model = 'NN',search = False, params = params, remove_outlier=True)"
   ]
  },
  {
   "cell_type": "code",
   "execution_count": 34,
   "id": "7cbf2e0e-fe4a-4d90-b7ed-d4f81d149349",
   "metadata": {},
   "outputs": [
    {
     "data": {
      "text/plain": [
       "0"
      ]
     },
     "execution_count": 34,
     "metadata": {},
     "output_type": "execute_result"
    }
   ],
   "source": [
    "out = out.astype(int)\n",
    "y_pred = y_pred.astype(int)\n",
    "diff = out.compare(y_pred)\n",
    "len(diff)"
   ]
  }
 ],
 "metadata": {
  "kernelspec": {
   "display_name": "asa",
   "language": "python",
   "name": "python3"
  },
  "language_info": {
   "codemirror_mode": {
    "name": "ipython",
    "version": 3
   },
   "file_extension": ".py",
   "mimetype": "text/x-python",
   "name": "python",
   "nbconvert_exporter": "python",
   "pygments_lexer": "ipython3",
   "version": "3.11.4"
  }
 },
 "nbformat": 4,
 "nbformat_minor": 5
}
