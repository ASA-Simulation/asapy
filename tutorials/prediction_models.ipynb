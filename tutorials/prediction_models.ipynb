{
 "cells": [
  {
   "attachments": {},
   "cell_type": "markdown",
   "id": "fab2fcc6-e936-4ff1-9f73-33a82a834098",
   "metadata": {},
   "source": [
    "# AsaPy\n",
    "\n",
    "### Asa Prediction\n",
    "\n",
    "#### Prediction.full_cycle\n",
    "\n",
    "    \"\"\"\n",
    "    Performs the full cycle of the machine learning pipeline: loads or trains the models, preprocesses the input data,\n",
    "    generates predictions, and post-processes the output data.\n",
    "\n",
    "    Args:\n",
    "        X_pred (pandas.DataFrame): Input data to generate predictions for.\n",
    "        load (bool, optional): If True, loads the trained models from disk instead of training new ones. Default is False.\n",
    "        **kwargs: Additional keyword arguments passed to either `load_model()` or `train_model()` method.\n",
    "\n",
    "    Returns:\n",
    "        pandas.DataFrame: Dataframe with the generated predictions.\n",
    "\n",
    "    Raises:\n",
    "        ValueError: If `load` is True and `path` is not provided in `kwargs`.\n",
    "    \"\"\"\n"
   ]
  },
  {
   "cell_type": "code",
   "execution_count": 1,
   "id": "063241b7-9241-4db0-988a-cc1724db39e9",
   "metadata": {},
   "outputs": [],
   "source": [
    "import asapy\n",
    "from sklearn.datasets import load_diabetes, load_wine\n",
    "from sklearn.model_selection import train_test_split"
   ]
  },
  {
   "cell_type": "markdown",
   "id": "182d3c92-4e03-457c-8933-6f9080816afb",
   "metadata": {},
   "source": [
    "## RandomForest"
   ]
  },
  {
   "cell_type": "markdown",
   "id": "1afdb392-95cf-40c6-8461-8665be994e09",
   "metadata": {},
   "source": [
    "#### Classification"
   ]
  },
  {
   "cell_type": "code",
   "execution_count": 2,
   "id": "1edb6a71-2820-4bcb-ac15-c974c8079e2b",
   "metadata": {},
   "outputs": [],
   "source": [
    "ml = asapy.AsaML()"
   ]
  },
  {
   "cell_type": "code",
   "execution_count": 3,
   "id": "7fc17411-8efe-478b-bd77-1f4b16fe6e77",
   "metadata": {},
   "outputs": [],
   "source": [
    "# multi_cat classification\n",
    "X, y  = load_wine(as_frame=True, return_X_y=True)\n",
    "y = y.to_frame()"
   ]
  },
  {
   "cell_type": "code",
   "execution_count": 4,
   "id": "af04e04e-998a-4f4e-9821-4ab16d9bfcf6",
   "metadata": {},
   "outputs": [],
   "source": [
    "X_train, X_test, y_train, y_test = train_test_split(X, y, test_size=0.2)\n",
    "X = X_train\n",
    "y = y_train\n",
    "X_pred = X_test.reset_index(drop=True)\n",
    "y_pred = y_test.reset_index(drop=True)"
   ]
  },
  {
   "cell_type": "code",
   "execution_count": 5,
   "id": "95676eca-a681-467c-82b8-a2e0283e4e70",
   "metadata": {},
   "outputs": [
    {
     "name": "stdout",
     "output_type": "stream",
     "text": [
      "Removed 0 rows.\n",
      "\n",
      "Best hyperparameters: {'bootstrap': True, 'max_depth': 20, 'max_features': 'log2', 'min_samples_leaf': 1, 'min_samples_split': 18, 'n_estimators': 356}\n"
     ]
    },
    {
     "ename": "TypeError",
     "evalue": "RandomForest.fit() got an unexpected keyword argument 'validation_data'",
     "output_type": "error",
     "traceback": [
      "\u001b[1;31m---------------------------------------------------------------------------\u001b[0m",
      "\u001b[1;31mTypeError\u001b[0m                                 Traceback (most recent call last)",
      "\u001b[1;32md:\\asa\\asapy\\tutorials\\prediction_models.ipynb Cell 8\u001b[0m line \u001b[0;36m1\n\u001b[1;32m----> <a href='vscode-notebook-cell:/d%3A/asa/asapy/tutorials/prediction_models.ipynb#X10sZmlsZQ%3D%3D?line=0'>1</a>\u001b[0m out \u001b[39m=\u001b[39m ml\u001b[39m.\u001b[39;49mfull_cycle(X_test, X \u001b[39m=\u001b[39;49m X, y \u001b[39m=\u001b[39;49m y, name_model \u001b[39m=\u001b[39;49m \u001b[39m'\u001b[39;49m\u001b[39mRandomForest\u001b[39;49m\u001b[39m'\u001b[39;49m, search \u001b[39m=\u001b[39;49m \u001b[39mTrue\u001b[39;49;00m, remove_outlier\u001b[39m=\u001b[39;49m\u001b[39mTrue\u001b[39;49;00m)\n",
      "File \u001b[1;32md:\\asa\\asapy\\asapy\\prediction.py:899\u001b[0m, in \u001b[0;36mAsaML.full_cycle\u001b[1;34m(self, X_pred, load, **kwargs)\u001b[0m\n\u001b[0;32m    897\u001b[0m     model_dict \u001b[39m=\u001b[39m \u001b[39mself\u001b[39m\u001b[39m.\u001b[39mload_model(\u001b[39m*\u001b[39m\u001b[39m*\u001b[39mkwargs)\n\u001b[0;32m    898\u001b[0m \u001b[39melse\u001b[39;00m:\n\u001b[1;32m--> 899\u001b[0m     model_dict \u001b[39m=\u001b[39m \u001b[39mself\u001b[39;49m\u001b[39m.\u001b[39;49mtrain_model(\u001b[39m*\u001b[39;49m\u001b[39m*\u001b[39;49mkwargs)\n\u001b[0;32m    900\u001b[0m out \u001b[39m=\u001b[39m \u001b[39mself\u001b[39m\u001b[39m.\u001b[39mpredict_all(X_pred, model_dict)\n\u001b[0;32m    901\u001b[0m \u001b[39mreturn\u001b[39;00m out\n",
      "File \u001b[1;32md:\\asa\\asapy\\asapy\\prediction.py:690\u001b[0m, in \u001b[0;36mAsaML.train_model\u001b[1;34m(self, X, y, name_model, save, scaling, scaler_Type, remove_outlier, search, params, **kwargs)\u001b[0m\n\u001b[0;32m    688\u001b[0m xtrain, ytrain \u001b[39m=\u001b[39m X_train[train_index], y_train[train_index]\n\u001b[0;32m    689\u001b[0m xval, yval \u001b[39m=\u001b[39m X_train[val_index], y_train[val_index]\n\u001b[1;32m--> 690\u001b[0m model\u001b[39m.\u001b[39;49mfit(xtrain, ytrain, validation_data\u001b[39m=\u001b[39;49m(xval, yval), path \u001b[39m=\u001b[39;49m path, \u001b[39m*\u001b[39;49m\u001b[39m*\u001b[39;49mkwargs)\n\u001b[0;32m    692\u001b[0m \u001b[39mif\u001b[39;00m \u001b[39mself\u001b[39m\u001b[39m.\u001b[39my_type[col] \u001b[39m==\u001b[39m \u001b[39m'\u001b[39m\u001b[39mnum\u001b[39m\u001b[39m'\u001b[39m:\n\u001b[0;32m    693\u001b[0m     y_pred \u001b[39m=\u001b[39m model\u001b[39m.\u001b[39mpredict(X_test)\n",
      "\u001b[1;31mTypeError\u001b[0m: RandomForest.fit() got an unexpected keyword argument 'validation_data'"
     ]
    }
   ],
   "source": [
    "out = ml.full_cycle(X_test, X = X, y = y, name_model = 'RandomForest', search = True, remove_outlier=True)"
   ]
  },
  {
   "cell_type": "code",
   "execution_count": null,
   "id": "03b6fd3b-af3e-483c-bb08-ba17d3b9f238",
   "metadata": {},
   "outputs": [],
   "source": [
    "out = out.astype(int)\n",
    "y_pred = y_pred.astype(int)"
   ]
  },
  {
   "cell_type": "code",
   "execution_count": null,
   "id": "72b32574-5674-4c24-b824-d9b40a3d2eed",
   "metadata": {},
   "outputs": [
    {
     "data": {
      "text/plain": [
       "1"
      ]
     },
     "execution_count": 18,
     "metadata": {},
     "output_type": "execute_result"
    }
   ],
   "source": [
    "diff = out.compare(y_pred)\n",
    "len(diff)"
   ]
  },
  {
   "cell_type": "markdown",
   "id": "efee3f6c-921b-41a4-bf69-405380b76013",
   "metadata": {},
   "source": [
    "#### Regression"
   ]
  },
  {
   "cell_type": "code",
   "execution_count": null,
   "id": "70a61d20-afbf-4e3b-8edb-3d08f7df2e8a",
   "metadata": {},
   "outputs": [],
   "source": [
    "#dataset para regressão com duas colunas target\n",
    "X, y  = load_diabetes(as_frame=True, return_X_y=True)\n",
    "y = y.to_frame()"
   ]
  },
  {
   "cell_type": "code",
   "execution_count": null,
   "id": "ec974706-b830-4b80-be4b-f69e490edba8",
   "metadata": {},
   "outputs": [],
   "source": [
    "X_train, X_test, y_train, y_test = train_test_split(X, y, test_size=0.2)\n",
    "X = X_train\n",
    "y = y_train\n",
    "X_pred = X_test.reset_index(drop=True)\n",
    "y_pred = y_test.reset_index(drop=True)"
   ]
  },
  {
   "cell_type": "code",
   "execution_count": null,
   "id": "099254a4-8304-4f61-8f95-cdad134815be",
   "metadata": {},
   "outputs": [
    {
     "data": {
      "text/plain": [
       "'2023_03_29_(19-33-15)'"
      ]
     },
     "execution_count": 12,
     "metadata": {},
     "output_type": "execute_result"
    }
   ],
   "source": [
    "ml = asapy.AsaML()\n",
    "ml.dir_name"
   ]
  },
  {
   "cell_type": "code",
   "execution_count": null,
   "id": "c3ca4eb9-e2cc-4752-8f13-bb4ca4c59f75",
   "metadata": {},
   "outputs": [
    {
     "name": "stdout",
     "output_type": "stream",
     "text": [
      "Best hyperparameters: {'bootstrap': True, 'max_depth': 30, 'max_features': 'log2', 'min_samples_leaf': 5, 'min_samples_split': 19, 'n_estimators': 228}\n"
     ]
    }
   ],
   "source": [
    "out = ml.full_cycle(X_test, X = X, y = y, name_model = 'RandomForest', search = True, remove_outlier=True)"
   ]
  },
  {
   "cell_type": "code",
   "execution_count": null,
   "id": "f7ac3c55-487b-453b-9916-da1abd75e674",
   "metadata": {},
   "outputs": [
    {
     "data": {
      "image/png": "[encoded data removed]",
      "text/plain": [
       "<Figure size 432x288 with 1 Axes>"
      ]
     },
     "metadata": {
      "needs_background": "light"
     },
     "output_type": "display_data"
    }
   ],
   "source": [
    "from matplotlib import pyplot as plt\n",
    "error = out - y_pred\n",
    "plt.hist(error, bins = 25)\n",
    "plt.xlabel(\"Prediction Error\")\n",
    "_ = plt.ylabel(\"Count\")"
   ]
  },
  {
   "cell_type": "markdown",
   "id": "b2c86c72-b593-400a-825a-06e40be9e883",
   "metadata": {},
   "source": [
    "### Neural Networks"
   ]
  },
  {
   "cell_type": "markdown",
   "id": "778889b7-606b-420a-8600-edbfa2b2b2dc",
   "metadata": {},
   "source": [
    "#### Classification"
   ]
  },
  {
   "cell_type": "code",
   "execution_count": null,
   "id": "1b13346c-11ae-4cef-9005-943ac929692e",
   "metadata": {},
   "outputs": [],
   "source": [
    "ml = asapy.AsaML()"
   ]
  },
  {
   "cell_type": "code",
   "execution_count": null,
   "id": "90f0323a-d0b0-4b82-a7a6-24e2ba8e9f6d",
   "metadata": {},
   "outputs": [],
   "source": [
    "# multi-cat classification\n",
    "X, y  = load_wine(as_frame=True, return_X_y=True)\n",
    "y = y.to_frame()"
   ]
  },
  {
   "cell_type": "code",
   "execution_count": null,
   "id": "f6affa72-b19d-41ff-8344-9243c19fd498",
   "metadata": {},
   "outputs": [],
   "source": [
    "X_train, X_test, y_train, y_test = train_test_split(X, y, test_size=0.2)\n",
    "X = X_train\n",
    "y = y_train\n",
    "X_pred = X_test.reset_index(drop=True)\n",
    "y_pred = y_test.reset_index(drop=True)"
   ]
  },
  {
   "cell_type": "code",
   "execution_count": null,
   "id": "a78903e1-ac52-483d-ae51-79ee8aac9278",
   "metadata": {},
   "outputs": [
    {
     "name": "stdout",
     "output_type": "stream",
     "text": [
      "Trial 30 Complete [00h 00m 04s]\n",
      "val_accuracy: 0.37931033968925476\n",
      "\n",
      "Best val_accuracy So Far: 1.0\n",
      "Total elapsed time: 00h 01m 25s\n",
      "INFO:tensorflow:Oracle triggered exit\n",
      "Model: \"sequential_1\"\n",
      "_________________________________________________________________\n",
      " Layer (type)                Output Shape              Param #   \n",
      "=================================================================\n",
      " dense_17 (Dense)            (None, 192)               2688      \n",
      "                                                                 \n",
      " dense_18 (Dense)            (None, 41)                7913      \n",
      "                                                                 \n",
      " dense_19 (Dense)            (None, 157)               6594      \n",
      "                                                                 \n",
      " dense_20 (Dense)            (None, 140)               22120     \n",
      "                                                                 \n",
      " dense_21 (Dense)            (None, 225)               31725     \n",
      "                                                                 \n",
      " dense_22 (Dense)            (None, 23)                5198      \n",
      "                                                                 \n",
      " dense_23 (Dense)            (None, 3)                 72        \n",
      "                                                                 \n",
      "=================================================================\n",
      "Total params: 76,310\n",
      "Trainable params: 76,310\n",
      "Non-trainable params: 0\n",
      "_________________________________________________________________\n",
      "Epoch 1/500\n",
      "3/3 [==============================] - 1s 91ms/step - loss: 3.1508 - accuracy: 0.3667 - val_loss: 6.3015 - val_accuracy: 0.2174\n",
      "Epoch 2/500\n",
      "3/3 [==============================] - 0s 15ms/step - loss: 3.1778 - accuracy: 0.4556 - val_loss: 3.0039 - val_accuracy: 0.4348\n",
      "Epoch 3/500\n",
      "3/3 [==============================] - 0s 14ms/step - loss: 1.8864 - accuracy: 0.6556 - val_loss: 2.9722 - val_accuracy: 0.4348\n",
      "Epoch 4/500\n",
      "3/3 [==============================] - 0s 14ms/step - loss: 1.7652 - accuracy: 0.6556 - val_loss: 0.7840 - val_accuracy: 0.6087\n",
      "Epoch 5/500\n",
      "3/3 [==============================] - 0s 14ms/step - loss: 0.4150 - accuracy: 0.8778 - val_loss: 0.1091 - val_accuracy: 1.0000\n",
      "Epoch 6/500\n",
      "3/3 [==============================] - 0s 14ms/step - loss: 0.1352 - accuracy: 0.9333 - val_loss: 0.0013 - val_accuracy: 1.0000\n",
      "Epoch 7/500\n",
      "3/3 [==============================] - 0s 14ms/step - loss: 0.1954 - accuracy: 0.9778 - val_loss: 0.2210 - val_accuracy: 1.0000\n",
      "Epoch 8/500\n",
      "3/3 [==============================] - 0s 15ms/step - loss: 0.1823 - accuracy: 0.9667 - val_loss: 0.2210 - val_accuracy: 0.9565\n",
      "Epoch 9/500\n",
      "3/3 [==============================] - 0s 14ms/step - loss: 0.0052 - accuracy: 1.0000 - val_loss: 0.1158 - val_accuracy: 0.9565\n",
      "Epoch 10/500\n",
      "3/3 [==============================] - 0s 14ms/step - loss: 0.0120 - accuracy: 0.9889 - val_loss: 0.0443 - val_accuracy: 0.9565\n",
      "Epoch 11/500\n",
      "3/3 [==============================] - 0s 13ms/step - loss: 0.0012 - accuracy: 1.0000 - val_loss: 0.2593 - val_accuracy: 0.9565\n",
      "Epoch 12/500\n",
      "3/3 [==============================] - 0s 13ms/step - loss: 0.0000e+00 - accuracy: 1.0000 - val_loss: 0.2604 - val_accuracy: 0.9130\n",
      "Epoch 13/500\n",
      "3/3 [==============================] - 0s 13ms/step - loss: 0.0000e+00 - accuracy: 1.0000 - val_loss: 0.4783 - val_accuracy: 0.9565\n",
      "Epoch 14/500\n",
      "3/3 [==============================] - 0s 13ms/step - loss: 0.0000e+00 - accuracy: 1.0000 - val_loss: 0.6865 - val_accuracy: 0.9565\n",
      "Epoch 15/500\n",
      "3/3 [==============================] - 0s 14ms/step - loss: 0.0000e+00 - accuracy: 1.0000 - val_loss: 0.6853 - val_accuracy: 0.9130\n",
      "Epoch 16/500\n",
      "3/3 [==============================] - 0s 14ms/step - loss: 0.0000e+00 - accuracy: 1.0000 - val_loss: 0.6913 - val_accuracy: 0.9130\n",
      "Epoch 16: early stopping\n",
      "1/1 [==============================] - 0s 97ms/step\n",
      "Epoch 1/500\n",
      "3/3 [==============================] - 0s 30ms/step - loss: 0.1775 - accuracy: 0.9778 - val_loss: 0.0000e+00 - val_accuracy: 1.0000\n",
      "Epoch 2/500\n",
      "3/3 [==============================] - 0s 13ms/step - loss: 0.1154 - accuracy: 0.9889 - val_loss: 0.0000e+00 - val_accuracy: 1.0000\n",
      "Epoch 3/500\n",
      "3/3 [==============================] - 0s 13ms/step - loss: 0.1136 - accuracy: 0.9889 - val_loss: 0.4420 - val_accuracy: 1.0000\n",
      "Epoch 4/500\n",
      "3/3 [==============================] - 0s 14ms/step - loss: 0.2295 - accuracy: 0.9778 - val_loss: 0.0000e+00 - val_accuracy: 1.0000\n",
      "Epoch 5/500\n",
      "3/3 [==============================] - 0s 13ms/step - loss: 0.1144 - accuracy: 0.9889 - val_loss: 0.0000e+00 - val_accuracy: 1.0000\n",
      "Epoch 6/500\n",
      "3/3 [==============================] - 0s 14ms/step - loss: 0.0565 - accuracy: 0.9889 - val_loss: 0.0000e+00 - val_accuracy: 1.0000\n",
      "Epoch 7/500\n",
      "3/3 [==============================] - 0s 14ms/step - loss: 0.1183 - accuracy: 0.9889 - val_loss: 0.0000e+00 - val_accuracy: 1.0000\n",
      "Epoch 8/500\n",
      "3/3 [==============================] - 0s 14ms/step - loss: 0.0000e+00 - accuracy: 1.0000 - val_loss: 0.0000e+00 - val_accuracy: 1.0000\n",
      "Epoch 9/500\n",
      "3/3 [==============================] - 0s 15ms/step - loss: 6.6183e-04 - accuracy: 1.0000 - val_loss: 0.0000e+00 - val_accuracy: 1.0000\n",
      "Epoch 10/500\n",
      "3/3 [==============================] - 0s 14ms/step - loss: 0.0013 - accuracy: 1.0000 - val_loss: 0.0000e+00 - val_accuracy: 1.0000\n",
      "Epoch 11/500\n",
      "3/3 [==============================] - 0s 14ms/step - loss: 6.7157e-04 - accuracy: 1.0000 - val_loss: 0.0000e+00 - val_accuracy: 1.0000\n",
      "Epoch 11: early stopping\n",
      "1/1 [==============================] - 0s 17ms/step\n",
      "Epoch 1/500\n",
      "3/3 [==============================] - 0s 30ms/step - loss: 0.1136 - accuracy: 0.9889 - val_loss: 0.0000e+00 - val_accuracy: 1.0000\n",
      "Epoch 2/500\n",
      "3/3 [==============================] - 0s 14ms/step - loss: 0.2272 - accuracy: 0.9778 - val_loss: 0.4446 - val_accuracy: 0.9565\n",
      "Epoch 3/500\n",
      "3/3 [==============================] - 0s 14ms/step - loss: 0.3408 - accuracy: 0.9667 - val_loss: 0.4446 - val_accuracy: 0.9565\n",
      "Epoch 4/500\n",
      "3/3 [==============================] - 0s 14ms/step - loss: 0.4606 - accuracy: 0.9556 - val_loss: 0.0000e+00 - val_accuracy: 1.0000\n",
      "Epoch 5/500\n",
      "3/3 [==============================] - 0s 15ms/step - loss: 0.1153 - accuracy: 0.9889 - val_loss: 0.0000e+00 - val_accuracy: 1.0000\n",
      "Epoch 6/500\n",
      "3/3 [==============================] - 0s 13ms/step - loss: 0.0000e+00 - accuracy: 1.0000 - val_loss: 0.0000e+00 - val_accuracy: 1.0000\n",
      "Epoch 7/500\n",
      "3/3 [==============================] - 0s 13ms/step - loss: 0.1136 - accuracy: 0.9889 - val_loss: 0.0000e+00 - val_accuracy: 1.0000\n",
      "Epoch 8/500\n",
      "3/3 [==============================] - 0s 13ms/step - loss: 0.1136 - accuracy: 0.9889 - val_loss: 0.0286 - val_accuracy: 1.0000\n",
      "Epoch 9/500\n",
      "3/3 [==============================] - 0s 13ms/step - loss: 0.1136 - accuracy: 0.9889 - val_loss: 0.4446 - val_accuracy: 0.9565\n",
      "Epoch 10/500\n",
      "3/3 [==============================] - 0s 13ms/step - loss: 0.1136 - accuracy: 0.9889 - val_loss: 0.4446 - val_accuracy: 0.9565\n",
      "Epoch 11/500\n",
      "3/3 [==============================] - 0s 13ms/step - loss: 0.1136 - accuracy: 0.9889 - val_loss: 0.4446 - val_accuracy: 0.9565\n",
      "Epoch 11: early stopping\n",
      "1/1 [==============================] - 0s 17ms/step\n",
      "Epoch 1/500\n",
      "3/3 [==============================] - 0s 33ms/step - loss: 0.2247 - accuracy: 0.9780 - val_loss: 0.0000e+00 - val_accuracy: 1.0000\n",
      "Epoch 2/500\n",
      "3/3 [==============================] - 0s 13ms/step - loss: 0.2247 - accuracy: 0.9780 - val_loss: 0.0000e+00 - val_accuracy: 1.0000\n",
      "Epoch 3/500\n",
      "3/3 [==============================] - 0s 13ms/step - loss: 0.2247 - accuracy: 0.9780 - val_loss: 0.0000e+00 - val_accuracy: 1.0000\n",
      "Epoch 4/500\n",
      "3/3 [==============================] - 0s 13ms/step - loss: 0.2247 - accuracy: 0.9780 - val_loss: 0.0000e+00 - val_accuracy: 1.0000\n",
      "Epoch 5/500\n",
      "3/3 [==============================] - 0s 13ms/step - loss: 0.2247 - accuracy: 0.9780 - val_loss: 0.0000e+00 - val_accuracy: 1.0000\n",
      "Epoch 6/500\n",
      "3/3 [==============================] - 0s 13ms/step - loss: 0.2247 - accuracy: 0.9780 - val_loss: 0.0000e+00 - val_accuracy: 1.0000\n",
      "Epoch 7/500\n",
      "3/3 [==============================] - 0s 13ms/step - loss: 0.2247 - accuracy: 0.9780 - val_loss: 0.0000e+00 - val_accuracy: 1.0000\n",
      "Epoch 8/500\n",
      "3/3 [==============================] - 0s 13ms/step - loss: 0.2247 - accuracy: 0.9780 - val_loss: 0.0000e+00 - val_accuracy: 1.0000\n",
      "Epoch 9/500\n",
      "3/3 [==============================] - 0s 14ms/step - loss: 0.2247 - accuracy: 0.9780 - val_loss: 0.0000e+00 - val_accuracy: 1.0000\n",
      "Epoch 10/500\n",
      "3/3 [==============================] - 0s 13ms/step - loss: 0.2247 - accuracy: 0.9780 - val_loss: 0.0000e+00 - val_accuracy: 1.0000\n",
      "Epoch 11/500\n",
      "3/3 [==============================] - 0s 13ms/step - loss: 0.2247 - accuracy: 0.9780 - val_loss: 0.0000e+00 - val_accuracy: 1.0000\n",
      "Epoch 11: early stopping\n",
      "1/1 [==============================] - 0s 17ms/step\n",
      "Epoch 1/500\n",
      "3/3 [==============================] - 0s 29ms/step - loss: 0.2247 - accuracy: 0.9780 - val_loss: 0.0000e+00 - val_accuracy: 1.0000\n",
      "Epoch 2/500\n",
      "3/3 [==============================] - 0s 14ms/step - loss: 0.2247 - accuracy: 0.9780 - val_loss: 0.0000e+00 - val_accuracy: 1.0000\n",
      "Epoch 3/500\n",
      "3/3 [==============================] - 0s 13ms/step - loss: 0.2247 - accuracy: 0.9780 - val_loss: 0.0000e+00 - val_accuracy: 1.0000\n",
      "Epoch 4/500\n",
      "3/3 [==============================] - 0s 13ms/step - loss: 0.2247 - accuracy: 0.9780 - val_loss: 0.0000e+00 - val_accuracy: 1.0000\n",
      "Epoch 5/500\n",
      "3/3 [==============================] - 0s 13ms/step - loss: 0.2247 - accuracy: 0.9780 - val_loss: 0.0000e+00 - val_accuracy: 1.0000\n",
      "Epoch 6/500\n",
      "3/3 [==============================] - 0s 13ms/step - loss: 0.2247 - accuracy: 0.9780 - val_loss: 0.0000e+00 - val_accuracy: 1.0000\n",
      "Epoch 7/500\n",
      "3/3 [==============================] - 0s 13ms/step - loss: 0.2247 - accuracy: 0.9780 - val_loss: 0.0000e+00 - val_accuracy: 1.0000\n",
      "Epoch 8/500\n",
      "3/3 [==============================] - 0s 13ms/step - loss: 0.2247 - accuracy: 0.9780 - val_loss: 0.0000e+00 - val_accuracy: 1.0000\n",
      "Epoch 9/500\n",
      "3/3 [==============================] - 0s 14ms/step - loss: 0.2247 - accuracy: 0.9780 - val_loss: 0.0000e+00 - val_accuracy: 1.0000\n",
      "Epoch 10/500\n",
      "3/3 [==============================] - 0s 14ms/step - loss: 0.2247 - accuracy: 0.9780 - val_loss: 0.0000e+00 - val_accuracy: 1.0000\n",
      "Epoch 11/500\n",
      "3/3 [==============================] - 0s 13ms/step - loss: 0.2247 - accuracy: 0.9780 - val_loss: 0.0000e+00 - val_accuracy: 1.0000\n",
      "Epoch 11: early stopping\n",
      "1/1 [==============================] - 0s 17ms/step\n",
      "2/2 [==============================] - 0s 2ms/step\n"
     ]
    }
   ],
   "source": [
    "out = ml.full_cycle(X_test, X = X, y = y, name_model = 'NN', search = True, epochs = 500, patience = 10, remove_outlier=True)"
   ]
  },
  {
   "cell_type": "code",
   "execution_count": null,
   "id": "c2361a0b-5306-4e4a-be13-5a4eb98e2d78",
   "metadata": {},
   "outputs": [
    {
     "data": {
      "text/plain": [
       "1"
      ]
     },
     "execution_count": 8,
     "metadata": {},
     "output_type": "execute_result"
    }
   ],
   "source": [
    "out = out.astype(int)\n",
    "y_pred = y_pred.astype(int)\n",
    "diff = out.compare(y_pred)\n",
    "len(diff)"
   ]
  },
  {
   "cell_type": "markdown",
   "id": "1369627d-00f8-42d6-abfd-cac58acc5c5a",
   "metadata": {},
   "source": [
    "#### Regression"
   ]
  },
  {
   "cell_type": "code",
   "execution_count": null,
   "id": "8df2851d-78aa-4355-a9d8-075187dee8da",
   "metadata": {},
   "outputs": [],
   "source": [
    "# regression with two columns target\n",
    "X, y  = load_diabetes(as_frame=True, return_X_y=True)\n",
    "y = y.to_frame()"
   ]
  },
  {
   "cell_type": "code",
   "execution_count": null,
   "id": "ea80dce6-a2e9-4853-9c8d-62d3b02c7119",
   "metadata": {},
   "outputs": [],
   "source": [
    "X_train, X_test, y_train, y_test = train_test_split(X, y, test_size=0.2)\n",
    "X = X_train\n",
    "y = y_train\n",
    "X_pred = X_test.reset_index(drop=True)\n",
    "y_pred = y_test.reset_index(drop=True)"
   ]
  },
  {
   "cell_type": "code",
   "execution_count": null,
   "id": "0de84280-d5d9-4a8c-8e3d-e77d803ae3ca",
   "metadata": {},
   "outputs": [
    {
     "data": {
      "text/plain": [
       "'2023_03_29_(19-37-02)'"
      ]
     },
     "execution_count": 18,
     "metadata": {},
     "output_type": "execute_result"
    }
   ],
   "source": [
    "ml = asapy.AsaML()\n",
    "ml.dir_name"
   ]
  },
  {
   "cell_type": "code",
   "execution_count": null,
   "id": "d30b41dc-1b5f-4ff0-8a71-9b2fab77b950",
   "metadata": {},
   "outputs": [
    {
     "name": "stdout",
     "output_type": "stream",
     "text": [
      "Trial 30 Complete [00h 00m 11s]\n",
      "val_loss: 5067.35791015625\n",
      "\n",
      "Best val_loss So Far: 2022.774658203125\n",
      "Total elapsed time: 00h 03m 28s\n",
      "INFO:tensorflow:Oracle triggered exit\n",
      "Model: \"sequential_1\"\n",
      "_________________________________________________________________\n",
      " Layer (type)                Output Shape              Param #   \n",
      "=================================================================\n",
      " dense_20 (Dense)            (None, 105)               1260      \n",
      "                                                                 \n",
      " dense_21 (Dense)            (None, 183)               19398     \n",
      "                                                                 \n",
      " dense_22 (Dense)            (None, 54)                9936      \n",
      "                                                                 \n",
      " dense_23 (Dense)            (None, 217)               11935     \n",
      "                                                                 \n",
      " dense_24 (Dense)            (None, 254)               55372     \n",
      "                                                                 \n",
      " dense_25 (Dense)            (None, 162)               41310     \n",
      "                                                                 \n",
      " dense_26 (Dense)            (None, 58)                9454      \n",
      "                                                                 \n",
      " dense_27 (Dense)            (None, 142)               8378      \n",
      "                                                                 \n",
      " dense_28 (Dense)            (None, 104)               14872     \n",
      "                                                                 \n",
      " dense_29 (Dense)            (None, 119)               12495     \n",
      "                                                                 \n",
      " dense_30 (Dense)            (None, 230)               27600     \n",
      "                                                                 \n",
      " dense_31 (Dense)            (None, 1)                 231       \n",
      "                                                                 \n",
      "=================================================================\n",
      "Total params: 212,241\n",
      "Trainable params: 212,241\n",
      "Non-trainable params: 0\n",
      "_________________________________________________________________\n",
      "Epoch 1/500\n",
      "6/6 [==============================] - 2s 43ms/step - loss: 29610.6465 - mean_squared_error: 29610.6465 - val_loss: 34598.0547 - val_mean_squared_error: 34598.0547\n",
      "Epoch 2/500\n",
      "6/6 [==============================] - 0s 8ms/step - loss: 29883.1055 - mean_squared_error: 29883.1055 - val_loss: 30370.3965 - val_mean_squared_error: 30370.3965\n",
      "Epoch 3/500\n",
      "6/6 [==============================] - 0s 8ms/step - loss: 16313.4912 - mean_squared_error: 16313.4912 - val_loss: 10535.6504 - val_mean_squared_error: 10535.6504\n",
      "Epoch 4/500\n",
      "6/6 [==============================] - 0s 8ms/step - loss: 6781.8848 - mean_squared_error: 6781.8848 - val_loss: 3305.2722 - val_mean_squared_error: 3305.2722\n",
      "Epoch 5/500\n",
      "6/6 [==============================] - 0s 8ms/step - loss: 4059.1787 - mean_squared_error: 4059.1787 - val_loss: 3926.6404 - val_mean_squared_error: 3926.6404\n",
      "Epoch 6/500\n",
      "6/6 [==============================] - 0s 8ms/step - loss: 4065.2317 - mean_squared_error: 4065.2317 - val_loss: 3970.1562 - val_mean_squared_error: 3970.1562\n",
      "Epoch 7/500\n",
      "6/6 [==============================] - 0s 8ms/step - loss: 4149.6807 - mean_squared_error: 4149.6807 - val_loss: 2605.1023 - val_mean_squared_error: 2605.1023\n",
      "Epoch 8/500\n",
      "6/6 [==============================] - 0s 8ms/step - loss: 3134.9287 - mean_squared_error: 3134.9287 - val_loss: 2367.7046 - val_mean_squared_error: 2367.7046\n",
      "Epoch 9/500\n",
      "6/6 [==============================] - 0s 8ms/step - loss: 3096.4302 - mean_squared_error: 3096.4302 - val_loss: 2525.5845 - val_mean_squared_error: 2525.5845\n",
      "Epoch 10/500\n",
      "6/6 [==============================] - 0s 8ms/step - loss: 3331.7219 - mean_squared_error: 3331.7219 - val_loss: 2825.2129 - val_mean_squared_error: 2825.2129\n",
      "Epoch 11/500\n",
      "6/6 [==============================] - 0s 8ms/step - loss: 3976.0132 - mean_squared_error: 3976.0132 - val_loss: 3460.6736 - val_mean_squared_error: 3460.6736\n",
      "Epoch 12/500\n",
      "6/6 [==============================] - 0s 8ms/step - loss: 3162.7910 - mean_squared_error: 3162.7910 - val_loss: 4180.3081 - val_mean_squared_error: 4180.3081\n",
      "Epoch 13/500\n",
      "6/6 [==============================] - 0s 8ms/step - loss: 3617.4631 - mean_squared_error: 3617.4631 - val_loss: 2456.5188 - val_mean_squared_error: 2456.5188\n",
      "Epoch 14/500\n",
      "6/6 [==============================] - 0s 8ms/step - loss: 2548.8833 - mean_squared_error: 2548.8833 - val_loss: 2844.7183 - val_mean_squared_error: 2844.7183\n",
      "Epoch 15/500\n",
      "6/6 [==============================] - 0s 8ms/step - loss: 2903.9785 - mean_squared_error: 2903.9785 - val_loss: 2250.0227 - val_mean_squared_error: 2250.0227\n",
      "Epoch 16/500\n",
      "6/6 [==============================] - 0s 8ms/step - loss: 3097.0979 - mean_squared_error: 3097.0979 - val_loss: 2890.1187 - val_mean_squared_error: 2890.1187\n",
      "Epoch 17/500\n",
      "6/6 [==============================] - 0s 7ms/step - loss: 2466.1199 - mean_squared_error: 2466.1199 - val_loss: 2488.4119 - val_mean_squared_error: 2488.4119\n",
      "Epoch 18/500\n",
      "6/6 [==============================] - 0s 7ms/step - loss: 1831.5452 - mean_squared_error: 1831.5452 - val_loss: 3507.6316 - val_mean_squared_error: 3507.6316\n",
      "Epoch 19/500\n",
      "6/6 [==============================] - 0s 8ms/step - loss: 1710.1122 - mean_squared_error: 1710.1122 - val_loss: 4497.2896 - val_mean_squared_error: 4497.2896\n",
      "Epoch 20/500\n",
      "6/6 [==============================] - 0s 8ms/step - loss: 1587.1368 - mean_squared_error: 1587.1368 - val_loss: 2901.8821 - val_mean_squared_error: 2901.8821\n",
      "Epoch 21/500\n",
      "6/6 [==============================] - 0s 8ms/step - loss: 1458.1378 - mean_squared_error: 1458.1378 - val_loss: 3105.1077 - val_mean_squared_error: 3105.1077\n",
      "Epoch 22/500\n",
      "6/6 [==============================] - 0s 8ms/step - loss: 1365.8712 - mean_squared_error: 1365.8712 - val_loss: 3633.2202 - val_mean_squared_error: 3633.2202\n",
      "Epoch 23/500\n",
      "6/6 [==============================] - 0s 7ms/step - loss: 1317.6328 - mean_squared_error: 1317.6328 - val_loss: 3651.5215 - val_mean_squared_error: 3651.5215\n",
      "Epoch 24/500\n",
      "6/6 [==============================] - 0s 8ms/step - loss: 1029.1372 - mean_squared_error: 1029.1372 - val_loss: 3915.9919 - val_mean_squared_error: 3915.9919\n",
      "Epoch 25/500\n",
      "6/6 [==============================] - 0s 8ms/step - loss: 1530.6876 - mean_squared_error: 1530.6876 - val_loss: 3918.4243 - val_mean_squared_error: 3918.4243\n",
      "Epoch 25: early stopping\n",
      "2/2 [==============================] - 0s 3ms/step\n",
      "Epoch 1/500\n",
      "6/6 [==============================] - 0s 14ms/step - loss: 2133.5535 - mean_squared_error: 2133.5535 - val_loss: 2054.8977 - val_mean_squared_error: 2054.8977\n",
      "Epoch 2/500\n",
      "6/6 [==============================] - 0s 8ms/step - loss: 1873.7255 - mean_squared_error: 1873.7255 - val_loss: 1647.7825 - val_mean_squared_error: 1647.7825\n",
      "Epoch 3/500\n",
      "6/6 [==============================] - 0s 8ms/step - loss: 1322.1486 - mean_squared_error: 1322.1486 - val_loss: 1791.9314 - val_mean_squared_error: 1791.9314\n",
      "Epoch 4/500\n",
      "6/6 [==============================] - 0s 8ms/step - loss: 1312.3418 - mean_squared_error: 1312.3418 - val_loss: 2142.4775 - val_mean_squared_error: 2142.4775\n",
      "Epoch 5/500\n",
      "6/6 [==============================] - 0s 8ms/step - loss: 1458.4163 - mean_squared_error: 1458.4163 - val_loss: 2102.2004 - val_mean_squared_error: 2102.2004\n",
      "Epoch 6/500\n",
      "6/6 [==============================] - 0s 8ms/step - loss: 1182.3394 - mean_squared_error: 1182.3394 - val_loss: 2115.9177 - val_mean_squared_error: 2115.9177\n",
      "Epoch 7/500\n",
      "6/6 [==============================] - 0s 8ms/step - loss: 896.1417 - mean_squared_error: 896.1417 - val_loss: 2296.0352 - val_mean_squared_error: 2296.0352\n",
      "Epoch 8/500\n",
      "6/6 [==============================] - 0s 8ms/step - loss: 789.9673 - mean_squared_error: 789.9673 - val_loss: 2170.6243 - val_mean_squared_error: 2170.6243\n",
      "Epoch 9/500\n",
      "6/6 [==============================] - 0s 8ms/step - loss: 798.1527 - mean_squared_error: 798.1527 - val_loss: 2383.8069 - val_mean_squared_error: 2383.8069\n",
      "Epoch 10/500\n",
      "6/6 [==============================] - 0s 8ms/step - loss: 988.0625 - mean_squared_error: 988.0625 - val_loss: 2113.1331 - val_mean_squared_error: 2113.1331\n",
      "Epoch 11/500\n",
      "6/6 [==============================] - 0s 8ms/step - loss: 818.6346 - mean_squared_error: 818.6346 - val_loss: 2657.8530 - val_mean_squared_error: 2657.8530\n",
      "Epoch 12/500\n",
      "6/6 [==============================] - 0s 8ms/step - loss: 966.5530 - mean_squared_error: 966.5530 - val_loss: 2432.6362 - val_mean_squared_error: 2432.6362\n",
      "Epoch 12: early stopping\n",
      "2/2 [==============================] - 0s 3ms/step\n",
      "Epoch 1/500\n",
      "6/6 [==============================] - 0s 16ms/step - loss: 1140.1276 - mean_squared_error: 1140.1276 - val_loss: 924.2514 - val_mean_squared_error: 924.2514\n",
      "Epoch 2/500\n",
      "6/6 [==============================] - 0s 8ms/step - loss: 1077.9840 - mean_squared_error: 1077.9840 - val_loss: 1946.9395 - val_mean_squared_error: 1946.9395\n",
      "Epoch 3/500\n",
      "6/6 [==============================] - 0s 8ms/step - loss: 1152.0364 - mean_squared_error: 1152.0364 - val_loss: 1989.1793 - val_mean_squared_error: 1989.1793\n",
      "Epoch 4/500\n",
      "6/6 [==============================] - 0s 8ms/step - loss: 1042.7954 - mean_squared_error: 1042.7954 - val_loss: 1846.7496 - val_mean_squared_error: 1846.7496\n",
      "Epoch 5/500\n",
      "6/6 [==============================] - 0s 8ms/step - loss: 1032.8108 - mean_squared_error: 1032.8108 - val_loss: 1517.7637 - val_mean_squared_error: 1517.7637\n",
      "Epoch 6/500\n",
      "6/6 [==============================] - 0s 8ms/step - loss: 761.2781 - mean_squared_error: 761.2781 - val_loss: 1583.4680 - val_mean_squared_error: 1583.4680\n",
      "Epoch 7/500\n",
      "6/6 [==============================] - 0s 8ms/step - loss: 739.6705 - mean_squared_error: 739.6705 - val_loss: 1586.2474 - val_mean_squared_error: 1586.2474\n",
      "Epoch 8/500\n",
      "6/6 [==============================] - 0s 8ms/step - loss: 659.5703 - mean_squared_error: 659.5703 - val_loss: 1332.5439 - val_mean_squared_error: 1332.5439\n",
      "Epoch 9/500\n",
      "6/6 [==============================] - 0s 8ms/step - loss: 757.0048 - mean_squared_error: 757.0048 - val_loss: 1505.4509 - val_mean_squared_error: 1505.4509\n",
      "Epoch 10/500\n",
      "6/6 [==============================] - 0s 8ms/step - loss: 542.5226 - mean_squared_error: 542.5226 - val_loss: 1128.8179 - val_mean_squared_error: 1128.8179\n",
      "Epoch 11/500\n",
      "6/6 [==============================] - 0s 8ms/step - loss: 433.7105 - mean_squared_error: 433.7105 - val_loss: 1274.2415 - val_mean_squared_error: 1274.2415\n",
      "Epoch 11: early stopping\n",
      "2/2 [==============================] - 0s 2ms/step\n",
      "Epoch 1/500\n",
      "6/6 [==============================] - 0s 15ms/step - loss: 682.1959 - mean_squared_error: 682.1959 - val_loss: 200.3123 - val_mean_squared_error: 200.3123\n",
      "Epoch 2/500\n",
      "6/6 [==============================] - 0s 8ms/step - loss: 855.6653 - mean_squared_error: 855.6653 - val_loss: 374.1855 - val_mean_squared_error: 374.1855\n",
      "Epoch 3/500\n",
      "6/6 [==============================] - 0s 8ms/step - loss: 544.0409 - mean_squared_error: 544.0409 - val_loss: 542.1605 - val_mean_squared_error: 542.1605\n",
      "Epoch 4/500\n",
      "6/6 [==============================] - 0s 7ms/step - loss: 440.6988 - mean_squared_error: 440.6988 - val_loss: 464.1404 - val_mean_squared_error: 464.1404\n",
      "Epoch 5/500\n",
      "6/6 [==============================] - 0s 7ms/step - loss: 338.9825 - mean_squared_error: 338.9825 - val_loss: 603.1443 - val_mean_squared_error: 603.1443\n",
      "Epoch 6/500\n",
      "6/6 [==============================] - 0s 7ms/step - loss: 309.8033 - mean_squared_error: 309.8033 - val_loss: 678.9512 - val_mean_squared_error: 678.9512\n",
      "Epoch 7/500\n",
      "6/6 [==============================] - 0s 7ms/step - loss: 432.3526 - mean_squared_error: 432.3526 - val_loss: 682.5568 - val_mean_squared_error: 682.5568\n",
      "Epoch 8/500\n",
      "6/6 [==============================] - 0s 8ms/step - loss: 588.9480 - mean_squared_error: 588.9480 - val_loss: 700.3355 - val_mean_squared_error: 700.3355\n",
      "Epoch 9/500\n",
      "6/6 [==============================] - 0s 8ms/step - loss: 672.9125 - mean_squared_error: 672.9125 - val_loss: 611.9906 - val_mean_squared_error: 611.9906\n",
      "Epoch 10/500\n",
      "6/6 [==============================] - 0s 7ms/step - loss: 514.8886 - mean_squared_error: 514.8886 - val_loss: 893.3298 - val_mean_squared_error: 893.3298\n",
      "Epoch 11/500\n",
      "6/6 [==============================] - 0s 8ms/step - loss: 489.9720 - mean_squared_error: 489.9720 - val_loss: 732.7202 - val_mean_squared_error: 732.7202\n",
      "Epoch 11: early stopping\n",
      "2/2 [==============================] - 0s 2ms/step\n",
      "Epoch 1/500\n",
      "6/6 [==============================] - 0s 15ms/step - loss: 496.8404 - mean_squared_error: 496.8404 - val_loss: 683.6917 - val_mean_squared_error: 683.6917\n",
      "Epoch 2/500\n",
      "6/6 [==============================] - 0s 8ms/step - loss: 526.7107 - mean_squared_error: 526.7107 - val_loss: 545.9463 - val_mean_squared_error: 545.9463\n",
      "Epoch 3/500\n",
      "6/6 [==============================] - 0s 8ms/step - loss: 495.5909 - mean_squared_error: 495.5909 - val_loss: 691.2289 - val_mean_squared_error: 691.2289\n",
      "Epoch 4/500\n",
      "6/6 [==============================] - 0s 7ms/step - loss: 434.7923 - mean_squared_error: 434.7923 - val_loss: 1285.9316 - val_mean_squared_error: 1285.9316\n",
      "Epoch 5/500\n",
      "6/6 [==============================] - 0s 7ms/step - loss: 453.8843 - mean_squared_error: 453.8843 - val_loss: 993.6558 - val_mean_squared_error: 993.6558\n",
      "Epoch 6/500\n",
      "6/6 [==============================] - 0s 7ms/step - loss: 335.6565 - mean_squared_error: 335.6565 - val_loss: 1220.6107 - val_mean_squared_error: 1220.6107\n",
      "Epoch 7/500\n",
      "6/6 [==============================] - 0s 7ms/step - loss: 393.3047 - mean_squared_error: 393.3047 - val_loss: 1614.0095 - val_mean_squared_error: 1614.0095\n",
      "Epoch 8/500\n",
      "6/6 [==============================] - 0s 7ms/step - loss: 706.4297 - mean_squared_error: 706.4297 - val_loss: 1304.0236 - val_mean_squared_error: 1304.0236\n",
      "Epoch 9/500\n",
      "6/6 [==============================] - 0s 8ms/step - loss: 526.0176 - mean_squared_error: 526.0176 - val_loss: 1021.1643 - val_mean_squared_error: 1021.1643\n",
      "Epoch 10/500\n",
      "6/6 [==============================] - 0s 8ms/step - loss: 418.0095 - mean_squared_error: 418.0095 - val_loss: 1297.1292 - val_mean_squared_error: 1297.1292\n",
      "Epoch 11/500\n",
      "6/6 [==============================] - 0s 8ms/step - loss: 281.2499 - mean_squared_error: 281.2499 - val_loss: 1307.0729 - val_mean_squared_error: 1307.0729\n",
      "Epoch 12/500\n",
      "6/6 [==============================] - 0s 8ms/step - loss: 170.0227 - mean_squared_error: 170.0227 - val_loss: 1243.6683 - val_mean_squared_error: 1243.6683\n",
      "Epoch 12: early stopping\n",
      "2/2 [==============================] - 0s 3ms/step\n",
      "3/3 [==============================] - 0s 2ms/step\n"
     ]
    }
   ],
   "source": [
    "out = ml.full_cycle(X_test, X = X, y = y, name_model = 'NN', search = True, epochs = 500, patience = 10, remove_outlier=True)"
   ]
  },
  {
   "cell_type": "code",
   "execution_count": null,
   "id": "091fb3c2-53f6-4d23-928b-3176e8b8370a",
   "metadata": {},
   "outputs": [
    {
     "data": {
      "image/png": "[encoded data removed]",
      "text/plain": [
       "<Figure size 432x288 with 1 Axes>"
      ]
     },
     "metadata": {
      "needs_background": "light"
     },
     "output_type": "display_data"
    }
   ],
   "source": [
    "from matplotlib import pyplot as plt\n",
    "error = out - y_pred\n",
    "plt.hist(error, bins = 25)\n",
    "plt.xlabel(\"Prediction Error\")\n",
    "_ = plt.ylabel(\"Count\")"
   ]
  },
  {
   "cell_type": "markdown",
   "id": "6e25e44e-2d9c-44b5-abe9-b1df177cd715",
   "metadata": {},
   "source": [
    "#### Load model"
   ]
  },
  {
   "cell_type": "code",
   "execution_count": null,
   "id": "0ab5aef3-0dae-4b34-a1ce-a2d925a46304",
   "metadata": {},
   "outputs": [],
   "source": [
    "# regression with two columns target\n",
    "X, y  = load_diabetes(as_frame=True, return_X_y=True)\n",
    "y = y.to_frame()"
   ]
  },
  {
   "cell_type": "code",
   "execution_count": null,
   "id": "c40757c5-05bd-47a9-a92e-26a56a3ea3ad",
   "metadata": {},
   "outputs": [],
   "source": [
    "X_train, X_test, y_train, y_test = train_test_split(X, y, test_size=0.2)\n",
    "X = X_train\n",
    "y = y_train\n",
    "X_pred = X_test.reset_index(drop=True)\n",
    "y_pred = y_test.reset_index(drop=True)"
   ]
  },
  {
   "cell_type": "code",
   "execution_count": null,
   "id": "2c971bc1-9f50-47d6-b94c-f5c0011fcb87",
   "metadata": {},
   "outputs": [],
   "source": [
    "ml = asapy.AsaML()"
   ]
  },
  {
   "cell_type": "code",
   "execution_count": null,
   "id": "24fce7a3-f92e-45e1-b95a-6824b6280846",
   "metadata": {},
   "outputs": [
    {
     "name": "stdout",
     "output_type": "stream",
     "text": [
      "3/3 [==============================] - 0s 2ms/step\n"
     ]
    }
   ],
   "source": [
    "out = ml.full_cycle(X_test,load = True,  path = 'models/2023_03_29_(19-37-02)')"
   ]
  },
  {
   "cell_type": "code",
   "execution_count": null,
   "id": "6f22aeca-8a94-4563-9b5f-f8d03134f3ae",
   "metadata": {},
   "outputs": [
    {
     "data": {
      "image/png": "[encoded data removed]",
      "text/plain": [
       "<Figure size 432x288 with 1 Axes>"
      ]
     },
     "metadata": {
      "needs_background": "light"
     },
     "output_type": "display_data"
    }
   ],
   "source": [
    "from matplotlib import pyplot as plt\n",
    "error = out - y_pred\n",
    "plt.hist(error, bins = 25)\n",
    "plt.xlabel(\"Prediction Error\")\n",
    "_ = plt.ylabel(\"Count\")"
   ]
  },
  {
   "cell_type": "markdown",
   "id": "5ec1f171-3afb-40c8-b92d-11c5afd54037",
   "metadata": {},
   "source": [
    "#### Inserting the hyperparametes"
   ]
  },
  {
   "cell_type": "code",
   "execution_count": 6,
   "id": "cc1c02fb-ec58-425f-98f3-46647449797c",
   "metadata": {},
   "outputs": [],
   "source": [
    "# multi-cat classification\n",
    "X, y  = load_wine(as_frame=True, return_X_y=True)\n",
    "y = y.to_frame()"
   ]
  },
  {
   "cell_type": "code",
   "execution_count": 7,
   "id": "dfa2ca88-d5e9-4dc0-abb5-c5310238d801",
   "metadata": {},
   "outputs": [],
   "source": [
    "X_train, X_test, y_train, y_test = train_test_split(X, y, test_size=0.2)\n",
    "X = X_train\n",
    "y = y_train\n",
    "X_pred = X_test.reset_index(drop=True)\n",
    "y_pred = y_test.reset_index(drop=True)"
   ]
  },
  {
   "cell_type": "code",
   "execution_count": 8,
   "id": "cb1dc50b-c435-4896-9639-7b42104d34c7",
   "metadata": {},
   "outputs": [],
   "source": [
    "ml = asapy.AsaML()"
   ]
  },
  {
   "cell_type": "code",
   "execution_count": 9,
   "id": "a0fe7a2d-256a-47e4-9dbe-2c30c0de2ec2",
   "metadata": {},
   "outputs": [
    {
     "name": "stdout",
     "output_type": "stream",
     "text": [
      "Removed 0 rows.\n",
      "\n",
      "Model: \"sequential\"\n",
      "_________________________________________________________________\n",
      " Layer (type)                Output Shape              Param #   \n",
      "=================================================================\n",
      " dense (Dense)               (None, 64)                896       \n",
      "                                                                 \n",
      " dense_1 (Dense)             (None, 64)                4160      \n",
      "                                                                 \n",
      " dense_2 (Dense)             (None, 3)                 195       \n",
      "                                                                 \n",
      "=================================================================\n",
      "Total params: 5,251\n",
      "Trainable params: 5,251\n",
      "Non-trainable params: 0\n",
      "_________________________________________________________________\n",
      "Epoch 1/500\n",
      "3/3 [==============================] - 2s 181ms/step - loss: 3.6572 - accuracy: 0.3444 - val_loss: 3.9198 - val_accuracy: 0.3478\n",
      "Epoch 2/500\n",
      "3/3 [==============================] - 0s 52ms/step - loss: 3.3732 - accuracy: 0.4444 - val_loss: 3.8967 - val_accuracy: 0.3478\n",
      "Epoch 3/500\n",
      "3/3 [==============================] - 0s 50ms/step - loss: 2.9808 - accuracy: 0.4778 - val_loss: 3.3570 - val_accuracy: 0.4783\n",
      "Epoch 4/500\n",
      "3/3 [==============================] - 0s 57ms/step - loss: 2.3231 - accuracy: 0.5556 - val_loss: 2.4295 - val_accuracy: 0.4783\n",
      "Epoch 5/500\n",
      "3/3 [==============================] - 0s 51ms/step - loss: 1.6810 - accuracy: 0.6778 - val_loss: 2.1047 - val_accuracy: 0.6087\n",
      "Epoch 6/500\n",
      "3/3 [==============================] - 0s 53ms/step - loss: 1.1394 - accuracy: 0.7556 - val_loss: 1.3229 - val_accuracy: 0.6522\n",
      "Epoch 7/500\n",
      "3/3 [==============================] - 0s 53ms/step - loss: 0.9373 - accuracy: 0.8111 - val_loss: 1.2526 - val_accuracy: 0.7391\n",
      "Epoch 8/500\n",
      "3/3 [==============================] - 0s 49ms/step - loss: 0.7052 - accuracy: 0.8222 - val_loss: 1.0243 - val_accuracy: 0.7391\n",
      "Epoch 9/500\n",
      "3/3 [==============================] - 0s 37ms/step - loss: 0.6101 - accuracy: 0.8444 - val_loss: 0.5494 - val_accuracy: 0.7391\n",
      "Epoch 10/500\n",
      "3/3 [==============================] - 0s 42ms/step - loss: 0.5777 - accuracy: 0.8556 - val_loss: 0.4309 - val_accuracy: 0.7826\n",
      "Epoch 11/500\n",
      "3/3 [==============================] - 0s 49ms/step - loss: 0.3843 - accuracy: 0.8667 - val_loss: 0.3919 - val_accuracy: 0.7826\n",
      "Epoch 12/500\n",
      "3/3 [==============================] - 0s 42ms/step - loss: 0.3429 - accuracy: 0.8778 - val_loss: 0.3755 - val_accuracy: 0.7826\n",
      "Epoch 13/500\n",
      "3/3 [==============================] - 0s 40ms/step - loss: 0.3228 - accuracy: 0.8889 - val_loss: 0.5233 - val_accuracy: 0.7826\n",
      "Epoch 14/500\n",
      "3/3 [==============================] - 0s 39ms/step - loss: 0.2647 - accuracy: 0.9111 - val_loss: 0.5127 - val_accuracy: 0.7826\n",
      "Epoch 15/500\n",
      "3/3 [==============================] - 0s 55ms/step - loss: 0.2508 - accuracy: 0.9111 - val_loss: 0.5051 - val_accuracy: 0.7391\n",
      "Epoch 16/500\n",
      "3/3 [==============================] - 0s 42ms/step - loss: 0.2391 - accuracy: 0.9222 - val_loss: 0.4999 - val_accuracy: 0.7391\n",
      "Epoch 17/500\n",
      "3/3 [==============================] - 0s 49ms/step - loss: 0.2287 - accuracy: 0.9333 - val_loss: 0.4972 - val_accuracy: 0.7391\n",
      "Epoch 17: early stopping\n",
      "1/1 [==============================] - 0s 93ms/step\n",
      "Epoch 1/500\n",
      "3/3 [==============================] - 0s 80ms/step - loss: 0.2959 - accuracy: 0.9000 - val_loss: 0.1889 - val_accuracy: 0.9130\n",
      "Epoch 2/500\n",
      "3/3 [==============================] - 0s 73ms/step - loss: 0.2891 - accuracy: 0.8889 - val_loss: 0.1797 - val_accuracy: 0.9130\n",
      "Epoch 3/500\n",
      "3/3 [==============================] - 0s 43ms/step - loss: 0.2807 - accuracy: 0.8889 - val_loss: 0.1730 - val_accuracy: 0.9565\n",
      "Epoch 4/500\n",
      "3/3 [==============================] - 0s 36ms/step - loss: 0.2716 - accuracy: 0.9000 - val_loss: 0.1680 - val_accuracy: 0.9565\n",
      "Epoch 5/500\n",
      "3/3 [==============================] - 0s 42ms/step - loss: 0.2628 - accuracy: 0.9333 - val_loss: 0.1642 - val_accuracy: 0.9565\n",
      "Epoch 6/500\n",
      "3/3 [==============================] - 0s 51ms/step - loss: 0.2548 - accuracy: 0.9556 - val_loss: 0.1609 - val_accuracy: 0.9565\n",
      "Epoch 7/500\n",
      "3/3 [==============================] - 0s 38ms/step - loss: 0.2478 - accuracy: 0.9778 - val_loss: 0.1580 - val_accuracy: 0.9565\n",
      "Epoch 8/500\n",
      "3/3 [==============================] - 0s 42ms/step - loss: 0.2413 - accuracy: 0.9667 - val_loss: 0.1561 - val_accuracy: 0.9130\n",
      "Epoch 9/500\n",
      "3/3 [==============================] - 0s 35ms/step - loss: 0.2355 - accuracy: 0.9667 - val_loss: 0.1544 - val_accuracy: 0.9130\n",
      "Epoch 10/500\n",
      "3/3 [==============================] - 0s 40ms/step - loss: 0.2306 - accuracy: 0.9778 - val_loss: 0.1524 - val_accuracy: 0.9130\n",
      "Epoch 11/500\n",
      "3/3 [==============================] - 0s 42ms/step - loss: 0.2251 - accuracy: 0.9778 - val_loss: 0.1507 - val_accuracy: 0.9130\n",
      "Epoch 12/500\n",
      "3/3 [==============================] - 0s 36ms/step - loss: 0.1792 - accuracy: 0.9778 - val_loss: 0.1490 - val_accuracy: 0.9130\n",
      "Epoch 13/500\n",
      "3/3 [==============================] - 0s 40ms/step - loss: 0.1694 - accuracy: 0.9778 - val_loss: 0.1468 - val_accuracy: 0.9130\n",
      "Epoch 14/500\n",
      "3/3 [==============================] - 0s 43ms/step - loss: 0.1624 - accuracy: 0.9778 - val_loss: 0.1464 - val_accuracy: 0.9130\n",
      "Epoch 15/500\n",
      "3/3 [==============================] - 0s 37ms/step - loss: 0.1562 - accuracy: 0.9778 - val_loss: 0.1466 - val_accuracy: 0.9130\n",
      "Epoch 16/500\n",
      "3/3 [==============================] - 0s 40ms/step - loss: 0.1504 - accuracy: 0.9778 - val_loss: 0.1487 - val_accuracy: 0.9130\n",
      "Epoch 17/500\n",
      "3/3 [==============================] - 0s 33ms/step - loss: 0.1463 - accuracy: 0.9778 - val_loss: 0.1524 - val_accuracy: 0.9130\n",
      "Epoch 18/500\n",
      "3/3 [==============================] - 0s 40ms/step - loss: 0.1422 - accuracy: 0.9778 - val_loss: 0.1590 - val_accuracy: 0.9130\n",
      "Epoch 19/500\n",
      "3/3 [==============================] - 0s 43ms/step - loss: 0.1381 - accuracy: 0.9778 - val_loss: 0.1754 - val_accuracy: 0.9130\n",
      "Epoch 19: early stopping\n",
      "1/1 [==============================] - 0s 16ms/step\n",
      "Epoch 1/500\n",
      "3/3 [==============================] - 0s 67ms/step - loss: 0.1578 - accuracy: 0.9667 - val_loss: 0.0871 - val_accuracy: 0.9565\n",
      "Epoch 2/500\n",
      "3/3 [==============================] - 0s 38ms/step - loss: 0.1414 - accuracy: 0.9667 - val_loss: 0.0900 - val_accuracy: 0.9565\n",
      "Epoch 3/500\n",
      "3/3 [==============================] - 0s 43ms/step - loss: 0.1327 - accuracy: 0.9667 - val_loss: 0.0935 - val_accuracy: 0.9130\n",
      "Epoch 4/500\n",
      "3/3 [==============================] - 0s 34ms/step - loss: 0.1282 - accuracy: 0.9778 - val_loss: 0.0969 - val_accuracy: 0.9130\n",
      "Epoch 5/500\n",
      "3/3 [==============================] - 0s 45ms/step - loss: 0.1250 - accuracy: 0.9778 - val_loss: 0.0995 - val_accuracy: 0.9130\n",
      "Epoch 6/500\n",
      "3/3 [==============================] - 0s 44ms/step - loss: 0.1223 - accuracy: 0.9778 - val_loss: 0.1011 - val_accuracy: 0.9130\n",
      "Epoch 6: early stopping\n",
      "1/1 [==============================] - 0s 16ms/step\n",
      "Epoch 1/500\n",
      "3/3 [==============================] - 0s 73ms/step - loss: 0.1294 - accuracy: 0.9560 - val_loss: 0.0592 - val_accuracy: 1.0000\n",
      "Epoch 2/500\n",
      "3/3 [==============================] - 0s 46ms/step - loss: 0.1269 - accuracy: 0.9560 - val_loss: 0.0573 - val_accuracy: 1.0000\n",
      "Epoch 3/500\n",
      "3/3 [==============================] - 0s 36ms/step - loss: 0.1244 - accuracy: 0.9670 - val_loss: 0.0558 - val_accuracy: 1.0000\n",
      "Epoch 4/500\n",
      "3/3 [==============================] - 0s 38ms/step - loss: 0.1210 - accuracy: 0.9780 - val_loss: 0.0546 - val_accuracy: 1.0000\n",
      "Epoch 5/500\n",
      "3/3 [==============================] - 0s 38ms/step - loss: 0.1177 - accuracy: 0.9780 - val_loss: 0.0539 - val_accuracy: 1.0000\n",
      "Epoch 6/500\n",
      "3/3 [==============================] - 0s 54ms/step - loss: 0.1145 - accuracy: 0.9780 - val_loss: 0.0537 - val_accuracy: 1.0000\n",
      "Epoch 7/500\n",
      "3/3 [==============================] - 0s 88ms/step - loss: 0.1117 - accuracy: 0.9780 - val_loss: 0.0536 - val_accuracy: 1.0000\n",
      "Epoch 8/500\n",
      "3/3 [==============================] - 0s 42ms/step - loss: 0.1092 - accuracy: 0.9890 - val_loss: 0.0539 - val_accuracy: 1.0000\n",
      "Epoch 9/500\n",
      "3/3 [==============================] - 0s 36ms/step - loss: 0.1068 - accuracy: 0.9890 - val_loss: 0.0542 - val_accuracy: 1.0000\n",
      "Epoch 10/500\n",
      "3/3 [==============================] - 0s 41ms/step - loss: 0.1047 - accuracy: 0.9890 - val_loss: 0.0543 - val_accuracy: 1.0000\n",
      "Epoch 11/500\n",
      "3/3 [==============================] - 0s 42ms/step - loss: 0.1027 - accuracy: 0.9890 - val_loss: 0.0543 - val_accuracy: 1.0000\n",
      "Epoch 12/500\n",
      "3/3 [==============================] - 0s 40ms/step - loss: 0.1010 - accuracy: 0.9890 - val_loss: 0.0541 - val_accuracy: 1.0000\n",
      "Epoch 12: early stopping\n",
      "1/1 [==============================] - 0s 21ms/step\n",
      "Epoch 1/500\n",
      "3/3 [==============================] - 0s 74ms/step - loss: 0.1096 - accuracy: 0.9890 - val_loss: 0.0111 - val_accuracy: 1.0000\n",
      "Epoch 2/500\n",
      "3/3 [==============================] - 0s 35ms/step - loss: 0.1076 - accuracy: 0.9890 - val_loss: 0.0109 - val_accuracy: 1.0000\n",
      "Epoch 3/500\n",
      "3/3 [==============================] - 0s 53ms/step - loss: 0.1054 - accuracy: 0.9890 - val_loss: 0.0108 - val_accuracy: 1.0000\n",
      "Epoch 4/500\n",
      "3/3 [==============================] - 0s 37ms/step - loss: 0.1035 - accuracy: 0.9890 - val_loss: 0.0107 - val_accuracy: 1.0000\n",
      "Epoch 5/500\n",
      "3/3 [==============================] - 0s 42ms/step - loss: 0.1013 - accuracy: 0.9890 - val_loss: 0.0106 - val_accuracy: 1.0000\n",
      "Epoch 6/500\n",
      "3/3 [==============================] - 0s 42ms/step - loss: 0.0997 - accuracy: 0.9890 - val_loss: 0.0105 - val_accuracy: 1.0000\n",
      "Epoch 7/500\n",
      "3/3 [==============================] - 0s 43ms/step - loss: 0.0977 - accuracy: 0.9890 - val_loss: 0.0105 - val_accuracy: 1.0000\n",
      "Epoch 8/500\n",
      "3/3 [==============================] - 0s 42ms/step - loss: 0.0960 - accuracy: 0.9890 - val_loss: 0.0104 - val_accuracy: 1.0000\n",
      "Epoch 9/500\n",
      "3/3 [==============================] - 0s 37ms/step - loss: 0.0947 - accuracy: 0.9890 - val_loss: 0.0103 - val_accuracy: 1.0000\n",
      "Epoch 10/500\n",
      "3/3 [==============================] - 0s 43ms/step - loss: 0.0932 - accuracy: 0.9890 - val_loss: 0.0102 - val_accuracy: 1.0000\n",
      "Epoch 11/500\n",
      "3/3 [==============================] - 0s 38ms/step - loss: 0.0918 - accuracy: 0.9890 - val_loss: 0.0103 - val_accuracy: 1.0000\n",
      "Epoch 12/500\n",
      "3/3 [==============================] - 0s 39ms/step - loss: 0.0904 - accuracy: 0.9890 - val_loss: 0.0104 - val_accuracy: 1.0000\n",
      "Epoch 13/500\n",
      "3/3 [==============================] - 0s 46ms/step - loss: 0.0890 - accuracy: 0.9890 - val_loss: 0.0105 - val_accuracy: 1.0000\n",
      "Epoch 14/500\n",
      "3/3 [==============================] - 0s 36ms/step - loss: 0.0878 - accuracy: 0.9890 - val_loss: 0.0106 - val_accuracy: 1.0000\n",
      "Epoch 15/500\n",
      "3/3 [==============================] - 0s 47ms/step - loss: 0.0868 - accuracy: 0.9890 - val_loss: 0.0107 - val_accuracy: 1.0000\n",
      "Epoch 15: early stopping\n",
      "1/1 [==============================] - 0s 16ms/step\n",
      "2/2 [==============================] - 0s 0s/step\n"
     ]
    }
   ],
   "source": [
    "params  = {'n_neurons' : [64,64], 'n_layers' :  2, 'epochs' : 500, 'patience' : 10}\n",
    "out = ml.full_cycle(X_test, X = X, y = y, name_model = 'NN',search = False, params = params, remove_outlier=True)"
   ]
  },
  {
   "cell_type": "code",
   "execution_count": 10,
   "id": "7cbf2e0e-fe4a-4d90-b7ed-d4f81d149349",
   "metadata": {},
   "outputs": [
    {
     "data": {
      "text/plain": [
       "2"
      ]
     },
     "execution_count": 10,
     "metadata": {},
     "output_type": "execute_result"
    }
   ],
   "source": [
    "out = out.astype(int)\n",
    "y_pred = y_pred.astype(int)\n",
    "diff = out.compare(y_pred)\n",
    "len(diff)"
   ]
  }
 ],
 "metadata": {
  "kernelspec": {
   "display_name": "asa",
   "language": "python",
   "name": "python3"
  },
  "language_info": {
   "codemirror_mode": {
    "name": "ipython",
    "version": 3
   },
   "file_extension": ".py",
   "mimetype": "text/x-python",
   "name": "python",
   "nbconvert_exporter": "python",
   "pygments_lexer": "ipython3",
   "version": "3.11.4"
  }
 },
 "nbformat": 4,
 "nbformat_minor": 5
}
