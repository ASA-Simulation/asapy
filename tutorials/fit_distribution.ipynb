{
 "cells": [
  {
   "cell_type": "markdown",
   "id": "5a20903c-fac6-4acd-a3de-237d5606189c",
   "metadata": {},
   "source": [
    "# AsaPy\n",
    "\n",
    "### Asa Analysis\n",
    "\n",
    "#### Analysis.fit_distribution\n",
    "\n",
    "    \"\"\"\n",
    "    Find the best fitting distribution for the input data.\n",
    "\n",
    "    This function compares 93 available distributions in the scipy library and finds the one \n",
    "    that best fits the input data. The best fit is determined by the Kolmogorov-Smirnov test.\n",
    "\n",
    "    Args:\n",
    "        df (pd.DataFrame): Input data, which must contain only one distribution.\n",
    "        verbose (bool, optional): Flag that controls whether detailed messages are displayed. Defaults to False.\n",
    "\n",
    "    Raises:\n",
    "        ValueError: Raised if the input data contains more than one distribution.\n",
    "\n",
    "    Returns:\n",
    "        pd.DataFrame: DataFrame with information about the distribution that best fits the input data, \n",
    "        as well as the most common distributions (``norm``, ``beta``, ``chi2``, ``uniform``, ``expon``). \n",
    "        The DataFrame's columns are: ``Distribution_Type``, ``P_Value``, ``Statistics``, and ``Parameters``.            \n",
    "    \"\"\"\n"
   ]
  },
  {
   "cell_type": "code",
   "execution_count": 1,
   "id": "adf8bf6f-18d5-4937-901c-c3d7008de940",
   "metadata": {},
   "outputs": [
    {
     "ename": "TypeError",
     "evalue": "Analysis.fit_distribution() got multiple values for argument 'verbose'",
     "output_type": "error",
     "traceback": [
      "\u001b[1;31m---------------------------------------------------------------------------\u001b[0m",
      "\u001b[1;31mTypeError\u001b[0m                                 Traceback (most recent call last)",
      "\u001b[1;32md:\\asa\\asapy\\tutorials\\fit_distribution.ipynb Cell 2\u001b[0m line \u001b[0;36m7\n\u001b[0;32m      <a href='vscode-notebook-cell:/d%3A/asa/asapy/tutorials/fit_distribution.ipynb#W1sZmlsZQ%3D%3D?line=2'>3</a>\u001b[0m X, y  \u001b[39m=\u001b[39m load_wine(as_frame\u001b[39m=\u001b[39m\u001b[39mTrue\u001b[39;00m, return_X_y\u001b[39m=\u001b[39m\u001b[39mTrue\u001b[39;00m)\n\u001b[0;32m      <a href='vscode-notebook-cell:/d%3A/asa/asapy/tutorials/fit_distribution.ipynb#W1sZmlsZQ%3D%3D?line=4'>5</a>\u001b[0m Analysis \u001b[39m=\u001b[39m asapy\u001b[39m.\u001b[39mAnalysis\n\u001b[1;32m----> <a href='vscode-notebook-cell:/d%3A/asa/asapy/tutorials/fit_distribution.ipynb#W1sZmlsZQ%3D%3D?line=6'>7</a>\u001b[0m result \u001b[39m=\u001b[39m Analysis\u001b[39m.\u001b[39;49mfit_distribution(X, \u001b[39m'\u001b[39;49m\u001b[39mmagnesium\u001b[39;49m\u001b[39m'\u001b[39;49m, verbose \u001b[39m=\u001b[39;49m \u001b[39mTrue\u001b[39;49;00m)\n",
      "\u001b[1;31mTypeError\u001b[0m: Analysis.fit_distribution() got multiple values for argument 'verbose'"
     ]
    }
   ],
   "source": [
    "import asapy\n",
    "from sklearn.datasets import load_wine\n",
    "X, y  = load_wine(as_frame=True, return_X_y=True)\n",
    "\n",
    "Analysis = asapy.Analysis\n",
    "\n",
    "result = Analysis.fit_distribution(X, 'magnesium', verbose = True)"
   ]
  }
 ],
 "metadata": {
  "kernelspec": {
   "display_name": "Python 3 (ipykernel)",
   "language": "python",
   "name": "python3"
  },
  "language_info": {
   "codemirror_mode": {
    "name": "ipython",
    "version": 3
   },
   "file_extension": ".py",
   "mimetype": "text/x-python",
   "name": "python",
   "nbconvert_exporter": "python",
   "pygments_lexer": "ipython3",
   "version": "3.11.4"
  }
 },
 "nbformat": 4,
 "nbformat_minor": 5
}
