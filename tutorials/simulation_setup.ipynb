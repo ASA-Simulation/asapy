{
 "cells": [
  {
   "cell_type": "markdown",
   "id": "0b2860c6",
   "metadata": {},
   "source": [
    "# Operações de Simulação com o Servidor ASA\n",
    "\n",
    "Este notebook detalha operações essenciais realizadas em simulações com o servidor ASA, incluindo autenticação, manipulação de simulações e aliases, criação de Design of Experiments (DOE), listagem de métricas, execução de lotes e recuperação de lotes.\n",
    "\n",
    "Índice:\n",
    "1. [Login e Autenticação](#login)\n",
    "2. [Carregando e Salvando Simulações](#carregando_simulacoes)\n",
    "3. [Listagem de Aliases](#listagem_aliases)\n",
    "4. [Edição dos Aliases](#edicao_aliases)\n",
    "5. [Criando Design de Experimentos (DOE)](#criando_doe)\n",
    "6. [Listando Métricas](#listando_metricas)\n",
    "7. [Executando um Lote com Parada Automática e Barra de Progresso](#executando_lote)\n",
    "8. [Recuperando um Lote de Execuções](#recuperando_lote)"
   ]
  },
  {
   "cell_type": "markdown",
   "id": "f8e64271",
   "metadata": {},
   "source": [
    "Esta célula importa todos os módulos necessários para execução e análise das simulações."
   ]
  },
  {
   "cell_type": "code",
   "execution_count": 17,
   "id": "718a13c7",
   "metadata": {},
   "outputs": [],
   "source": [
    "import asapy  # Fornece vinculações Python para a API AsaPy\n",
    "import asaclient # O módulo 'asaclient' é usado para estabelecer uma interface de cliente Python com o servidor Asa."
   ]
  },
  {
   "cell_type": "markdown",
   "id": "c08214c1",
   "metadata": {},
   "source": [
    "## Login e Autenticação <a name=\"login\"></a>\n",
    "\n",
    "A primeira etapa envolve login e autenticação, necessários para o usuário acessar o sistema. Inicializamos uma instância da classe `ASA` do módulo `asaclient`, definindo o parâmetro do servidor para a URL especificada. Esta ação estabelece uma conexão com o Servidor ASA."
   ]
  },
  {
   "cell_type": "code",
   "execution_count": 18,
   "id": "d5fc8615",
   "metadata": {},
   "outputs": [],
   "source": [
    "asa = asaclient.ASA(server=\"https://service.asa.dcta.mil.br\")"
   ]
  },
  {
   "cell_type": "markdown",
   "id": "dea405dd",
   "metadata": {},
   "source": [
    "\n",
    "## Carregando e Salvando Simulações <a name=\"carregando_simulacoes\"></a>\n",
    "\n",
    "Nesta seção, carregamos manualmente uma simulação a partir de um arquivo JSON. Este processo envolve abrir o arquivo JSON, carregar seu conteúdo em um dicionário Python e usar esses dados para instanciar um objeto de simulação."
   ]
  },
  {
   "cell_type": "code",
   "execution_count": 19,
   "id": "e545a832",
   "metadata": {},
   "outputs": [
    {
     "data": {
      "text/html": [
       "<ul><li><strong>id</strong>: 2700</li><li><strong>name</strong>: nav</li></ul>"
      ],
      "text/plain": [
       "Simulation({'id': 2700, 'name': 'nav', 'attributes': {}, 'custom_data': {}, 'station': Component({'identifier': 'AsaStation@AsaExtensions', 'attributes': {'duration': 4200}, 'subcomponents': {'recorders': [{'identifier': 'AsaWsDBRecorder@AsaModels', 'attributes': {}, 'alias': {}, 'subcomponents': {'asaBasicMsgs': [{'identifier': 'AsaBasicMsg6@AsaExtensions', 'attributes': {}, 'alias': {}, 'subcomponents': {}, 'customData': {}}, {'identifier': 'AsaBasicMsg5@AsaExtensions', 'attributes': {}, 'alias': {}, 'subcomponents': {}, 'customData': {}}, {'identifier': 'AsaBasicMsg4@AsaExtensions', 'attributes': {}, 'alias': {}, 'subcomponents': {}, 'customData': {}}, {'identifier': 'AsaBasicMsg7@AsaExtensions', 'attributes': {}, 'alias': {}, 'subcomponents': {}, 'customData': {}}], 'asaCustomMsgs': [{'identifier': 'AsaCustomMsg10@AsaModels', 'attributes': {}, 'alias': {}, 'subcomponents': {}, 'customData': {}}, {'identifier': 'AsaCustomMsg11@AsaModels', 'attributes': {}, 'alias': {}, 'subcomponents': {}, 'customData': {}}]}, 'customData': {}}], 'worldmodel': [{'identifier': 'AsaWorldModel@AsaModels', 'attributes': {'day': 23, 'enableTerrain': ' ', 'month': 3, 'pressMslHPa': 1013.25, 'refRange': 150, 'seed': 1, 'simulationTime': 43200, 'tempMslCelsius': 15, 'ws_lat': -15.5, 'ws_lon': -47.5, 'year': 1982}, 'alias': {}, 'subcomponents': {'monitors': [{'identifier': 'AsaTeamMetrics@AsaModels', 'attributes': {'metrics': ['fuel_consumed', 'time_of_flight', 'acft_standing', 'acft_damaged', 'acft_killed', 'aam_remaining', 'aam_hit', 'aam_frat', 'aam_lost', 'sam_remaining', 'sam_hit', 'sam_frat', 'sam_lost', 'bmb_remaining', 'bmb_released', 'air_vehicle_damage', 'gnd_vehicle_damage', 'building_damage'], 'side': 'blue', 'ws_name': 'Team_Metrics_Blue'}, 'alias': {}, 'subcomponents': {}, 'customData': {}}], 'players': [{'identifier': 'AsaAirBase@AsaModels', 'attributes': {'controlCenter': 'Blue_HQ', 'initAlt': 3024, 'initFuel': 250000, 'reactionTime': 8, 'side': 'blue', 'ws_lat': -16.8580269, 'ws_lon': -48.4300192, 'ws_name': 'Blue_Airbase'}, 'alias': {}, 'subcomponents': {'datalink': [{'identifier': 'AsaDatalinkAirBase@AsaModels', 'attributes': {'netID': 1}, 'alias': {}, 'subcomponents': {}, 'customData': {}}], 'targetData': [], 'weaponsInventory': [{'identifier': 'AsaAamAllocator@AsaModels', 'attributes': {'quantity': 50}, 'alias': {}, 'subcomponents': {}, 'customData': {}}, {'identifier': 'AsaBombAllocator@AsaModels', 'attributes': {'quantity': 50}, 'alias': {}, 'subcomponents': {}, 'customData': {}}]}, 'customData': {}}, {'identifier': 'AsaFighter@AsaModels', 'attributes': {'airBaseName': 'Blue_Airbase', 'dataLogTime': 0.1, 'fuelFreeze': False, 'quickReaction': False, 'rcs': 5, 'repositioningTime': 15, 'side': 'blue', 'type': 'F-16C', 'ws_lat': -16.8580269, 'ws_lon': -48.4300192, 'ws_name': 'B01'}, 'alias': {}, 'subcomponents': {'airTrackManager': [{'identifier': 'AsaAirTrkMgr@AsaModels', 'attributes': {'alpha': 0.95, 'beta': 0.75, 'gamma': 0, 'logTrackUpdates': False, 'maxTrackAge': 10, 'maxTracks': 32, 'positionGate': 500, 'velocityGate': 100}, 'alias': {}, 'subcomponents': {}, 'customData': {}}], 'commAntenna': [{'identifier': 'AsaCommAntenna@AsaModels', 'attributes': {'gain': 8, 'maxRange2PlayersOfInterest': 120, 'polarization': 'none', 'terrainOcculting': False, 'threshold': 1e-07}, 'alias': {}, 'subcomponents': {}, 'customData': {}}], 'commRadio': [{'identifier': 'AsaCommRadio@AsaModels', 'attributes': {'bandwidthNoise': 9, 'channelFreq': 123.45, 'lossRecv': 3, 'lossSignalProcess': 5, 'lossXmit': 3, 'noiseFigure': 5, 'powerPeak': 25, 'systemTemperature': 290, 'threshold': 23}, 'alias': {}, 'subcomponents': {}, 'customData': {}}], 'datalink': [{'identifier': 'AsaDatalinkFighter@AsaModels', 'attributes': {'intranetID': 1, 'netID': 1, 'subnetID': 1, 'timeStatusMsg': 1, 'timeTrkListMsg': 1}, 'alias': {}, 'subcomponents': {}, 'customData': {}}], 'datalinkAntenna': [{'identifier': 'AsaCommAntenna@AsaModels', 'attributes': {'gain': 8, 'maxRange2PlayersOfInterest': 120, 'polarization': 'none', 'terrainOcculting': False, 'threshold': 1e-07}, 'alias': {}, 'subcomponents': {}, 'customData': {}}], 'datalinkRadio': [{'identifier': 'AsaDatalinkRadio@AsaModels', 'attributes': {'bandwidthNoise': 10, 'channelFreq': 276.8, 'lossRecv': 3, 'lossSignalProcess': 5, 'lossXmit': 3, 'noiseFigure': 5, 'powerPeak': 25, 'systemTemperature': 290, 'threshold': 23}, 'alias': {}, 'subcomponents': {}, 'customData': {}}], 'dynamicsModel': [{'identifier': 'AsaFighterAerodynamics@AsaModels', 'attributes': {'dragTable': 'FIGHTER_DEFAULT_DRAG', 'initFuelWtLbs': 13000, 'loadFactorDragMult': 1, 'maxLoadFactorTable': 'FIGHTER_DEFAULT_MAX_G', 'maxPitchDeg': 60, 'maxSpeedKts': 1000, 'minPitchDeg': -30, 'minSpeedKts': 200, 'numEngines': 1, 'pitchRate': 10, 'rollRate': 90, 'thrustMaxAbTable': 'FIGHTER_DEFAULT_AB_THRUST', 'thrustMaxMilTable': 'FIGHTER_DEFAULT_MIL_THRUST', 'thrustMinTable': 'FIGHTER_DEFAULT_IDLE_THRUST', 'tsfcAfterBurner': 59.2, 'tsfcMilitary': 18, 'wingArea': 27.88, 'zeroFuelWeightLbs': 17400}, 'alias': {}, 'subcomponents': {}, 'customData': {}}], 'radar': [{'identifier': 'AsaFighterRadar@AsaModels', 'attributes': {'bandwidth': 2, 'dataLogTime': 0.1, 'frequency': 10, 'igain': 26.19093, 'lossRecv': 2, 'lossSignalProcess': 2, 'lossXmit': 2, 'noiseFigure': 3, 'powerPeak': 4, 'prfStt': 10000, 'prfTws': 5000, 'pwStt': 0.5, 'pwTws': 2, 'systemTemperature': 290, 'threshold': 12}, 'alias': {}, 'subcomponents': {}, 'customData': {}}], 'radarAntenna': [{'identifier': 'AsaFighterRdrAntenna@AsaModels', 'attributes': {'azimuthLimit': 60, 'barSpacing': 0.05235988, 'beamWidth': 3.5, 'commandRateAzimuth': 60, 'commandRateElevation': 60, 'elevationLimit': 60, 'gain': 35, 'gainPattern': 'FIGHTER_DEFAULT_ANT_PATTERN', 'maxAngle2PlayersOfInterest': 90, 'maxRange2PlayersOfInterest': 100, 'maxRateAzimuth': 120, 'maxRateElevation': 120, 'numBars': 4, 'polarization': 'none', 'revolutionsPerSec': 25, 'scanWidth': 2.094395, 'terrainOcculting': False, 'threshold': 1e-07, 'type': 'electronic'}, 'alias': {}, 'subcomponents': {}, 'customData': {}}], 'rwr': [{'identifier': 'AsaRwr@AsaModels', 'attributes': {'aoiAccuracy': 3, 'bandwidthNoise': 500, 'bufferingTime': 0.1, 'emitterDb': 'ASA_DEFAULT_EMITTER_DB', 'freqResolution': 2, 'lossRecv': 2, 'lossSignalProcess': 5, 'noiseFigure': 8, 'systemTemperature': 290, 'threshold': 18}, 'alias': {}, 'subcomponents': {}, 'customData': {}}], 'rwrAntenna': [{'identifier': 'AsaRwrAntenna@AsaModels', 'attributes': {'elevationLimit': 45, 'gain': 5, 'maxRange2PlayersOfInterest': 120, 'polarization': 'none', 'terrainOcculting': False, 'threshold': 1e-07}, 'alias': {}, 'subcomponents': {}, 'customData': {}}], 'rwrTrackManager': [{'identifier': 'AsaRwrTrkMgr@AsaModels', 'attributes': {'alpha': 0.15, 'beta': 0.01, 'logTrackUpdates': True, 'maxTrackAge': 8, 'maxTracks': 32}, 'alias': {}, 'subcomponents': {}, 'customData': {}}]}, 'customData': {}}, {'identifier': 'AsaFighter@AsaModels', 'attributes': {'airBaseName': 'Blue_Airbase', 'dataLogTime': 0.1, 'fuelFreeze': False, 'quickReaction': False, 'rcs': 5, 'repositioningTime': 15, 'side': 'blue', 'type': 'F-16C', 'ws_lat': -16.8580269, 'ws_lon': -48.4300192, 'ws_name': 'B02'}, 'alias': {}, 'subcomponents': {'airTrackManager': [{'identifier': 'AsaAirTrkMgr@AsaModels', 'attributes': {'alpha': 0.95, 'beta': 0.75, 'gamma': 0, 'logTrackUpdates': False, 'maxTrackAge': 10, 'maxTracks': 32, 'positionGate': 500, 'velocityGate': 100}, 'alias': {}, 'subcomponents': {}, 'customData': {}}], 'commAntenna': [{'identifier': 'AsaCommAntenna@AsaModels', 'attributes': {'gain': 8, 'maxRange2PlayersOfInterest': 120, 'polarization': 'none', 'terrainOcculting': False, 'threshold': 1e-07}, 'alias': {}, 'subcomponents': {}, 'customData': {}}], 'commRadio': [{'identifier': 'AsaCommRadio@AsaModels', 'attributes': {'bandwidthNoise': 9, 'channelFreq': 123.45, 'lossRecv': 3, 'lossSignalProcess': 5, 'lossXmit': 3, 'noiseFigure': 5, 'powerPeak': 25, 'systemTemperature': 290, 'threshold': 23}, 'alias': {}, 'subcomponents': {}, 'customData': {}}], 'datalink': [{'identifier': 'AsaDatalinkFighter@AsaModels', 'attributes': {'intranetID': 1, 'netID': 1, 'subnetID': 1, 'timeStatusMsg': 1, 'timeTrkListMsg': 1}, 'alias': {}, 'subcomponents': {}, 'customData': {}}], 'datalinkAntenna': [{'identifier': 'AsaCommAntenna@AsaModels', 'attributes': {'gain': 8, 'maxRange2PlayersOfInterest': 120, 'polarization': 'none', 'terrainOcculting': False, 'threshold': 1e-07}, 'alias': {}, 'subcomponents': {}, 'customData': {}}], 'datalinkRadio': [{'identifier': 'AsaDatalinkRadio@AsaModels', 'attributes': {'bandwidthNoise': 10, 'channelFreq': 276.8, 'lossRecv': 3, 'lossSignalProcess': 5, 'lossXmit': 3, 'noiseFigure': 5, 'powerPeak': 25, 'systemTemperature': 290, 'threshold': 23}, 'alias': {}, 'subcomponents': {}, 'customData': {}}], 'dynamicsModel': [{'identifier': 'AsaFighterAerodynamics@AsaModels', 'attributes': {'dragTable': 'FIGHTER_DEFAULT_DRAG', 'initFuelWtLbs': 13000, 'loadFactorDragMult': 1, 'maxLoadFactorTable': 'FIGHTER_DEFAULT_MAX_G', 'maxPitchDeg': 60, 'maxSpeedKts': 1000, 'minPitchDeg': -30, 'minSpeedKts': 200, 'numEngines': 1, 'pitchRate': 10, 'rollRate': 90, 'thrustMaxAbTable': 'FIGHTER_DEFAULT_AB_THRUST', 'thrustMaxMilTable': 'FIGHTER_DEFAULT_MIL_THRUST', 'thrustMinTable': 'FIGHTER_DEFAULT_IDLE_THRUST', 'tsfcAfterBurner': 59.2, 'tsfcMilitary': 18, 'wingArea': 27.88, 'zeroFuelWeightLbs': 17400}, 'alias': {}, 'subcomponents': {}, 'customData': {}}], 'radar': [{'identifier': 'AsaFighterRadar@AsaModels', 'attributes': {'bandwidth': 2, 'dataLogTime': 0.1, 'frequency': 10, 'igain': 26.19093, 'lossRecv': 2, 'lossSignalProcess': 2, 'lossXmit': 2, 'noiseFigure': 3, 'powerPeak': 4, 'prfStt': 10000, 'prfTws': 5000, 'pwStt': 0.5, 'pwTws': 2, 'systemTemperature': 290, 'threshold': 12}, 'alias': {}, 'subcomponents': {}, 'customData': {}}], 'radarAntenna': [{'identifier': 'AsaFighterRdrAntenna@AsaModels', 'attributes': {'azimuthLimit': 60, 'barSpacing': 0.05235988, 'beamWidth': 3.5, 'commandRateAzimuth': 60, 'commandRateElevation': 60, 'elevationLimit': 60, 'gain': 35, 'gainPattern': 'FIGHTER_DEFAULT_ANT_PATTERN', 'maxAngle2PlayersOfInterest': 90, 'maxRange2PlayersOfInterest': 100, 'maxRateAzimuth': 120, 'maxRateElevation': 120, 'numBars': 4, 'polarization': 'none', 'revolutionsPerSec': 25, 'scanWidth': 2.094395, 'terrainOcculting': False, 'threshold': 1e-07, 'type': 'electronic'}, 'alias': {}, 'subcomponents': {}, 'customData': {}}], 'rwr': [{'identifier': 'AsaRwr@AsaModels', 'attributes': {'aoiAccuracy': 3, 'bandwidthNoise': 500, 'bufferingTime': 0.1, 'emitterDb': 'ASA_DEFAULT_EMITTER_DB', 'freqResolution': 2, 'lossRecv': 2, 'lossSignalProcess': 5, 'noiseFigure': 8, 'systemTemperature': 290, 'threshold': 18}, 'alias': {}, 'subcomponents': {}, 'customData': {}}], 'rwrAntenna': [{'identifier': 'AsaRwrAntenna@AsaModels', 'attributes': {'elevationLimit': 45, 'gain': 5, 'maxRange2PlayersOfInterest': 120, 'polarization': 'none', 'terrainOcculting': False, 'threshold': 1e-07}, 'alias': {}, 'subcomponents': {}, 'customData': {}}], 'rwrTrackManager': [{'identifier': 'AsaRwrTrkMgr@AsaModels', 'attributes': {'alpha': 0.15, 'beta': 0.01, 'logTrackUpdates': False, 'maxTrackAge': 8, 'maxTracks': 32}, 'alias': {}, 'subcomponents': {}, 'customData': {}}]}, 'customData': {}}, {'identifier': 'AsaFighter@AsaModels', 'attributes': {'airBaseName': 'Blue_Airbase', 'dataLogTime': 0.1, 'fuelFreeze': False, 'quickReaction': False, 'rcs': 5, 'repositioningTime': 15, 'side': 'blue', 'type': 'F-16C', 'ws_lat': -16.8580269, 'ws_lon': -48.4300192, 'ws_name': 'B03'}, 'alias': {}, 'subcomponents': {'airTrackManager': [{'identifier': 'AsaAirTrkMgr@AsaModels', 'attributes': {'alpha': 0.95, 'beta': 0.75, 'gamma': 0, 'logTrackUpdates': False, 'maxTrackAge': 10, 'maxTracks': 32, 'positionGate': 500, 'velocityGate': 100}, 'alias': {}, 'subcomponents': {}, 'customData': {}}], 'commAntenna': [{'identifier': 'AsaCommAntenna@AsaModels', 'attributes': {'gain': 8, 'maxRange2PlayersOfInterest': 120, 'polarization': 'none', 'terrainOcculting': False, 'threshold': 1e-07}, 'alias': {}, 'subcomponents': {}, 'customData': {}}], 'commRadio': [{'identifier': 'AsaCommRadio@AsaModels', 'attributes': {'bandwidthNoise': 9, 'channelFreq': 123.45, 'lossRecv': 3, 'lossSignalProcess': 5, 'lossXmit': 3, 'noiseFigure': 5, 'powerPeak': 25, 'systemTemperature': 290, 'threshold': 23}, 'alias': {}, 'subcomponents': {}, 'customData': {}}], 'datalink': [{'identifier': 'AsaDatalinkFighter@AsaModels', 'attributes': {'intranetID': 1, 'netID': 1, 'subnetID': 1, 'timeStatusMsg': 1, 'timeTrkListMsg': 1}, 'alias': {}, 'subcomponents': {}, 'customData': {}}], 'datalinkAntenna': [{'identifier': 'AsaCommAntenna@AsaModels', 'attributes': {'gain': 8, 'maxRange2PlayersOfInterest': 120, 'polarization': 'none', 'terrainOcculting': False, 'threshold': 1e-07}, 'alias': {}, 'subcomponents': {}, 'customData': {}}], 'datalinkRadio': [{'identifier': 'AsaDatalinkRadio@AsaModels', 'attributes': {'bandwidthNoise': 10, 'channelFreq': 276.8, 'lossRecv': 3, 'lossSignalProcess': 5, 'lossXmit': 3, 'noiseFigure': 5, 'powerPeak': 25, 'systemTemperature': 290, 'threshold': 23}, 'alias': {}, 'subcomponents': {}, 'customData': {}}], 'dynamicsModel': [{'identifier': 'AsaFighterAerodynamics@AsaModels', 'attributes': {'dragTable': 'FIGHTER_DEFAULT_DRAG', 'initFuelWtLbs': 13000, 'loadFactorDragMult': 1, 'maxLoadFactorTable': 'FIGHTER_DEFAULT_MAX_G', 'maxPitchDeg': 60, 'maxSpeedKts': 1000, 'minPitchDeg': -30, 'minSpeedKts': 200, 'numEngines': 1, 'pitchRate': 10, 'rollRate': 90, 'thrustMaxAbTable': 'FIGHTER_DEFAULT_AB_THRUST', 'thrustMaxMilTable': 'FIGHTER_DEFAULT_MIL_THRUST', 'thrustMinTable': 'FIGHTER_DEFAULT_IDLE_THRUST', 'tsfcAfterBurner': 59.2, 'tsfcMilitary': 18, 'wingArea': 27.88, 'zeroFuelWeightLbs': 17400}, 'alias': {}, 'subcomponents': {}, 'customData': {}}], 'radar': [{'identifier': 'AsaFighterRadar@AsaModels', 'attributes': {'bandwidth': 2, 'dataLogTime': 0.1, 'frequency': 10, 'igain': 26.19093, 'lossRecv': 2, 'lossSignalProcess': 2, 'lossXmit': 2, 'noiseFigure': 3, 'powerPeak': 4, 'prfStt': 10000, 'prfTws': 5000, 'pwStt': 0.5, 'pwTws': 2, 'systemTemperature': 290, 'threshold': 12}, 'alias': {}, 'subcomponents': {}, 'customData': {}}], 'radarAntenna': [{'identifier': 'AsaFighterRdrAntenna@AsaModels', 'attributes': {'azimuthLimit': 60, 'barSpacing': 0.05235988, 'beamWidth': 3.5, 'commandRateAzimuth': 60, 'commandRateElevation': 60, 'elevationLimit': 60, 'gain': 35, 'gainPattern': 'FIGHTER_DEFAULT_ANT_PATTERN', 'maxAngle2PlayersOfInterest': 90, 'maxRange2PlayersOfInterest': 100, 'maxRateAzimuth': 120, 'maxRateElevation': 120, 'numBars': 4, 'polarization': 'none', 'revolutionsPerSec': 25, 'scanWidth': 2.094395, 'terrainOcculting': False, 'threshold': 1e-07, 'type': 'electronic'}, 'alias': {}, 'subcomponents': {}, 'customData': {}}], 'rwr': [{'identifier': 'AsaRwr@AsaModels', 'attributes': {'aoiAccuracy': 3, 'bandwidthNoise': 500, 'bufferingTime': 0.1, 'emitterDb': 'ASA_DEFAULT_EMITTER_DB', 'freqResolution': 2, 'lossRecv': 2, 'lossSignalProcess': 5, 'noiseFigure': 8, 'systemTemperature': 290, 'threshold': 18}, 'alias': {}, 'subcomponents': {}, 'customData': {}}], 'rwrAntenna': [{'identifier': 'AsaRwrAntenna@AsaModels', 'attributes': {'elevationLimit': 45, 'gain': 5, 'maxRange2PlayersOfInterest': 120, 'polarization': 'none', 'terrainOcculting': False, 'threshold': 1e-07}, 'alias': {}, 'subcomponents': {}, 'customData': {}}], 'rwrTrackManager': [{'identifier': 'AsaRwrTrkMgr@AsaModels', 'attributes': {'alpha': 0.15, 'beta': 0.01, 'logTrackUpdates': False, 'maxTrackAge': 8, 'maxTracks': 32}, 'alias': {}, 'subcomponents': {}, 'customData': {}}]}, 'customData': {}}, {'identifier': 'AsaFighter@AsaModels', 'attributes': {'airBaseName': 'Blue_Airbase', 'dataLogTime': 0.1, 'fuelFreeze': False, 'quickReaction': False, 'rcs': 5, 'repositioningTime': 15, 'side': 'blue', 'type': 'F-16C', 'ws_lat': -16.8580269, 'ws_lon': -48.4300192, 'ws_name': 'B04'}, 'alias': {}, 'subcomponents': {'airTrackManager': [{'identifier': 'AsaAirTrkMgr@AsaModels', 'attributes': {'alpha': 0.95, 'beta': 0.75, 'gamma': 0, 'logTrackUpdates': False, 'maxTrackAge': 10, 'maxTracks': 32, 'positionGate': 500, 'velocityGate': 100}, 'alias': {}, 'subcomponents': {}, 'customData': {}}], 'commAntenna': [{'identifier': 'AsaCommAntenna@AsaModels', 'attributes': {'gain': 8, 'maxRange2PlayersOfInterest': 120, 'polarization': 'none', 'terrainOcculting': False, 'threshold': 1e-07}, 'alias': {}, 'subcomponents': {}, 'customData': {}}], 'commRadio': [{'identifier': 'AsaCommRadio@AsaModels', 'attributes': {'bandwidthNoise': 9, 'channelFreq': 123.45, 'lossRecv': 3, 'lossSignalProcess': 5, 'lossXmit': 3, 'noiseFigure': 5, 'powerPeak': 25, 'systemTemperature': 290, 'threshold': 23}, 'alias': {}, 'subcomponents': {}, 'customData': {}}], 'datalink': [{'identifier': 'AsaDatalinkFighter@AsaModels', 'attributes': {'intranetID': 1, 'netID': 1, 'subnetID': 1, 'timeStatusMsg': 1, 'timeTrkListMsg': 1}, 'alias': {}, 'subcomponents': {}, 'customData': {}}], 'datalinkAntenna': [{'identifier': 'AsaCommAntenna@AsaModels', 'attributes': {'gain': 8, 'maxRange2PlayersOfInterest': 120, 'polarization': 'none', 'terrainOcculting': False, 'threshold': 1e-07}, 'alias': {}, 'subcomponents': {}, 'customData': {}}], 'datalinkRadio': [{'identifier': 'AsaDatalinkRadio@AsaModels', 'attributes': {'bandwidthNoise': 10, 'channelFreq': 276.8, 'lossRecv': 3, 'lossSignalProcess': 5, 'lossXmit': 3, 'noiseFigure': 5, 'powerPeak': 25, 'systemTemperature': 290, 'threshold': 23}, 'alias': {}, 'subcomponents': {}, 'customData': {}}], 'dynamicsModel': [{'identifier': 'AsaFighterAerodynamics@AsaModels', 'attributes': {'dragTable': 'FIGHTER_DEFAULT_DRAG', 'initFuelWtLbs': 13000, 'loadFactorDragMult': 1, 'maxLoadFactorTable': 'FIGHTER_DEFAULT_MAX_G', 'maxPitchDeg': 60, 'maxSpeedKts': 1000, 'minPitchDeg': -30, 'minSpeedKts': 200, 'numEngines': 1, 'pitchRate': 10, 'rollRate': 90, 'thrustMaxAbTable': 'FIGHTER_DEFAULT_AB_THRUST', 'thrustMaxMilTable': 'FIGHTER_DEFAULT_MIL_THRUST', 'thrustMinTable': 'FIGHTER_DEFAULT_IDLE_THRUST', 'tsfcAfterBurner': 59.2, 'tsfcMilitary': 18, 'wingArea': 27.88, 'zeroFuelWeightLbs': 17400}, 'alias': {}, 'subcomponents': {}, 'customData': {}}], 'radar': [{'identifier': 'AsaFighterRadar@AsaModels', 'attributes': {'bandwidth': 2, 'dataLogTime': 0.1, 'frequency': 10, 'igain': 26.19093, 'lossRecv': 2, 'lossSignalProcess': 2, 'lossXmit': 2, 'noiseFigure': 3, 'powerPeak': 4, 'prfStt': 10000, 'prfTws': 5000, 'pwStt': 0.5, 'pwTws': 2, 'systemTemperature': 290, 'threshold': 12}, 'alias': {}, 'subcomponents': {}, 'customData': {}}], 'radarAntenna': [{'identifier': 'AsaFighterRdrAntenna@AsaModels', 'attributes': {'azimuthLimit': 60, 'barSpacing': 0.05235988, 'beamWidth': 3.5, 'commandRateAzimuth': 60, 'commandRateElevation': 60, 'elevationLimit': 60, 'gain': 35, 'gainPattern': 'FIGHTER_DEFAULT_ANT_PATTERN', 'maxAngle2PlayersOfInterest': 90, 'maxRange2PlayersOfInterest': 100, 'maxRateAzimuth': 120, 'maxRateElevation': 120, 'numBars': 4, 'polarization': 'none', 'revolutionsPerSec': 25, 'scanWidth': 2.094395, 'terrainOcculting': False, 'threshold': 1e-07, 'type': 'electronic'}, 'alias': {}, 'subcomponents': {}, 'customData': {}}], 'rwr': [{'identifier': 'AsaRwr@AsaModels', 'attributes': {'aoiAccuracy': 3, 'bandwidthNoise': 500, 'bufferingTime': 0.1, 'emitterDb': 'ASA_DEFAULT_EMITTER_DB', 'freqResolution': 2, 'lossRecv': 2, 'lossSignalProcess': 5, 'noiseFigure': 8, 'systemTemperature': 290, 'threshold': 18}, 'alias': {}, 'subcomponents': {}, 'customData': {}}], 'rwrAntenna': [{'identifier': 'AsaRwrAntenna@AsaModels', 'attributes': {'elevationLimit': 45, 'gain': 5, 'maxRange2PlayersOfInterest': 120, 'polarization': 'none', 'terrainOcculting': False, 'threshold': 1e-07}, 'alias': {}, 'subcomponents': {}, 'customData': {}}], 'rwrTrackManager': [{'identifier': 'AsaRwrTrkMgr@AsaModels', 'attributes': {'alpha': 0.15, 'beta': 0.01, 'logTrackUpdates': False, 'maxTrackAge': 8, 'maxTracks': 32}, 'alias': {}, 'subcomponents': {}, 'customData': {}}]}, 'customData': {}}, {'identifier': 'AsaC2C@AsaModels', 'attributes': {'borderID': 'Blue_Land', 'groundClamp': True, 'initAlt': 2906, 'initHeading': 0, 'reactionFactor': 1, 'side': 'blue', 'ws_lat': -16.7582088, 'ws_lon': -47.3325168, 'ws_name': 'Blue_HQ'}, 'alias': {}, 'subcomponents': {'capPoints': [], 'datalink': [{'identifier': 'AsaDatalinkC2C@AsaModels', 'attributes': {'hasGroundLink': True, 'netID': 1, 'timeTrkListMsg': 1, 'timeTrkListMsgBroadCtrl': 15}, 'alias': {}, 'subcomponents': {}, 'customData': {}}], 'stdPilotProfile': [], 'stdWeaponsProfile': [], 'targetData': [], 'taskOrders': [{'identifier': 'AsaAirTaskOrder@AsaModels', 'attributes': {'airBaseDep': 'Blue_Airbase', 'airBaseLand': 'Blue_Airbase', 'baseAirspeedKts': 420, 'borderCrossAllowed': False, 'borderShootAllowed': False, 'formType': 'arrow', 'fuelPerAcft': 7000, 'initAlt': 5000, 'initHeading': 0, 'intranetID': 1, 'isAltHeight': False, 'lifeSpan': 300, 'netChannelFreq': 276.8, 'netID': 1, 'numAcft': 4, 'ownerID': 'user', 'startTime': 5, 'subnetID': 1, 'taskID': 'ATO_1', 'taskType': 'other', 'ws_lat': -16.8580269, 'ws_lon': -48.4300192, 'ws_name': 'Eagle'}, 'alias': {}, 'subcomponents': {'capFaorProfile': [], 'capProfile': [], 'gndAtkProfile': [], 'pilotProfile': [{'identifier': 'AsaBasPilotSetter@AsaModels', 'attributes': {'baseAltitude': 25000, 'groupRank': 1}, 'alias': {}, 'subcomponents': {}, 'customData': {}}], 'weaponProfile': [], 'ws_open_polygon': [{'identifier': 'AsaSteerpointSetter@AsaModels', 'attributes': {'cmdAirspeed': 450, 'cmdAltitude': 20000, 'elevation': 2707, 'formType': 'arrow', 'groundClamp': True, 'hasHold': False, 'heightAboveTerrain': 300, 'holdCounterClockwise': False, 'holdDuration': 600, 'holdLegHeading': 0, 'holdLegTime': 120, 'terrainFollowingLeg': False, 'ws_lat': -16.74795913696289, 'ws_lon': -48.16693115234375}, 'alias': {}, 'subcomponents': {'action': []}, 'customData': {}}, {'identifier': 'AsaSteerpointSetter@AsaModels', 'attributes': {'cmdAirspeed': 380, 'cmdAltitude': 10000, 'elevation': 2841, 'formType': 'arrow', 'groundClamp': True, 'hasHold': False, 'heightAboveTerrain': 300, 'holdCounterClockwise': False, 'holdDuration': 600, 'holdLegHeading': 0, 'holdLegTime': 120, 'terrainFollowingLeg': False, 'ws_lat': -16.61747932434082, 'ws_lon': -47.44364929199219}, 'alias': {}, 'subcomponents': {'action': []}, 'customData': {}}, {'identifier': 'AsaSteerpointSetter@AsaModels', 'attributes': {'cmdAirspeed': 420, 'cmdAltitude': 25000, 'elevation': 3120, 'formType': 'wedge', 'groundClamp': True, 'hasHold': True, 'heightAboveTerrain': 300, 'holdCounterClockwise': False, 'holdDuration': 900, 'holdLegHeading': 0, 'holdLegTime': 60, 'terrainFollowingLeg': False, 'ws_lat': -16.01906967163086, 'ws_lon': -47.44292068481445}, 'alias': {'cmdAirspeed': 'hold_speed_kt', 'cmdAltitude': 'hold_altitude_ft'}, 'subcomponents': {'action': []}, 'customData': {}}, {'identifier': 'AsaSteerpointSetter@AsaModels', 'attributes': {'cmdAirspeed': 500, 'cmdAltitude': 15000, 'elevation': 3513, 'formType': 'box', 'groundClamp': True, 'hasHold': False, 'heightAboveTerrain': 300, 'holdCounterClockwise': False, 'holdDuration': 600, 'holdLegHeading': 0, 'holdLegTime': 120, 'terrainFollowingLeg': False, 'ws_lat': -15.959589958190918, 'ws_lon': -48.105628967285156}, 'alias': {}, 'subcomponents': {'action': []}, 'customData': {}}, {'identifier': 'AsaSteerpointSetter@AsaModels', 'attributes': {'cmdAirspeed': 500, 'cmdAltitude': 10000, 'elevation': 850, 'formType': 'line_abreast', 'groundClamp': True, 'hasHold': False, 'heightAboveTerrain': 300, 'holdCounterClockwise': False, 'holdDuration': 600, 'holdLegHeading': 0, 'holdLegTime': 120, 'terrainFollowingLeg': False, 'ws_lat': -16.528770446777344, 'ws_lon': -48.40293884277344}, 'alias': {}, 'subcomponents': {'action': []}, 'customData': {}}]}, 'customData': {}}], 'trackManager': [{'identifier': 'AsaAirTrkMgr@AsaModels', 'attributes': {'alpha': 0.95, 'beta': 0.75, 'gamma': 0, 'logTrackUpdates': False, 'maxTrackAge': 10, 'maxTracks': 100, 'positionGate': 2778, 'velocityGate': 100}, 'alias': {}, 'subcomponents': {}, 'customData': {}}]}, 'customData': {}}], 'pois': [{'identifier': 'AsaPOI@AsaModels', 'attributes': {'alt': 3120, 'side': 'blue', 'ws_lat': -16.01906967163086, 'ws_lon': -47.44292068481445, 'ws_name': 'Blue_CAP_Point'}, 'alias': {}, 'subcomponents': {}, 'customData': {}}], 'wezRepo': [{'identifier': 'AsaWezAam@AsaModels', 'attributes': {}, 'alias': {}, 'subcomponents': {}, 'customData': {}}], 'zones': [{'identifier': 'AsaZone@AsaModels', 'attributes': {'altitudeMax': 60000, 'altitudeMin': 0, 'side': 'blue', 'ws_name': 'Blue_Land'}, 'alias': {}, 'subcomponents': {'ws_closed_polygon': [{'identifier': 'AsaPosition@AsaModels', 'attributes': {'alt': 0, 'ws_lat': -15.80578, 'ws_lon': -48.57188}, 'alias': {}, 'subcomponents': {}, 'customData': {}}, {'identifier': 'AsaPosition@AsaModels', 'attributes': {'alt': 0, 'ws_lat': -16.95009, 'ws_lon': -48.56748}, 'alias': {}, 'subcomponents': {}, 'customData': {}}, {'identifier': 'AsaPosition@AsaModels', 'attributes': {'alt': 0, 'ws_lat': -17.00391, 'ws_lon': -47.11325}, 'alias': {}, 'subcomponents': {}, 'customData': {}}, {'identifier': 'AsaPosition@AsaModels', 'attributes': {'alt': 0, 'ws_lat': -15.85456, 'ws_lon': -47.15403}, 'alias': {}, 'subcomponents': {}, 'customData': {}}]}, 'customData': {}}, {'identifier': 'AsaZone@AsaModels', 'attributes': {'altitudeMax': 60000, 'altitudeMin': 0, 'side': 'red', 'ws_name': 'Red_Land'}, 'alias': {}, 'subcomponents': {'ws_closed_polygon': [{'identifier': 'AsaPosition@AsaModels', 'attributes': {'alt': 0, 'ws_lat': -15.80578, 'ws_lon': -48.57189}, 'alias': {}, 'subcomponents': {}, 'customData': {}}, {'identifier': 'AsaPosition@AsaModels', 'attributes': {'alt': 0, 'ws_lat': -14.65014, 'ws_lon': -48.59004}, 'alias': {}, 'subcomponents': {}, 'customData': {}}, {'identifier': 'AsaPosition@AsaModels', 'attributes': {'alt': 0, 'ws_lat': -14.67867, 'ws_lon': -47.194}, 'alias': {}, 'subcomponents': {}, 'customData': {}}, {'identifier': 'AsaPosition@AsaModels', 'attributes': {'alt': 0, 'ws_lat': -15.85461, 'ws_lon': -47.15397}, 'alias': {}, 'subcomponents': {}, 'customData': {}}]}, 'customData': {}}]}, 'customData': {}}]}, 'alias': {}, 'custom_data': {}})})"
      ]
     },
     "execution_count": 19,
     "metadata": {},
     "output_type": "execute_result"
    }
   ],
   "source": [
    "simulation_name = \"nav_demo\"\n",
    "sim = asapy.load_simulation(f\"./simulations/nav_demo.json\")  # Creating a Simulation from the JSON file at the specified path, and assigning it to 'sim'.\n",
    "sim = asa.save_simulation(sim)\n",
    "sim"
   ]
  },
  {
   "cell_type": "markdown",
   "id": "5b7cbd08",
   "metadata": {
    "tags": []
   },
   "source": [
    "## Listagem de Aliases <a name=\"listagem_aliases\"></a>\n",
    "\n",
    "Esta seção envolve a enumeração de todos os aliases presentes em uma simulação.\n",
    "\n",
    "Primeiro instanciamos um objeto da classe ``Doe`` (Design of Experiments). Em seguida, processamos os aliases (parâmetros utilizados nas simulações) para a simulação escolhida ``sim``, usando o método ``process_aliases_by_sim`` e passando as configurações dos componentes do servidor ASA. Os aliases processados são armazenados na variável ``aliases`` e exibidos. A função ``asa.component_configs()`` retorna uma lista de configurações de componentes. Essa informação é crucial para entender os números padrão, mínimo e máximo de componentes em um determinado cenário."
   ]
  },
  {
   "cell_type": "code",
   "execution_count": 20,
   "id": "a5d400b1",
   "metadata": {},
   "outputs": [
    {
     "data": {
      "text/html": [
       "<div>\n",
       "<style scoped>\n",
       "    .dataframe tbody tr th:only-of-type {\n",
       "        vertical-align: middle;\n",
       "    }\n",
       "\n",
       "    .dataframe tbody tr th {\n",
       "        vertical-align: top;\n",
       "    }\n",
       "\n",
       "    .dataframe thead th {\n",
       "        text-align: right;\n",
       "    }\n",
       "</style>\n",
       "<table border=\"1\" class=\"dataframe\">\n",
       "  <thead>\n",
       "    <tr style=\"text-align: right;\">\n",
       "      <th></th>\n",
       "      <th>label</th>\n",
       "      <th>type</th>\n",
       "      <th>default</th>\n",
       "      <th>min</th>\n",
       "      <th>max</th>\n",
       "      <th>alias_attribute</th>\n",
       "    </tr>\n",
       "  </thead>\n",
       "  <tbody>\n",
       "    <tr>\n",
       "      <th>hold_speed_kt</th>\n",
       "      <td>Leg speed (kt)</td>\n",
       "      <td>double</td>\n",
       "      <td>420</td>\n",
       "      <td>0</td>\n",
       "      <td>NaN</td>\n",
       "      <td>cmdAirspeed</td>\n",
       "    </tr>\n",
       "    <tr>\n",
       "      <th>hold_altitude_ft</th>\n",
       "      <td>Leg altitude (ft)</td>\n",
       "      <td>double</td>\n",
       "      <td>5000</td>\n",
       "      <td>NaN</td>\n",
       "      <td>NaN</td>\n",
       "      <td>cmdAltitude</td>\n",
       "    </tr>\n",
       "  </tbody>\n",
       "</table>\n",
       "</div>"
      ],
      "text/plain": [
       "                              label    type default  min  max alias_attribute\n",
       "hold_speed_kt        Leg speed (kt)  double     420    0  NaN     cmdAirspeed\n",
       "hold_altitude_ft  Leg altitude (ft)  double    5000  NaN  NaN     cmdAltitude"
      ]
     },
     "execution_count": 20,
     "metadata": {},
     "output_type": "execute_result"
    }
   ],
   "source": [
    "doe = asapy.Doe()\n",
    "aliases = doe.process_aliases_by_sim(sim, asa.component_configs()) \n",
    "aliases"
   ]
  },
  {
   "cell_type": "markdown",
   "id": "144b88e0",
   "metadata": {},
   "source": [
    "## Edição dos Aliases <a name=\"edicao_aliases\"></a>\n",
    "\n",
    "Esta seção permite que os usuários modifiquem os parâmetros dos aliases listados para atender às suas necessidades específicas.\n",
    "\n",
    "Esta operação ilustra como você pode ajustar manualmente o intervalo de um parâmetro de alias dentro do seu Design de Experimentos. Após o ajuste, o DataFrame 'aliases' atualizado é exibido."
   ]
  },
  {
   "cell_type": "code",
   "execution_count": 21,
   "id": "3ae77707",
   "metadata": {},
   "outputs": [
    {
     "data": {
      "text/html": [
       "<div>\n",
       "<style scoped>\n",
       "    .dataframe tbody tr th:only-of-type {\n",
       "        vertical-align: middle;\n",
       "    }\n",
       "\n",
       "    .dataframe tbody tr th {\n",
       "        vertical-align: top;\n",
       "    }\n",
       "\n",
       "    .dataframe thead th {\n",
       "        text-align: right;\n",
       "    }\n",
       "</style>\n",
       "<table border=\"1\" class=\"dataframe\">\n",
       "  <thead>\n",
       "    <tr style=\"text-align: right;\">\n",
       "      <th></th>\n",
       "      <th>label</th>\n",
       "      <th>type</th>\n",
       "      <th>default</th>\n",
       "      <th>min</th>\n",
       "      <th>max</th>\n",
       "      <th>alias_attribute</th>\n",
       "    </tr>\n",
       "  </thead>\n",
       "  <tbody>\n",
       "    <tr>\n",
       "      <th>hold_speed_kt</th>\n",
       "      <td>Leg speed (kt)</td>\n",
       "      <td>double</td>\n",
       "      <td>420</td>\n",
       "      <td>100</td>\n",
       "      <td>500.0</td>\n",
       "      <td>cmdAirspeed</td>\n",
       "    </tr>\n",
       "    <tr>\n",
       "      <th>hold_altitude_ft</th>\n",
       "      <td>Leg altitude (ft)</td>\n",
       "      <td>double</td>\n",
       "      <td>5000</td>\n",
       "      <td>1000</td>\n",
       "      <td>10000.0</td>\n",
       "      <td>cmdAltitude</td>\n",
       "    </tr>\n",
       "  </tbody>\n",
       "</table>\n",
       "</div>"
      ],
      "text/plain": [
       "                              label    type default   min      max  \\\n",
       "hold_speed_kt        Leg speed (kt)  double     420   100    500.0   \n",
       "hold_altitude_ft  Leg altitude (ft)  double    5000  1000  10000.0   \n",
       "\n",
       "                 alias_attribute  \n",
       "hold_speed_kt        cmdAirspeed  \n",
       "hold_altitude_ft     cmdAltitude  "
      ]
     },
     "execution_count": 21,
     "metadata": {},
     "output_type": "execute_result"
    }
   ],
   "source": [
    "aliases.loc['hold_speed_kt','min'] = 100\n",
    "aliases.loc['hold_speed_kt','max'] = 500\n",
    "aliases.loc['hold_altitude_ft','min'] = 1000\n",
    "aliases.loc['hold_altitude_ft','max'] = 10000\n",
    "aliases"
   ]
  },
  {
   "cell_type": "markdown",
   "id": "4ee4284d",
   "metadata": {
    "tags": []
   },
   "source": [
    "## Criando Design de Experimentos (DOE) <a name=\"criando_doe\"></a>\n",
    "\n",
    "Os usuários têm a capacidade de estabelecer um DOE, que lhes permite planejar, conduzir e analisar um conjunto de experimentos de maneira sistemática.\n",
    "\n",
    "Nesta célula, estamos usando o método 'create' do objeto 'Doe' para gerar uma tabela de Design de Experimentos (DOE). O método recebe como argumentos os aliases processados anteriormente e o número de amostras. O DOE resultante é um DataFrame do pandas, que é armazenado na variável 'df' e então exibido.\n",
    "O DOE é criado usando um método de Amostragem de Hipercubo Latino (LHS) e um tamanho de amostra samples. A função retorna um novo DataFrame com os nomes e valores das variáveis de entrada de acordo com o seu tipo."
   ]
  },
  {
   "cell_type": "code",
   "execution_count": 22,
   "id": "0dad990c",
   "metadata": {},
   "outputs": [
    {
     "data": {
      "text/html": [
       "<div>\n",
       "<style scoped>\n",
       "    .dataframe tbody tr th:only-of-type {\n",
       "        vertical-align: middle;\n",
       "    }\n",
       "\n",
       "    .dataframe tbody tr th {\n",
       "        vertical-align: top;\n",
       "    }\n",
       "\n",
       "    .dataframe thead th {\n",
       "        text-align: right;\n",
       "    }\n",
       "</style>\n",
       "<table border=\"1\" class=\"dataframe\">\n",
       "  <thead>\n",
       "    <tr style=\"text-align: right;\">\n",
       "      <th></th>\n",
       "      <th>hold_speed_kt</th>\n",
       "      <th>hold_altitude_ft</th>\n",
       "    </tr>\n",
       "  </thead>\n",
       "  <tbody>\n",
       "    <tr>\n",
       "      <th>0</th>\n",
       "      <td>188.19</td>\n",
       "      <td>4211.28</td>\n",
       "    </tr>\n",
       "    <tr>\n",
       "      <th>1</th>\n",
       "      <td>127.43</td>\n",
       "      <td>9147.27</td>\n",
       "    </tr>\n",
       "    <tr>\n",
       "      <th>2</th>\n",
       "      <td>248.11</td>\n",
       "      <td>6565.74</td>\n",
       "    </tr>\n",
       "    <tr>\n",
       "      <th>3</th>\n",
       "      <td>384.94</td>\n",
       "      <td>1342.40</td>\n",
       "    </tr>\n",
       "    <tr>\n",
       "      <th>4</th>\n",
       "      <td>460.55</td>\n",
       "      <td>5071.36</td>\n",
       "    </tr>\n",
       "    <tr>\n",
       "      <th>5</th>\n",
       "      <td>113.77</td>\n",
       "      <td>5339.41</td>\n",
       "    </tr>\n",
       "    <tr>\n",
       "      <th>6</th>\n",
       "      <td>394.63</td>\n",
       "      <td>7310.72</td>\n",
       "    </tr>\n",
       "    <tr>\n",
       "      <th>7</th>\n",
       "      <td>315.56</td>\n",
       "      <td>2700.34</td>\n",
       "    </tr>\n",
       "    <tr>\n",
       "      <th>8</th>\n",
       "      <td>424.99</td>\n",
       "      <td>8796.59</td>\n",
       "    </tr>\n",
       "    <tr>\n",
       "      <th>9</th>\n",
       "      <td>492.93</td>\n",
       "      <td>3513.96</td>\n",
       "    </tr>\n",
       "    <tr>\n",
       "      <th>10</th>\n",
       "      <td>171.61</td>\n",
       "      <td>9725.18</td>\n",
       "    </tr>\n",
       "    <tr>\n",
       "      <th>11</th>\n",
       "      <td>225.91</td>\n",
       "      <td>1702.91</td>\n",
       "    </tr>\n",
       "    <tr>\n",
       "      <th>12</th>\n",
       "      <td>359.44</td>\n",
       "      <td>3336.17</td>\n",
       "    </tr>\n",
       "    <tr>\n",
       "      <th>13</th>\n",
       "      <td>264.85</td>\n",
       "      <td>7682.72</td>\n",
       "    </tr>\n",
       "    <tr>\n",
       "      <th>14</th>\n",
       "      <td>312.41</td>\n",
       "      <td>6162.13</td>\n",
       "    </tr>\n",
       "  </tbody>\n",
       "</table>\n",
       "</div>"
      ],
      "text/plain": [
       "    hold_speed_kt  hold_altitude_ft\n",
       "0          188.19           4211.28\n",
       "1          127.43           9147.27\n",
       "2          248.11           6565.74\n",
       "3          384.94           1342.40\n",
       "4          460.55           5071.36\n",
       "5          113.77           5339.41\n",
       "6          394.63           7310.72\n",
       "7          315.56           2700.34\n",
       "8          424.99           8796.59\n",
       "9          492.93           3513.96\n",
       "10         171.61           9725.18\n",
       "11         225.91           1702.91\n",
       "12         359.44           3336.17\n",
       "13         264.85           7682.72\n",
       "14         312.41           6162.13"
      ]
     },
     "execution_count": 22,
     "metadata": {},
     "output_type": "execute_result"
    }
   ],
   "source": [
    "df = doe.create(aliases, samples=15, seed=101)\n",
    "df"
   ]
  },
  {
   "cell_type": "markdown",
   "id": "d04caa9f",
   "metadata": {},
   "source": [
    "## Listando Métricas <a name=\"listando_metricas\"></a>\n",
    "\n",
    "Esta etapa envolve a geração de uma lista de todas as métricas usadas em uma simulação.\n",
    "\n",
    "O seguinte segmento de código recupera e processa as métricas associadas à simulação ``sim``. O método ``process_metrics`` do objeto ``Doe`` é usado para obter um DataFrame, ``metrics_df``, contendo os dados das métricas. A linha de código subsequente seleciona a linha rotulada como ``Team_Metrics_Blue`` do DataFrame e recupera as métricas correspondentes usando a coluna ``metrics``."
   ]
  },
  {
   "cell_type": "code",
   "execution_count": 23,
   "id": "412525b3",
   "metadata": {},
   "outputs": [
    {
     "data": {
      "text/html": [
       "<div>\n",
       "<style scoped>\n",
       "    .dataframe tbody tr th:only-of-type {\n",
       "        vertical-align: middle;\n",
       "    }\n",
       "\n",
       "    .dataframe tbody tr th {\n",
       "        vertical-align: top;\n",
       "    }\n",
       "\n",
       "    .dataframe thead th {\n",
       "        text-align: right;\n",
       "    }\n",
       "</style>\n",
       "<table border=\"1\" class=\"dataframe\">\n",
       "  <thead>\n",
       "    <tr style=\"text-align: right;\">\n",
       "      <th></th>\n",
       "      <th>identifier</th>\n",
       "      <th>metrics</th>\n",
       "    </tr>\n",
       "    <tr>\n",
       "      <th>ws_name</th>\n",
       "      <th></th>\n",
       "      <th></th>\n",
       "    </tr>\n",
       "  </thead>\n",
       "  <tbody>\n",
       "    <tr>\n",
       "      <th>Team_Metrics_Blue</th>\n",
       "      <td>AsaTeamMetrics@AsaModels</td>\n",
       "      <td>[fuel_consumed, time_of_flight, acft_standing,...</td>\n",
       "    </tr>\n",
       "  </tbody>\n",
       "</table>\n",
       "</div>"
      ],
      "text/plain": [
       "                                 identifier  \\\n",
       "ws_name                                       \n",
       "Team_Metrics_Blue  AsaTeamMetrics@AsaModels   \n",
       "\n",
       "                                                             metrics  \n",
       "ws_name                                                               \n",
       "Team_Metrics_Blue  [fuel_consumed, time_of_flight, acft_standing,...  "
      ]
     },
     "execution_count": 23,
     "metadata": {},
     "output_type": "execute_result"
    }
   ],
   "source": [
    "metrics_df = doe.process_metrics(sim)\n",
    "metrics_df"
   ]
  },
  {
   "cell_type": "markdown",
   "id": "5f0e2238-5f6a-4456-8e89-9f48be0894c0",
   "metadata": {},
   "source": [
    "Inspecionando especificando as métricas do time `blue`"
   ]
  },
  {
   "cell_type": "code",
   "execution_count": 24,
   "id": "58ccc1aa-3313-407a-9e4f-44f4fb6219fd",
   "metadata": {},
   "outputs": [
    {
     "name": "stdout",
     "output_type": "stream",
     "text": [
      "['fuel_consumed', 'time_of_flight', 'acft_standing', 'acft_damaged', 'acft_killed', 'aam_remaining', 'aam_hit', 'aam_frat', 'aam_lost', 'sam_remaining', 'sam_hit', 'sam_frat', 'sam_lost', 'bmb_remaining', 'bmb_released', 'air_vehicle_damage', 'gnd_vehicle_damage', 'building_damage']\n"
     ]
    }
   ],
   "source": [
    "print(metrics_df.loc['Team_Metrics_Blue']['metrics'])"
   ]
  },
  {
   "cell_type": "markdown",
   "id": "b4099e44",
   "metadata": {},
   "source": [
    "A variável `metric` é atribuída ao valor da string `acft_standing`, representando uma métrica específica de interesse no contexto da análise. Esta métrica será importante ao implementar o recurso de parada automática durante a execução em lote.\n"
   ]
  },
  {
   "cell_type": "code",
   "execution_count": 25,
   "id": "a4d3a3e8",
   "metadata": {},
   "outputs": [],
   "source": [
    "metric = 'acft_standing' \n",
    "side= 'blue'"
   ]
  },
  {
   "cell_type": "markdown",
   "id": "2df8e360",
   "metadata": {},
   "source": [
    "## Executando um Lote com Parada Automática e Barra de Progresso <a name=\"executando_lote\"></a>\n",
    "\n",
    "Este recurso permite aos usuários executar um processo em lote e uma barra de progresso para acompanhar visualmente sua conclusão.\n",
    "\n",
    "O lote está associado à simulação identificada por ``sim.id``. Após sua criação, ele é enviado para o sistema para posterior processamento e eventual execução.\n",
    "\n",
    "Os códigos a seguir inicializa um objeto `ExecutionController` chamado `ec`. O parâmetro `sim_func` é definido como `asapy.batch_simulate(batch=batch)`, que especifica a função responsável pela execução da simulação em lote.\n",
    "\n",
    "`asa::recorder::AsaMonitorReport` traz os relatórios de monitoramento para a simulação, ou seja, as métricas utilizadas para controlar a execução do lote estão listadas.\n",
    "\n",
    "O parâmetro `stop_func` é definido como `asapy.stop_func(metric=metric, threshold=0.001)`, que indica a função a ser usada para parar a execução com base em uma métrica e um limite especificados.\n",
    "\n",
    "O parâmetro `chunk_size` determina o tamanho de cada pedaço de simulações a ser executado simultaneamente."
   ]
  },
  {
   "cell_type": "code",
   "execution_count": 26,
   "id": "3e0b7f08",
   "metadata": {},
   "outputs": [
    {
     "name": "stdout",
     "output_type": "stream",
     "text": [
      "Batch criado: 2599\n"
     ]
    }
   ],
   "source": [
    "batch = asaclient.Batch(label=simulation_name, simulation_id=sim.id)\n",
    "batch = asa.save_batch(batch)\n",
    "print(f\"Batch criado: {batch.id}\")\n",
    "ec = asapy.ExecutionController(sim_func=asapy.batch_simulate(batch=batch), stop_func=asapy.stop_func(metric=metric, threshold=0.001, side=side), chunk_size=3)"
   ]
  },
  {
   "cell_type": "markdown",
   "id": "ad9e02ce",
   "metadata": {},
   "source": [
    "O método `run` do objeto `ec` é executado, passando o DataFrame `df` os com aliases. O resultado da execução é armazenado na variável `results`."
   ]
  },
  {
   "cell_type": "code",
   "execution_count": 27,
   "id": "dc27f4c8",
   "metadata": {},
   "outputs": [
    {
     "name": "stderr",
     "output_type": "stream",
     "text": [
      "21it [02:26,  6.96s/it]                        \n"
     ]
    }
   ],
   "source": [
    "results = ec.run(doe=df)"
   ]
  },
  {
   "cell_type": "markdown",
   "id": "3408ab76",
   "metadata": {},
   "source": [
    "## Recuperando um Lote de Execuções <a name=\"recuperando_lote\"></a>\n",
    "\n",
    "Após a conclusão do processo em lote, os usuários podem recuperá-lo para análise. Nesta seção, salvamos os aliases e os resultados das simulações para análises futuras."
   ]
  },
  {
   "cell_type": "code",
   "execution_count": 16,
   "id": "b1bddd97",
   "metadata": {},
   "outputs": [],
   "source": [
    "import os\n",
    "\n",
    "# Create 'results' directory if it doesn't exist\n",
    "if not os.path.exists('results'):\n",
    "    os.makedirs('results')\n",
    "\n",
    "# Save the DataFrames to CSV files in the 'results' directory\n",
    "df.to_csv(f'./results/{simulation_name}_batch_{batch.id}_aliases.csv', index=False)\n",
    "results.to_csv(f\"./results/{simulation_name}_batch_{batch.id}.csv\", index=False)"
   ]
  }
 ],
 "metadata": {
  "kernelspec": {
   "display_name": "Python 3 (ipykernel)",
   "language": "python",
   "name": "python3"
  },
  "language_info": {
   "codemirror_mode": {
    "name": "ipython",
    "version": 3
   },
   "file_extension": ".py",
   "mimetype": "text/x-python",
   "name": "python",
   "nbconvert_exporter": "python",
   "pygments_lexer": "ipython3",
   "version": "3.11.4"
  }
 },
 "nbformat": 4,
 "nbformat_minor": 5
}
