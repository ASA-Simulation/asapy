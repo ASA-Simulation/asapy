{
 "cells": [
  {
   "cell_type": "markdown",
   "id": "0b2860c6",
   "metadata": {},
   "source": [
    "# Operações de Simulação com o Servidor ASA\n",
    "\n",
    "Este notebook detalha operações essenciais realizadas em simulações com o servidor ASA, incluindo autenticação, manipulação de simulações e aliases, criação de Design of Experiments (DOE), listagem de métricas, execução de lotes e recuperação de lotes.\n",
    "\n",
    "Índice:\n",
    "1. [Login e Autenticação](#login)\n",
    "2. [Carregando e Salvando Simulações](#carregando_simulacoes)\n",
    "3. [Listagem de Aliases](#listagem_aliases)\n",
    "4. [Edição dos Aliases](#edicao_aliases)\n",
    "5. [Criando Design de Experimentos (DOE)](#criando_doe)\n",
    "6. [Listando Métricas](#listando_metricas)\n",
    "7. [Executando um Lote com Parada Automática e Barra de Progresso](#executando_lote)\n",
    "8. [Recuperando um Lote de Execuções](#recuperando_lote)"
   ]
  },
  {
   "cell_type": "markdown",
   "id": "f8e64271",
   "metadata": {},
   "source": [
    "Esta célula importa todos os módulos necessários para execução e análise das simulações."
   ]
  },
  {
   "cell_type": "code",
   "execution_count": 1,
   "id": "718a13c7",
   "metadata": {},
   "outputs": [],
   "source": [
    "import asapy  # Fornece vinculações Python para a API AsaPy\n",
    "import asaclient # O módulo 'asaclient' é usado para estabelecer uma interface de cliente Python com o servidor Asa."
   ]
  },
  {
   "cell_type": "markdown",
   "id": "c08214c1",
   "metadata": {},
   "source": [
    "## Login e Autenticação <a name=\"login\"></a>\n",
    "\n",
    "A primeira etapa envolve login e autenticação, necessários para o usuário acessar o sistema. Inicializamos uma instância da classe `ASA` do módulo `asaclient`, definindo o parâmetro do servidor para a URL especificada. Esta ação estabelece uma conexão com o Servidor ASA."
   ]
  },
  {
   "cell_type": "code",
   "execution_count": 2,
   "id": "d5fc8615",
   "metadata": {},
   "outputs": [],
   "source": [
    "asa = asaclient.ASA(server=\"https://service.asa.dcta.mil.br\")"
   ]
  },
  {
   "cell_type": "markdown",
   "id": "dea405dd",
   "metadata": {},
   "source": [
    "\n",
    "## Carregando e Salvando Simulações <a name=\"carregando_simulacoes\"></a>\n",
    "\n",
    "Nesta seção, carregamos manualmente uma simulação a partir de um arquivo JSON. Este processo envolve abrir o arquivo JSON, carregar seu conteúdo em um dicionário Python e usar esses dados para instanciar um objeto de simulação."
   ]
  },
  {
   "cell_type": "code",
   "execution_count": 3,
   "id": "e545a832",
   "metadata": {},
   "outputs": [
    {
     "data": {
      "text/html": [
       "<ul><li><strong>id</strong>: 2733</li><li><strong>name</strong>: nav_demo</li></ul>"
      ],
      "text/plain": [
       "Simulation({'id': 2733, 'name': 'nav_demo', 'attributes': {}, 'custom_data': {}, 'station': Component({'identifier': 'AsaStation@AsaExtensions', 'attributes': {'duration': 4200, 'enableTracerCSV': False, 'enableTracerNetwork': False}, 'subcomponents': {'recorders': [{'identifier': 'AsaWsDBRecorder@AsaModels', 'attributes': {}, 'alias': {}, 'subcomponents': {'asaBasicMsgs': [], 'asaCustomMsgs': [{'identifier': 'AsaCustomMsg10@AsaModels', 'attributes': {}, 'alias': {}, 'subcomponents': {}, 'customData': {}}, {'identifier': 'AsaCustomMsg11@AsaModels', 'attributes': {}, 'alias': {}, 'subcomponents': {}, 'customData': {}}]}, 'customData': {}}], 'worldmodel': [{'identifier': 'AsaWorldModel@AsaModels', 'attributes': {'day': 23, 'enableTerrain': '//', 'month': 3, 'pressMslHPa': 1013.25, 'refRange': 150, 'seed': 1, 'simulationTime': 43200, 'tempMslCelsius': 15, 'ws_lat': -15.5, 'ws_lon': -47.5, 'year': 1982}, 'alias': {}, 'subcomponents': {'monitors': [{'identifier': 'AsaTeamMetrics@AsaModels', 'attributes': {'metrics': ['fuel_consumed', 'time_of_flight'], 'side': 'blue', 'ws_name': 'Team_Metrics_Blue'}, 'alias': {}, 'subcomponents': {}, 'customData': {}}], 'players': [{'identifier': 'AsaAirBase@AsaModels', 'attributes': {'controlCenter': 'Blue_HQ', 'groundClamp': True, 'initAlt': 3024, 'initFuel': 250000, 'initHeading': 0, 'reactionTime': 8, 'side': 'blue', 'ws_lat': -16.8580269, 'ws_lon': -48.4300192, 'ws_name': 'Blue_Airbase'}, 'alias': {}, 'subcomponents': {'datalink': [{'identifier': 'AsaDatalinkAirBase@AsaModels', 'attributes': {'netID': 1}, 'alias': {}, 'subcomponents': {}, 'customData': {'label': 'Airbase DL 1'}}], 'targetData': [], 'weaponsInventory': [{'identifier': 'AsaAamFox3Allocator@AsaModels', 'attributes': {'quantity': 50}, 'alias': {}, 'subcomponents': {}, 'customData': {'label': 'Generic F3 AAM 1'}}, {'identifier': 'AsaBombAllocator@AsaModels', 'attributes': {'quantity': 50}, 'alias': {}, 'subcomponents': {}, 'customData': {'label': 'Generic Bomb 2'}}]}, 'customData': {}}, {'identifier': 'AsaFighter@AsaModels', 'attributes': {'airBaseName': 'Blue_Airbase', 'dataLogTime': 0.1, 'fuelFreeze': False, 'quickReaction': False, 'rcs': 5, 'repositioningTime': 15, 'side': 'blue', 'type': 'F-16C', 'ws_lat': -16.8580269, 'ws_lon': -48.4300192, 'ws_name': 'B01'}, 'alias': {}, 'subcomponents': {'airTrackManager': [{'identifier': 'AsaAirTrkMgr@AsaModels', 'attributes': {'alpha': 0.95, 'beta': 0.75, 'gamma': 0, 'logTrackUpdates': True, 'maxTrackAge': 10, 'maxTracks': 32, 'positionGate': 500, 'velocityGate': 500}, 'alias': {}, 'subcomponents': {}, 'customData': {'label': 'Air Trk. Mgr. 1'}}], 'commAntenna': [{'identifier': 'AsaCommAntenna@AsaModels', 'attributes': {'gain': 8, 'maxRange2PlayersOfInterest': 120, 'polarization': 'none', 'terrainOcculting': False, 'threshold': 1e-07}, 'alias': {}, 'subcomponents': {}, 'customData': {'label': 'Comm. Ant. 1'}}], 'commRadio': [{'identifier': 'AsaCommRadio@AsaModels', 'attributes': {'bandwidthNoise': 9, 'channelFreq': 123.45, 'lossRecv': 3, 'lossSignalProcess': 5, 'lossXmit': 3, 'noiseFigure': 5, 'powerPeak': 25, 'systemTemperature': 290, 'threshold': 23}, 'alias': {}, 'subcomponents': {}, 'customData': {'label': 'Comm. 1'}}], 'datalink': [{'identifier': 'AsaDatalinkFighter@AsaModels', 'attributes': {'intranetID': 1, 'netID': 1, 'subnetID': 1, 'timeStatusMsg': 1, 'timeTrkListMsg': 1}, 'alias': {}, 'subcomponents': {}, 'customData': {'label': 'Fighter DL 1'}}], 'datalinkAntenna': [{'identifier': 'AsaCommAntenna@AsaModels', 'attributes': {'gain': 8, 'maxRange2PlayersOfInterest': 120, 'polarization': 'none', 'terrainOcculting': False, 'threshold': 1e-07}, 'alias': {}, 'subcomponents': {}, 'customData': {'label': 'Comm. Ant. 1'}}], 'datalinkRadio': [{'identifier': 'AsaDatalinkRadio@AsaModels', 'attributes': {'bandwidthNoise': 10, 'channelFreq': 276.8, 'lossRecv': 3, 'lossSignalProcess': 5, 'lossXmit': 3, 'noiseFigure': 5, 'powerPeak': 25, 'systemTemperature': 290, 'threshold': 23}, 'alias': {}, 'subcomponents': {}, 'customData': {'label': 'DL Radio 1'}}], 'dynamicsModel': [{'identifier': 'AsaFighterAerodynamics@AsaModels', 'attributes': {'dragTable': 'FIGHTER_DEFAULT_DRAG', 'initFuelWtLbs': 13000, 'loadFactorDragMult': 1, 'maxLoadFactorTable': 'FIGHTER_DEFAULT_MAX_G', 'maxPitchDeg': 60, 'maxSpeedKts': 1000, 'minPitchDeg': -30, 'minSpeedKts': 200, 'numEngines': 1, 'pitchRate': 10, 'rollRate': 90, 'thrustMaxAbTable': 'FIGHTER_DEFAULT_AB_THRUST', 'thrustMaxMilTable': 'FIGHTER_DEFAULT_MIL_THRUST', 'thrustMinTable': 'FIGHTER_DEFAULT_IDLE_THRUST', 'tsfcAfterBurner': 59.2, 'tsfcMilitary': 18, 'wingArea': 27.88, 'zeroFuelWeightLbs': 17400}, 'alias': {}, 'subcomponents': {}, 'customData': {'label': 'Fighter Aero 1'}}], 'radar': [{'identifier': 'AsaFighterRadar@AsaModels', 'attributes': {'bandwidth': 2, 'dataLogTime': 0.1, 'frequency': 10, 'igain': 26.19093, 'lossRecv': 2, 'lossSignalProcess': 2, 'lossXmit': 2, 'noiseFigure': 3, 'powerPeak': 4, 'prfStt': 10000, 'prfTws': 5000, 'pwStt': 0.5, 'pwTws': 2, 'systemTemperature': 290, 'threshold': 12}, 'alias': {}, 'subcomponents': {}, 'customData': {'label': 'Fighter Rdr. 1'}}], 'radarAntenna': [{'identifier': 'AsaFighterRdrAntenna@AsaModels', 'attributes': {'azimuthLimit': 60, 'barSpacing': 0.05235988, 'beamWidth': 3.5, 'commandRateAzimuth': 60, 'commandRateElevation': 60, 'elevationLimit': 60, 'gain': 35, 'gainPattern': 'FIGHTER_DEFAULT_ANT_PATTERN', 'maxAngle2PlayersOfInterest': 90, 'maxRange2PlayersOfInterest': 100, 'maxRateAzimuth': 120, 'maxRateElevation': 120, 'numBars': 4, 'polarization': 'none', 'revolutionsPerSec': 25, 'scanWidth': 2.094395, 'terrainOcculting': False, 'threshold': 1e-07, 'type': 'electronic'}, 'alias': {}, 'subcomponents': {}, 'customData': {'label': 'Fighter Rdr. Ant. 1'}}], 'rwr': [{'identifier': 'AsaRwr@AsaModels', 'attributes': {'aoiAccuracy': 3, 'bandwidthNoise': 500, 'bufferingTime': 0.1, 'emitterDb': 'ASA_DEFAULT_EMITTER_DB', 'freqResolution': 2, 'lossRecv': 2, 'lossSignalProcess': 5, 'noiseFigure': 8, 'systemTemperature': 290, 'threshold': 18}, 'alias': {}, 'subcomponents': {}, 'customData': {'label': 'RWR 1'}}], 'rwrAntenna': [{'identifier': 'AsaRwrAntenna@AsaModels', 'attributes': {'elevationLimit': 45, 'gain': 5, 'maxRange2PlayersOfInterest': 120, 'polarization': 'none', 'terrainOcculting': False, 'threshold': 1e-07}, 'alias': {}, 'subcomponents': {}, 'customData': {'label': 'RWR Ant. 1'}}], 'rwrTrackManager': [{'identifier': 'AsaRwrTrkMgr@AsaModels', 'attributes': {'alpha': 0.15, 'beta': 0.01, 'logTrackUpdates': True, 'maxTrackAge': 8, 'maxTracks': 32}, 'alias': {}, 'subcomponents': {}, 'customData': {'label': 'RWR Trk. Mgr. 1'}}]}, 'customData': {}}, {'identifier': 'AsaFighter@AsaModels', 'attributes': {'airBaseName': 'Blue_Airbase', 'dataLogTime': 0.1, 'fuelFreeze': False, 'quickReaction': False, 'rcs': 5, 'repositioningTime': 15, 'side': 'blue', 'type': 'F-16C', 'ws_lat': -16.8580269, 'ws_lon': -48.4300192, 'ws_name': 'B02'}, 'alias': {}, 'subcomponents': {'airTrackManager': [{'identifier': 'AsaAirTrkMgr@AsaModels', 'attributes': {'alpha': 0.95, 'beta': 0.75, 'gamma': 0, 'logTrackUpdates': True, 'maxTrackAge': 10, 'maxTracks': 32, 'positionGate': 500, 'velocityGate': 500}, 'alias': {}, 'subcomponents': {}, 'customData': {'label': 'Air Trk. Mgr. 1'}}], 'commAntenna': [{'identifier': 'AsaCommAntenna@AsaModels', 'attributes': {'gain': 8, 'maxRange2PlayersOfInterest': 120, 'polarization': 'none', 'terrainOcculting': False, 'threshold': 1e-07}, 'alias': {}, 'subcomponents': {}, 'customData': {'label': 'Comm. Ant. 1'}}], 'commRadio': [{'identifier': 'AsaCommRadio@AsaModels', 'attributes': {'bandwidthNoise': 9, 'channelFreq': 123.45, 'lossRecv': 3, 'lossSignalProcess': 5, 'lossXmit': 3, 'noiseFigure': 5, 'powerPeak': 25, 'systemTemperature': 290, 'threshold': 23}, 'alias': {}, 'subcomponents': {}, 'customData': {'label': 'Comm. 1'}}], 'datalink': [{'identifier': 'AsaDatalinkFighter@AsaModels', 'attributes': {'intranetID': 1, 'netID': 1, 'subnetID': 1, 'timeStatusMsg': 1, 'timeTrkListMsg': 1}, 'alias': {}, 'subcomponents': {}, 'customData': {'label': 'Fighter DL 1'}}], 'datalinkAntenna': [{'identifier': 'AsaCommAntenna@AsaModels', 'attributes': {'gain': 8, 'maxRange2PlayersOfInterest': 120, 'polarization': 'none', 'terrainOcculting': False, 'threshold': 1e-07}, 'alias': {}, 'subcomponents': {}, 'customData': {'label': 'Comm. Ant. 1'}}], 'datalinkRadio': [{'identifier': 'AsaDatalinkRadio@AsaModels', 'attributes': {'bandwidthNoise': 10, 'channelFreq': 276.8, 'lossRecv': 3, 'lossSignalProcess': 5, 'lossXmit': 3, 'noiseFigure': 5, 'powerPeak': 25, 'systemTemperature': 290, 'threshold': 23}, 'alias': {}, 'subcomponents': {}, 'customData': {'label': 'DL Radio 1'}}], 'dynamicsModel': [{'identifier': 'AsaFighterAerodynamics@AsaModels', 'attributes': {'dragTable': 'FIGHTER_DEFAULT_DRAG', 'initFuelWtLbs': 13000, 'loadFactorDragMult': 1, 'maxLoadFactorTable': 'FIGHTER_DEFAULT_MAX_G', 'maxPitchDeg': 60, 'maxSpeedKts': 1000, 'minPitchDeg': -30, 'minSpeedKts': 200, 'numEngines': 1, 'pitchRate': 10, 'rollRate': 90, 'thrustMaxAbTable': 'FIGHTER_DEFAULT_AB_THRUST', 'thrustMaxMilTable': 'FIGHTER_DEFAULT_MIL_THRUST', 'thrustMinTable': 'FIGHTER_DEFAULT_IDLE_THRUST', 'tsfcAfterBurner': 59.2, 'tsfcMilitary': 18, 'wingArea': 27.88, 'zeroFuelWeightLbs': 17400}, 'alias': {}, 'subcomponents': {}, 'customData': {'label': 'Fighter Aero 1'}}], 'radar': [{'identifier': 'AsaFighterRadar@AsaModels', 'attributes': {'bandwidth': 2, 'dataLogTime': 0.1, 'frequency': 10, 'igain': 26.19093, 'lossRecv': 2, 'lossSignalProcess': 2, 'lossXmit': 2, 'noiseFigure': 3, 'powerPeak': 4, 'prfStt': 10000, 'prfTws': 5000, 'pwStt': 0.5, 'pwTws': 2, 'systemTemperature': 290, 'threshold': 12}, 'alias': {}, 'subcomponents': {}, 'customData': {'label': 'Fighter Rdr. 1'}}], 'radarAntenna': [{'identifier': 'AsaFighterRdrAntenna@AsaModels', 'attributes': {'azimuthLimit': 60, 'barSpacing': 0.05235988, 'beamWidth': 3.5, 'commandRateAzimuth': 60, 'commandRateElevation': 60, 'elevationLimit': 60, 'gain': 35, 'gainPattern': 'FIGHTER_DEFAULT_ANT_PATTERN', 'maxAngle2PlayersOfInterest': 90, 'maxRange2PlayersOfInterest': 100, 'maxRateAzimuth': 120, 'maxRateElevation': 120, 'numBars': 4, 'polarization': 'none', 'revolutionsPerSec': 25, 'scanWidth': 2.094395, 'terrainOcculting': False, 'threshold': 1e-07, 'type': 'electronic'}, 'alias': {}, 'subcomponents': {}, 'customData': {'label': 'Fighter Rdr. Ant. 1'}}], 'rwr': [{'identifier': 'AsaRwr@AsaModels', 'attributes': {'aoiAccuracy': 3, 'bandwidthNoise': 500, 'bufferingTime': 0.1, 'emitterDb': 'ASA_DEFAULT_EMITTER_DB', 'freqResolution': 2, 'lossRecv': 2, 'lossSignalProcess': 5, 'noiseFigure': 8, 'systemTemperature': 290, 'threshold': 18}, 'alias': {}, 'subcomponents': {}, 'customData': {'label': 'RWR 1'}}], 'rwrAntenna': [{'identifier': 'AsaRwrAntenna@AsaModels', 'attributes': {'elevationLimit': 45, 'gain': 5, 'maxRange2PlayersOfInterest': 120, 'polarization': 'none', 'terrainOcculting': False, 'threshold': 1e-07}, 'alias': {}, 'subcomponents': {}, 'customData': {'label': 'RWR Ant. 1'}}], 'rwrTrackManager': [{'identifier': 'AsaRwrTrkMgr@AsaModels', 'attributes': {'alpha': 0.15, 'beta': 0.01, 'logTrackUpdates': True, 'maxTrackAge': 8, 'maxTracks': 32}, 'alias': {}, 'subcomponents': {}, 'customData': {'label': 'RWR Trk. Mgr. 1'}}]}, 'customData': {}}, {'identifier': 'AsaFighter@AsaModels', 'attributes': {'airBaseName': 'Blue_Airbase', 'dataLogTime': 0.1, 'fuelFreeze': False, 'quickReaction': False, 'rcs': 5, 'repositioningTime': 15, 'side': 'blue', 'type': 'F-16C', 'ws_lat': -16.8580269, 'ws_lon': -48.4300192, 'ws_name': 'B03'}, 'alias': {}, 'subcomponents': {'airTrackManager': [{'identifier': 'AsaAirTrkMgr@AsaModels', 'attributes': {'alpha': 0.95, 'beta': 0.75, 'gamma': 0, 'logTrackUpdates': True, 'maxTrackAge': 10, 'maxTracks': 32, 'positionGate': 500, 'velocityGate': 500}, 'alias': {}, 'subcomponents': {}, 'customData': {'label': 'Air Trk. Mgr. 1'}}], 'commAntenna': [{'identifier': 'AsaCommAntenna@AsaModels', 'attributes': {'gain': 8, 'maxRange2PlayersOfInterest': 120, 'polarization': 'none', 'terrainOcculting': False, 'threshold': 1e-07}, 'alias': {}, 'subcomponents': {}, 'customData': {'label': 'Comm. Ant. 1'}}], 'commRadio': [{'identifier': 'AsaCommRadio@AsaModels', 'attributes': {'bandwidthNoise': 9, 'channelFreq': 123.45, 'lossRecv': 3, 'lossSignalProcess': 5, 'lossXmit': 3, 'noiseFigure': 5, 'powerPeak': 25, 'systemTemperature': 290, 'threshold': 23}, 'alias': {}, 'subcomponents': {}, 'customData': {'label': 'Comm. 1'}}], 'datalink': [{'identifier': 'AsaDatalinkFighter@AsaModels', 'attributes': {'intranetID': 1, 'netID': 1, 'subnetID': 1, 'timeStatusMsg': 1, 'timeTrkListMsg': 1}, 'alias': {}, 'subcomponents': {}, 'customData': {'label': 'Fighter DL 1'}}], 'datalinkAntenna': [{'identifier': 'AsaCommAntenna@AsaModels', 'attributes': {'gain': 8, 'maxRange2PlayersOfInterest': 120, 'polarization': 'none', 'terrainOcculting': False, 'threshold': 1e-07}, 'alias': {}, 'subcomponents': {}, 'customData': {'label': 'Comm. Ant. 1'}}], 'datalinkRadio': [{'identifier': 'AsaDatalinkRadio@AsaModels', 'attributes': {'bandwidthNoise': 10, 'channelFreq': 276.8, 'lossRecv': 3, 'lossSignalProcess': 5, 'lossXmit': 3, 'noiseFigure': 5, 'powerPeak': 25, 'systemTemperature': 290, 'threshold': 23}, 'alias': {}, 'subcomponents': {}, 'customData': {'label': 'DL Radio 1'}}], 'dynamicsModel': [{'identifier': 'AsaFighterAerodynamics@AsaModels', 'attributes': {'dragTable': 'FIGHTER_DEFAULT_DRAG', 'initFuelWtLbs': 13000, 'loadFactorDragMult': 1, 'maxLoadFactorTable': 'FIGHTER_DEFAULT_MAX_G', 'maxPitchDeg': 60, 'maxSpeedKts': 1000, 'minPitchDeg': -30, 'minSpeedKts': 200, 'numEngines': 1, 'pitchRate': 10, 'rollRate': 90, 'thrustMaxAbTable': 'FIGHTER_DEFAULT_AB_THRUST', 'thrustMaxMilTable': 'FIGHTER_DEFAULT_MIL_THRUST', 'thrustMinTable': 'FIGHTER_DEFAULT_IDLE_THRUST', 'tsfcAfterBurner': 59.2, 'tsfcMilitary': 18, 'wingArea': 27.88, 'zeroFuelWeightLbs': 17400}, 'alias': {}, 'subcomponents': {}, 'customData': {'label': 'Fighter Aero 1'}}], 'radar': [{'identifier': 'AsaFighterRadar@AsaModels', 'attributes': {'bandwidth': 2, 'dataLogTime': 0.1, 'frequency': 10, 'igain': 26.19093, 'lossRecv': 2, 'lossSignalProcess': 2, 'lossXmit': 2, 'noiseFigure': 3, 'powerPeak': 4, 'prfStt': 10000, 'prfTws': 5000, 'pwStt': 0.5, 'pwTws': 2, 'systemTemperature': 290, 'threshold': 12}, 'alias': {}, 'subcomponents': {}, 'customData': {'label': 'Fighter Rdr. 1'}}], 'radarAntenna': [{'identifier': 'AsaFighterRdrAntenna@AsaModels', 'attributes': {'azimuthLimit': 60, 'barSpacing': 0.05235988, 'beamWidth': 3.5, 'commandRateAzimuth': 60, 'commandRateElevation': 60, 'elevationLimit': 60, 'gain': 35, 'gainPattern': 'FIGHTER_DEFAULT_ANT_PATTERN', 'maxAngle2PlayersOfInterest': 90, 'maxRange2PlayersOfInterest': 100, 'maxRateAzimuth': 120, 'maxRateElevation': 120, 'numBars': 4, 'polarization': 'none', 'revolutionsPerSec': 25, 'scanWidth': 2.094395, 'terrainOcculting': False, 'threshold': 1e-07, 'type': 'electronic'}, 'alias': {}, 'subcomponents': {}, 'customData': {'label': 'Fighter Rdr. Ant. 1'}}], 'rwr': [{'identifier': 'AsaRwr@AsaModels', 'attributes': {'aoiAccuracy': 3, 'bandwidthNoise': 500, 'bufferingTime': 0.1, 'emitterDb': 'ASA_DEFAULT_EMITTER_DB', 'freqResolution': 2, 'lossRecv': 2, 'lossSignalProcess': 5, 'noiseFigure': 8, 'systemTemperature': 290, 'threshold': 18}, 'alias': {}, 'subcomponents': {}, 'customData': {'label': 'RWR 1'}}], 'rwrAntenna': [{'identifier': 'AsaRwrAntenna@AsaModels', 'attributes': {'elevationLimit': 45, 'gain': 5, 'maxRange2PlayersOfInterest': 120, 'polarization': 'none', 'terrainOcculting': False, 'threshold': 1e-07}, 'alias': {}, 'subcomponents': {}, 'customData': {'label': 'RWR Ant. 1'}}], 'rwrTrackManager': [{'identifier': 'AsaRwrTrkMgr@AsaModels', 'attributes': {'alpha': 0.15, 'beta': 0.01, 'logTrackUpdates': True, 'maxTrackAge': 8, 'maxTracks': 32}, 'alias': {}, 'subcomponents': {}, 'customData': {'label': 'RWR Trk. Mgr. 1'}}]}, 'customData': {}}, {'identifier': 'AsaFighter@AsaModels', 'attributes': {'airBaseName': 'Blue_Airbase', 'dataLogTime': 0.1, 'fuelFreeze': False, 'quickReaction': False, 'rcs': 5, 'repositioningTime': 15, 'side': 'blue', 'type': 'F-16C', 'ws_lat': -16.8580269, 'ws_lon': -48.4300192, 'ws_name': 'B04'}, 'alias': {}, 'subcomponents': {'airTrackManager': [{'identifier': 'AsaAirTrkMgr@AsaModels', 'attributes': {'alpha': 0.95, 'beta': 0.75, 'gamma': 0, 'logTrackUpdates': True, 'maxTrackAge': 10, 'maxTracks': 32, 'positionGate': 500, 'velocityGate': 500}, 'alias': {}, 'subcomponents': {}, 'customData': {'label': 'Air Trk. Mgr. 1'}}], 'commAntenna': [{'identifier': 'AsaCommAntenna@AsaModels', 'attributes': {'gain': 8, 'maxRange2PlayersOfInterest': 120, 'polarization': 'none', 'terrainOcculting': False, 'threshold': 1e-07}, 'alias': {}, 'subcomponents': {}, 'customData': {'label': 'Comm. Ant. 1'}}], 'commRadio': [{'identifier': 'AsaCommRadio@AsaModels', 'attributes': {'bandwidthNoise': 9, 'channelFreq': 123.45, 'lossRecv': 3, 'lossSignalProcess': 5, 'lossXmit': 3, 'noiseFigure': 5, 'powerPeak': 25, 'systemTemperature': 290, 'threshold': 23}, 'alias': {}, 'subcomponents': {}, 'customData': {'label': 'Comm. 1'}}], 'datalink': [{'identifier': 'AsaDatalinkFighter@AsaModels', 'attributes': {'intranetID': 1, 'netID': 1, 'subnetID': 1, 'timeStatusMsg': 1, 'timeTrkListMsg': 1}, 'alias': {}, 'subcomponents': {}, 'customData': {'label': 'Fighter DL 1'}}], 'datalinkAntenna': [{'identifier': 'AsaCommAntenna@AsaModels', 'attributes': {'gain': 8, 'maxRange2PlayersOfInterest': 120, 'polarization': 'none', 'terrainOcculting': False, 'threshold': 1e-07}, 'alias': {}, 'subcomponents': {}, 'customData': {'label': 'Comm. Ant. 1'}}], 'datalinkRadio': [{'identifier': 'AsaDatalinkRadio@AsaModels', 'attributes': {'bandwidthNoise': 10, 'channelFreq': 276.8, 'lossRecv': 3, 'lossSignalProcess': 5, 'lossXmit': 3, 'noiseFigure': 5, 'powerPeak': 25, 'systemTemperature': 290, 'threshold': 23}, 'alias': {}, 'subcomponents': {}, 'customData': {'label': 'DL Radio 1'}}], 'dynamicsModel': [{'identifier': 'AsaFighterAerodynamics@AsaModels', 'attributes': {'dragTable': 'FIGHTER_DEFAULT_DRAG', 'initFuelWtLbs': 13000, 'loadFactorDragMult': 1, 'maxLoadFactorTable': 'FIGHTER_DEFAULT_MAX_G', 'maxPitchDeg': 60, 'maxSpeedKts': 1000, 'minPitchDeg': -30, 'minSpeedKts': 200, 'numEngines': 1, 'pitchRate': 10, 'rollRate': 90, 'thrustMaxAbTable': 'FIGHTER_DEFAULT_AB_THRUST', 'thrustMaxMilTable': 'FIGHTER_DEFAULT_MIL_THRUST', 'thrustMinTable': 'FIGHTER_DEFAULT_IDLE_THRUST', 'tsfcAfterBurner': 59.2, 'tsfcMilitary': 18, 'wingArea': 27.88, 'zeroFuelWeightLbs': 17400}, 'alias': {}, 'subcomponents': {}, 'customData': {'label': 'Fighter Aero 1'}}], 'radar': [{'identifier': 'AsaFighterRadar@AsaModels', 'attributes': {'bandwidth': 2, 'dataLogTime': 0.1, 'frequency': 10, 'igain': 26.19093, 'lossRecv': 2, 'lossSignalProcess': 2, 'lossXmit': 2, 'noiseFigure': 3, 'powerPeak': 4, 'prfStt': 10000, 'prfTws': 5000, 'pwStt': 0.5, 'pwTws': 2, 'systemTemperature': 290, 'threshold': 12}, 'alias': {}, 'subcomponents': {}, 'customData': {'label': 'Fighter Rdr. 1'}}], 'radarAntenna': [{'identifier': 'AsaFighterRdrAntenna@AsaModels', 'attributes': {'azimuthLimit': 60, 'barSpacing': 0.05235988, 'beamWidth': 3.5, 'commandRateAzimuth': 60, 'commandRateElevation': 60, 'elevationLimit': 60, 'gain': 35, 'gainPattern': 'FIGHTER_DEFAULT_ANT_PATTERN', 'maxAngle2PlayersOfInterest': 90, 'maxRange2PlayersOfInterest': 100, 'maxRateAzimuth': 120, 'maxRateElevation': 120, 'numBars': 4, 'polarization': 'none', 'revolutionsPerSec': 25, 'scanWidth': 2.094395, 'terrainOcculting': False, 'threshold': 1e-07, 'type': 'electronic'}, 'alias': {}, 'subcomponents': {}, 'customData': {'label': 'Fighter Rdr. Ant. 1'}}], 'rwr': [{'identifier': 'AsaRwr@AsaModels', 'attributes': {'aoiAccuracy': 3, 'bandwidthNoise': 500, 'bufferingTime': 0.1, 'emitterDb': 'ASA_DEFAULT_EMITTER_DB', 'freqResolution': 2, 'lossRecv': 2, 'lossSignalProcess': 5, 'noiseFigure': 8, 'systemTemperature': 290, 'threshold': 18}, 'alias': {}, 'subcomponents': {}, 'customData': {'label': 'RWR 1'}}], 'rwrAntenna': [{'identifier': 'AsaRwrAntenna@AsaModels', 'attributes': {'elevationLimit': 45, 'gain': 5, 'maxRange2PlayersOfInterest': 120, 'polarization': 'none', 'terrainOcculting': False, 'threshold': 1e-07}, 'alias': {}, 'subcomponents': {}, 'customData': {'label': 'RWR Ant. 1'}}], 'rwrTrackManager': [{'identifier': 'AsaRwrTrkMgr@AsaModels', 'attributes': {'alpha': 0.15, 'beta': 0.01, 'logTrackUpdates': True, 'maxTrackAge': 8, 'maxTracks': 32}, 'alias': {}, 'subcomponents': {}, 'customData': {'label': 'RWR Trk. Mgr. 1'}}]}, 'customData': {}}, {'identifier': 'AsaC2C@AsaModels', 'attributes': {'borderID': 'Blue_Land', 'groundClamp': True, 'initAlt': 2906, 'initHeading': 0, 'quickReactionAlert': True, 'reactionFactor': 1, 'side': 'blue', 'ws_lat': -16.7582088, 'ws_lon': -47.3325168, 'ws_name': 'Blue_HQ'}, 'alias': {}, 'subcomponents': {'capPoints': [], 'datalink': [{'identifier': 'AsaDatalinkC2C@AsaModels', 'attributes': {'hasGroundLink': True, 'netID': 1, 'timeTrkListMsg': 1, 'timeTrkListMsgBroadCtrl': 15}, 'alias': {}, 'subcomponents': {}, 'customData': {'label': 'C2C DL 1'}}], 'stdPilotProfile': [], 'stdWeaponsProfile': [], 'targetData': [], 'taskOrders': [{'identifier': 'AsaAirTaskOrder@AsaModels', 'attributes': {'airBaseDep': 'Blue_Airbase', 'airBaseLand': 'Blue_Airbase', 'baseAirspeedKts': 420, 'borderCrossAllowed': False, 'borderShootAllowed': False, 'formType': 'arrow', 'fuelPerAcft': 7000, 'initAlt': 5000, 'initHeading': 0, 'intranetID': 1, 'isAltHeight': False, 'lifeSpan': 300, 'netChannelFreq': 276.8, 'netID': 1, 'numAcft': 1, 'ownerID': 'user', 'startTime': 5, 'subnetID': 1, 'taskID': 'ato_user_001', 'taskType': 'other', 'ws_lat': -16.8580269, 'ws_lon': -48.4300192, 'ws_name': 'Eagle'}, 'alias': {'baseAirspeedKts': 'speed', 'initAlt': 'altitude'}, 'subcomponents': {'capFaorProfile': [], 'capProfile': [], 'gndAtkProfile': [], 'pilotProfile': [{'identifier': 'AsaBasPilotSetter@AsaModels', 'attributes': {'baseAltitude': 25000, 'groupRank': 1}, 'alias': {'baseAltitude': 'altitude'}, 'subcomponents': {}, 'customData': {'label': 'Basic Pilot 1'}}], 'weaponProfile': [], 'ws_open_polygon': [{'identifier': 'AsaSteerpointSetter@AsaModels', 'attributes': {'cmdAirspeed': 450, 'cmdAltitude': 20000, 'elevation': 2707, 'formType': 'nd', 'groundClamp': True, 'hasHold': False, 'heightAboveTerrain': 500, 'holdCounterClockwise': False, 'holdDuration': 600, 'holdLegHeading': 0, 'holdLegTime': 60, 'terrainFollowingLeg': False, 'windingAngle': 30, 'windingLeg': False, 'windingSpdFactor': 1, 'windingTimeout': 30, 'ws_lat': -16.74795913696289, 'ws_lon': -48.16693115234375}, 'alias': {'cmdAirspeed': 'speed', 'cmdAltitude': 'altitude'}, 'subcomponents': {'action': []}, 'customData': {'label': 'Steerpoint 1'}}, {'identifier': 'AsaSteerpointSetter@AsaModels', 'attributes': {'cmdAirspeed': 380, 'cmdAltitude': 10000, 'elevation': 2841, 'formType': 'nd', 'groundClamp': True, 'hasHold': False, 'heightAboveTerrain': 500, 'holdCounterClockwise': False, 'holdDuration': 600, 'holdLegHeading': 0, 'holdLegTime': 60, 'terrainFollowingLeg': False, 'windingAngle': 30, 'windingLeg': False, 'windingSpdFactor': 1, 'windingTimeout': 30, 'ws_lat': -16.61747932434082, 'ws_lon': -47.44364929199219}, 'alias': {'cmdAirspeed': 'speed', 'cmdAltitude': 'altitude'}, 'subcomponents': {'action': []}, 'customData': {'label': 'Steerpoint 2'}}, {'identifier': 'AsaSteerpointSetter@AsaModels', 'attributes': {'cmdAirspeed': 420, 'cmdAltitude': 25000, 'elevation': 3120, 'formType': 'wedge', 'groundClamp': True, 'hasHold': True, 'heightAboveTerrain': 500, 'holdCounterClockwise': False, 'holdDuration': 600, 'holdLegHeading': 0, 'holdLegTime': 60, 'terrainFollowingLeg': False, 'windingAngle': 30, 'windingLeg': False, 'windingSpdFactor': 1, 'windingTimeout': 30, 'ws_lat': -16.01906967163086, 'ws_lon': -47.44292068481445}, 'alias': {'cmdAirspeed': 'speed', 'cmdAltitude': 'altitude'}, 'subcomponents': {'action': []}, 'customData': {'label': 'Steerpoint 3'}}, {'identifier': 'AsaSteerpointSetter@AsaModels', 'attributes': {'cmdAirspeed': 500, 'cmdAltitude': 15000, 'elevation': 3513, 'formType': 'box', 'groundClamp': True, 'hasHold': False, 'heightAboveTerrain': 500, 'holdCounterClockwise': False, 'holdDuration': 600, 'holdLegHeading': 0, 'holdLegTime': 60, 'terrainFollowingLeg': False, 'windingAngle': 30, 'windingLeg': False, 'windingSpdFactor': 1, 'windingTimeout': 30, 'ws_lat': -15.959589958190918, 'ws_lon': -48.105628967285156}, 'alias': {'cmdAirspeed': 'speed', 'cmdAltitude': 'altitude'}, 'subcomponents': {'action': []}, 'customData': {'label': 'Steerpoint 4'}}, {'identifier': 'AsaSteerpointSetter@AsaModels', 'attributes': {'cmdAirspeed': 500, 'cmdAltitude': 10000, 'elevation': 850, 'formType': 'line_abreast', 'groundClamp': True, 'hasHold': False, 'heightAboveTerrain': 500, 'holdCounterClockwise': False, 'holdDuration': 600, 'holdLegHeading': 0, 'holdLegTime': 60, 'terrainFollowingLeg': False, 'windingAngle': 30, 'windingLeg': False, 'windingSpdFactor': 1, 'windingTimeout': 30, 'ws_lat': -16.528770446777344, 'ws_lon': -48.40293884277344}, 'alias': {'cmdAirspeed': 'speed', 'cmdAltitude': 'altitude'}, 'subcomponents': {'action': []}, 'customData': {'label': 'Steerpoint 5'}}]}, 'customData': {'label': 'ATO 1'}}], 'trackManager': [{'identifier': 'AsaAirTrkMgr@AsaModels', 'attributes': {'alpha': 0.95, 'beta': 0.75, 'gamma': 0, 'logTrackUpdates': True, 'maxTrackAge': 10, 'maxTracks': 100, 'positionGate': 2778, 'velocityGate': 500}, 'alias': {}, 'subcomponents': {}, 'customData': {'label': 'Air Trk. Mgr. 1'}}]}, 'customData': {}}], 'pois': [], 'wezRepo': [{'identifier': 'AsaWez48N6E2@AsaModelsR', 'attributes': {}, 'alias': {}, 'subcomponents': {}, 'customData': {}}, {'identifier': 'AsaWez48N6E2T@AsaModelsR', 'attributes': {}, 'alias': {}, 'subcomponents': {}, 'customData': {}}, {'identifier': 'AsaWez9M96E2@AsaModelsR', 'attributes': {}, 'alias': {}, 'subcomponents': {}, 'customData': {}}, {'identifier': 'AsaWezAamFox1@AsaModels', 'attributes': {}, 'alias': {}, 'subcomponents': {}, 'customData': {}}, {'identifier': 'AsaWezAamFox3@AsaModels', 'attributes': {}, 'alias': {}, 'subcomponents': {}, 'customData': {}}, {'identifier': 'AsaWezAim120@AsaModelsR', 'attributes': {}, 'alias': {}, 'subcomponents': {}, 'customData': {}}, {'identifier': 'AsaWezDerby@AsaModelsR', 'attributes': {}, 'alias': {}, 'subcomponents': {}, 'customData': {}}, {'identifier': 'AsaWezDerbyMR@AsaModelsR', 'attributes': {}, 'alias': {}, 'subcomponents': {}, 'customData': {}}, {'identifier': 'AsaWezSamFox1@AsaModels', 'attributes': {}, 'alias': {}, 'subcomponents': {}, 'customData': {}}, {'identifier': 'AsaWezSamFox3@AsaModels', 'attributes': {}, 'alias': {}, 'subcomponents': {}, 'customData': {}}, {'identifier': 'AsaWez48N6E2@AsaModelsR', 'attributes': {}, 'alias': {}, 'subcomponents': {}, 'customData': {}}, {'identifier': 'AsaWez48N6E2T@AsaModelsR', 'attributes': {}, 'alias': {}, 'subcomponents': {}, 'customData': {}}, {'identifier': 'AsaWez9M96E2@AsaModelsR', 'attributes': {}, 'alias': {}, 'subcomponents': {}, 'customData': {}}, {'identifier': 'AsaWezAamFox1@AsaModels', 'attributes': {}, 'alias': {}, 'subcomponents': {}, 'customData': {}}, {'identifier': 'AsaWezAamFox3@AsaModels', 'attributes': {}, 'alias': {}, 'subcomponents': {}, 'customData': {}}, {'identifier': 'AsaWezAim120@AsaModelsR', 'attributes': {}, 'alias': {}, 'subcomponents': {}, 'customData': {}}, {'identifier': 'AsaWezDerby@AsaModelsR', 'attributes': {}, 'alias': {}, 'subcomponents': {}, 'customData': {}}, {'identifier': 'AsaWezDerbyMR@AsaModelsR', 'attributes': {}, 'alias': {}, 'subcomponents': {}, 'customData': {}}, {'identifier': 'AsaWezSamFox1@AsaModels', 'attributes': {}, 'alias': {}, 'subcomponents': {}, 'customData': {}}, {'identifier': 'AsaWezSamFox3@AsaModels', 'attributes': {}, 'alias': {}, 'subcomponents': {}, 'customData': {}}, {'identifier': 'AsaWez48N6E2@AsaModelsR', 'attributes': {}, 'alias': {}, 'subcomponents': {}, 'customData': {}}, {'identifier': 'AsaWez48N6E2T@AsaModelsR', 'attributes': {}, 'alias': {}, 'subcomponents': {}, 'customData': {}}, {'identifier': 'AsaWez9M96E2@AsaModelsR', 'attributes': {}, 'alias': {}, 'subcomponents': {}, 'customData': {}}, {'identifier': 'AsaWezAamFox1@AsaModels', 'attributes': {}, 'alias': {}, 'subcomponents': {}, 'customData': {}}, {'identifier': 'AsaWezAamFox3@AsaModels', 'attributes': {}, 'alias': {}, 'subcomponents': {}, 'customData': {}}, {'identifier': 'AsaWezAim120@AsaModelsR', 'attributes': {}, 'alias': {}, 'subcomponents': {}, 'customData': {}}, {'identifier': 'AsaWezDerby@AsaModelsR', 'attributes': {}, 'alias': {}, 'subcomponents': {}, 'customData': {}}, {'identifier': 'AsaWezDerbyMR@AsaModelsR', 'attributes': {}, 'alias': {}, 'subcomponents': {}, 'customData': {}}, {'identifier': 'AsaWezSamFox1@AsaModels', 'attributes': {}, 'alias': {}, 'subcomponents': {}, 'customData': {}}, {'identifier': 'AsaWezSamFox3@AsaModels', 'attributes': {}, 'alias': {}, 'subcomponents': {}, 'customData': {}}, {'identifier': 'AsaWez48N6E2@AsaModelsR', 'attributes': {}, 'alias': {}, 'subcomponents': {}, 'customData': {}}, {'identifier': 'AsaWez48N6E2T@AsaModelsR', 'attributes': {}, 'alias': {}, 'subcomponents': {}, 'customData': {}}, {'identifier': 'AsaWez9M96E2@AsaModelsR', 'attributes': {}, 'alias': {}, 'subcomponents': {}, 'customData': {}}, {'identifier': 'AsaWezAamFox1@AsaModels', 'attributes': {}, 'alias': {}, 'subcomponents': {}, 'customData': {}}, {'identifier': 'AsaWezAamFox3@AsaModels', 'attributes': {}, 'alias': {}, 'subcomponents': {}, 'customData': {}}, {'identifier': 'AsaWezAim120@AsaModelsR', 'attributes': {}, 'alias': {}, 'subcomponents': {}, 'customData': {}}, {'identifier': 'AsaWezDerby@AsaModelsR', 'attributes': {}, 'alias': {}, 'subcomponents': {}, 'customData': {}}, {'identifier': 'AsaWezDerbyMR@AsaModelsR', 'attributes': {}, 'alias': {}, 'subcomponents': {}, 'customData': {}}, {'identifier': 'AsaWezSamFox1@AsaModels', 'attributes': {}, 'alias': {}, 'subcomponents': {}, 'customData': {}}, {'identifier': 'AsaWezSamFox3@AsaModels', 'attributes': {}, 'alias': {}, 'subcomponents': {}, 'customData': {}}, {'identifier': 'AsaWez48N6E2@AsaModelsR', 'attributes': {}, 'alias': {}, 'subcomponents': {}, 'customData': {}}, {'identifier': 'AsaWez48N6E2T@AsaModelsR', 'attributes': {}, 'alias': {}, 'subcomponents': {}, 'customData': {}}, {'identifier': 'AsaWez9M96E2@AsaModelsR', 'attributes': {}, 'alias': {}, 'subcomponents': {}, 'customData': {}}, {'identifier': 'AsaWezAamFox1@AsaModels', 'attributes': {}, 'alias': {}, 'subcomponents': {}, 'customData': {}}, {'identifier': 'AsaWezAamFox3@AsaModels', 'attributes': {}, 'alias': {}, 'subcomponents': {}, 'customData': {}}, {'identifier': 'AsaWezAim120@AsaModelsR', 'attributes': {}, 'alias': {}, 'subcomponents': {}, 'customData': {}}, {'identifier': 'AsaWezDerby@AsaModelsR', 'attributes': {}, 'alias': {}, 'subcomponents': {}, 'customData': {}}, {'identifier': 'AsaWezDerbyMR@AsaModelsR', 'attributes': {}, 'alias': {}, 'subcomponents': {}, 'customData': {}}, {'identifier': 'AsaWezSamFox1@AsaModels', 'attributes': {}, 'alias': {}, 'subcomponents': {}, 'customData': {}}, {'identifier': 'AsaWezSamFox3@AsaModels', 'attributes': {}, 'alias': {}, 'subcomponents': {}, 'customData': {}}, {'identifier': 'AsaWez48N6E2@AsaModelsR', 'attributes': {}, 'alias': {}, 'subcomponents': {}, 'customData': {}}, {'identifier': 'AsaWez48N6E2T@AsaModelsR', 'attributes': {}, 'alias': {}, 'subcomponents': {}, 'customData': {}}, {'identifier': 'AsaWez9M96E2@AsaModelsR', 'attributes': {}, 'alias': {}, 'subcomponents': {}, 'customData': {}}, {'identifier': 'AsaWezAamFox1@AsaModels', 'attributes': {}, 'alias': {}, 'subcomponents': {}, 'customData': {}}, {'identifier': 'AsaWezAamFox3@AsaModels', 'attributes': {}, 'alias': {}, 'subcomponents': {}, 'customData': {}}, {'identifier': 'AsaWezAim120@AsaModelsR', 'attributes': {}, 'alias': {}, 'subcomponents': {}, 'customData': {}}, {'identifier': 'AsaWezDerby@AsaModelsR', 'attributes': {}, 'alias': {}, 'subcomponents': {}, 'customData': {}}, {'identifier': 'AsaWezDerbyMR@AsaModelsR', 'attributes': {}, 'alias': {}, 'subcomponents': {}, 'customData': {}}, {'identifier': 'AsaWezSamFox1@AsaModels', 'attributes': {}, 'alias': {}, 'subcomponents': {}, 'customData': {}}, {'identifier': 'AsaWezSamFox3@AsaModels', 'attributes': {}, 'alias': {}, 'subcomponents': {}, 'customData': {}}, {'identifier': 'AsaWez48N6E2@AsaModelsR', 'attributes': {}, 'alias': {}, 'subcomponents': {}, 'customData': {}}, {'identifier': 'AsaWez48N6E2T@AsaModelsR', 'attributes': {}, 'alias': {}, 'subcomponents': {}, 'customData': {}}, {'identifier': 'AsaWez9M96E2@AsaModelsR', 'attributes': {}, 'alias': {}, 'subcomponents': {}, 'customData': {}}, {'identifier': 'AsaWezAamFox1@AsaModels', 'attributes': {}, 'alias': {}, 'subcomponents': {}, 'customData': {}}, {'identifier': 'AsaWezAamFox3@AsaModels', 'attributes': {}, 'alias': {}, 'subcomponents': {}, 'customData': {}}, {'identifier': 'AsaWezAim120@AsaModelsR', 'attributes': {}, 'alias': {}, 'subcomponents': {}, 'customData': {}}, {'identifier': 'AsaWezDerby@AsaModelsR', 'attributes': {}, 'alias': {}, 'subcomponents': {}, 'customData': {}}, {'identifier': 'AsaWezDerbyMR@AsaModelsR', 'attributes': {}, 'alias': {}, 'subcomponents': {}, 'customData': {}}, {'identifier': 'AsaWezSamFox1@AsaModels', 'attributes': {}, 'alias': {}, 'subcomponents': {}, 'customData': {}}, {'identifier': 'AsaWezSamFox3@AsaModels', 'attributes': {}, 'alias': {}, 'subcomponents': {}, 'customData': {}}], 'zones': [{'identifier': 'AsaZone@AsaModels', 'attributes': {'altitudeMax': 60000, 'altitudeMin': 0, 'side': 'blue', 'ws_name': 'Blue_Land'}, 'alias': {}, 'subcomponents': {'ws_closed_polygon': [{'identifier': 'AsaPosition@AsaModels', 'attributes': {'alt': 0, 'groundClamp': True, 'ws_lat': -15.80578, 'ws_lon': -48.57188}, 'alias': {}, 'subcomponents': {}, 'customData': {'label': 'Position 1'}}, {'identifier': 'AsaPosition@AsaModels', 'attributes': {'alt': 0, 'groundClamp': True, 'ws_lat': -16.95009, 'ws_lon': -48.56748}, 'alias': {}, 'subcomponents': {}, 'customData': {'label': 'Position 2'}}, {'identifier': 'AsaPosition@AsaModels', 'attributes': {'alt': 0, 'groundClamp': True, 'ws_lat': -17.00391, 'ws_lon': -47.11325}, 'alias': {}, 'subcomponents': {}, 'customData': {'label': 'Position 3'}}, {'identifier': 'AsaPosition@AsaModels', 'attributes': {'alt': 0, 'groundClamp': True, 'ws_lat': -15.85456, 'ws_lon': -47.15403}, 'alias': {}, 'subcomponents': {}, 'customData': {'label': 'Position 4'}}]}, 'customData': {}}, {'identifier': 'AsaZone@AsaModels', 'attributes': {'altitudeMax': 60000, 'altitudeMin': 0, 'side': 'red', 'ws_name': 'Red_Land'}, 'alias': {}, 'subcomponents': {'ws_closed_polygon': [{'identifier': 'AsaPosition@AsaModels', 'attributes': {'alt': 0, 'groundClamp': True, 'ws_lat': -15.80578, 'ws_lon': -48.57189}, 'alias': {}, 'subcomponents': {}, 'customData': {'label': 'Position 1'}}, {'identifier': 'AsaPosition@AsaModels', 'attributes': {'alt': 0, 'groundClamp': True, 'ws_lat': -14.65014, 'ws_lon': -48.59004}, 'alias': {}, 'subcomponents': {}, 'customData': {'label': 'Position 2'}}, {'identifier': 'AsaPosition@AsaModels', 'attributes': {'alt': 0, 'groundClamp': True, 'ws_lat': -14.67867, 'ws_lon': -47.194}, 'alias': {}, 'subcomponents': {}, 'customData': {'label': 'Position 3'}}, {'identifier': 'AsaPosition@AsaModels', 'attributes': {'alt': 0, 'groundClamp': True, 'ws_lat': -15.85461, 'ws_lon': -47.15397}, 'alias': {}, 'subcomponents': {}, 'customData': {'label': 'Position 4'}}]}, 'customData': {}}]}, 'customData': {}}]}, 'alias': {}, 'custom_data': {}})})"
      ]
     },
     "execution_count": 3,
     "metadata": {},
     "output_type": "execute_result"
    }
   ],
   "source": [
    "simulation_name = \"nav_demo\"\n",
    "sim = asapy.load_simulation(f\"./simulations/nav_demo.json\")  # Creating a Simulation from the JSON file at the specified path, and assigning it to 'sim'.\n",
    "sim = asa.save_simulation(sim)\n",
    "sim"
   ]
  },
  {
   "cell_type": "markdown",
   "id": "5b7cbd08",
   "metadata": {
    "tags": []
   },
   "source": [
    "## Listagem de Aliases <a name=\"listagem_aliases\"></a>\n",
    "\n",
    "Esta seção envolve a enumeração de todos os aliases presentes em uma simulação.\n",
    "\n",
    "Primeiro instanciamos um objeto da classe ``Doe`` (Design of Experiments). Em seguida, processamos os aliases (parâmetros utilizados nas simulações) para a simulação escolhida ``sim``, usando o método ``process_aliases_by_sim`` e passando as configurações dos componentes do servidor ASA. Os aliases processados são armazenados na variável ``aliases`` e exibidos. A função ``asa.component_configs()`` retorna uma lista de configurações de componentes. Essa informação é crucial para entender os números padrão, mínimo e máximo de componentes em um determinado cenário."
   ]
  },
  {
   "cell_type": "code",
   "execution_count": 4,
   "id": "a5d400b1",
   "metadata": {},
   "outputs": [
    {
     "data": {
      "text/html": [
       "<div>\n",
       "<style scoped>\n",
       "    .dataframe tbody tr th:only-of-type {\n",
       "        vertical-align: middle;\n",
       "    }\n",
       "\n",
       "    .dataframe tbody tr th {\n",
       "        vertical-align: top;\n",
       "    }\n",
       "\n",
       "    .dataframe thead th {\n",
       "        text-align: right;\n",
       "    }\n",
       "</style>\n",
       "<table border=\"1\" class=\"dataframe\">\n",
       "  <thead>\n",
       "    <tr style=\"text-align: right;\">\n",
       "      <th></th>\n",
       "      <th>label</th>\n",
       "      <th>type</th>\n",
       "      <th>default</th>\n",
       "      <th>min</th>\n",
       "      <th>max</th>\n",
       "      <th>alias_attribute</th>\n",
       "    </tr>\n",
       "  </thead>\n",
       "  <tbody>\n",
       "    <tr>\n",
       "      <th>speed</th>\n",
       "      <td>Leg speed (kt)</td>\n",
       "      <td>double</td>\n",
       "      <td>420</td>\n",
       "      <td>0</td>\n",
       "      <td>5000</td>\n",
       "      <td>cmdAirspeed</td>\n",
       "    </tr>\n",
       "    <tr>\n",
       "      <th>altitude</th>\n",
       "      <td>Leg altitude (ft)</td>\n",
       "      <td>double</td>\n",
       "      <td>5000</td>\n",
       "      <td>0</td>\n",
       "      <td>120000</td>\n",
       "      <td>cmdAltitude</td>\n",
       "    </tr>\n",
       "  </tbody>\n",
       "</table>\n",
       "</div>"
      ],
      "text/plain": [
       "                      label    type default min     max alias_attribute\n",
       "speed        Leg speed (kt)  double     420   0    5000     cmdAirspeed\n",
       "altitude  Leg altitude (ft)  double    5000   0  120000     cmdAltitude"
      ]
     },
     "execution_count": 4,
     "metadata": {},
     "output_type": "execute_result"
    }
   ],
   "source": [
    "doe = asapy.Doe()\n",
    "aliases = doe.process_aliases_by_sim(sim, asa.component_configs()) \n",
    "aliases"
   ]
  },
  {
   "cell_type": "markdown",
   "id": "144b88e0",
   "metadata": {},
   "source": [
    "## Edição dos Aliases <a name=\"edicao_aliases\"></a>\n",
    "\n",
    "Esta seção permite que os usuários modifiquem os parâmetros dos aliases listados para atender às suas necessidades específicas.\n",
    "\n",
    "Esta operação ilustra como você pode ajustar manualmente o intervalo de um parâmetro de alias dentro do seu Design de Experimentos. Após o ajuste, o DataFrame 'aliases' atualizado é exibido."
   ]
  },
  {
   "cell_type": "code",
   "execution_count": 5,
   "id": "3ae77707",
   "metadata": {},
   "outputs": [
    {
     "data": {
      "text/html": [
       "<div>\n",
       "<style scoped>\n",
       "    .dataframe tbody tr th:only-of-type {\n",
       "        vertical-align: middle;\n",
       "    }\n",
       "\n",
       "    .dataframe tbody tr th {\n",
       "        vertical-align: top;\n",
       "    }\n",
       "\n",
       "    .dataframe thead th {\n",
       "        text-align: right;\n",
       "    }\n",
       "</style>\n",
       "<table border=\"1\" class=\"dataframe\">\n",
       "  <thead>\n",
       "    <tr style=\"text-align: right;\">\n",
       "      <th></th>\n",
       "      <th>label</th>\n",
       "      <th>type</th>\n",
       "      <th>default</th>\n",
       "      <th>min</th>\n",
       "      <th>max</th>\n",
       "      <th>alias_attribute</th>\n",
       "    </tr>\n",
       "  </thead>\n",
       "  <tbody>\n",
       "    <tr>\n",
       "      <th>speed</th>\n",
       "      <td>Leg speed (kt)</td>\n",
       "      <td>double</td>\n",
       "      <td>420</td>\n",
       "      <td>0</td>\n",
       "      <td>5000</td>\n",
       "      <td>cmdAirspeed</td>\n",
       "    </tr>\n",
       "    <tr>\n",
       "      <th>altitude</th>\n",
       "      <td>Leg altitude (ft)</td>\n",
       "      <td>double</td>\n",
       "      <td>5000</td>\n",
       "      <td>0</td>\n",
       "      <td>120000</td>\n",
       "      <td>cmdAltitude</td>\n",
       "    </tr>\n",
       "    <tr>\n",
       "      <th>hold_speed_kt</th>\n",
       "      <td>NaN</td>\n",
       "      <td>NaN</td>\n",
       "      <td>NaN</td>\n",
       "      <td>100</td>\n",
       "      <td>500</td>\n",
       "      <td>NaN</td>\n",
       "    </tr>\n",
       "    <tr>\n",
       "      <th>hold_altitude_ft</th>\n",
       "      <td>NaN</td>\n",
       "      <td>NaN</td>\n",
       "      <td>NaN</td>\n",
       "      <td>1000</td>\n",
       "      <td>10000</td>\n",
       "      <td>NaN</td>\n",
       "    </tr>\n",
       "  </tbody>\n",
       "</table>\n",
       "</div>"
      ],
      "text/plain": [
       "                              label    type default   min     max  \\\n",
       "speed                Leg speed (kt)  double     420     0    5000   \n",
       "altitude          Leg altitude (ft)  double    5000     0  120000   \n",
       "hold_speed_kt                   NaN     NaN     NaN   100     500   \n",
       "hold_altitude_ft                NaN     NaN     NaN  1000   10000   \n",
       "\n",
       "                 alias_attribute  \n",
       "speed                cmdAirspeed  \n",
       "altitude             cmdAltitude  \n",
       "hold_speed_kt                NaN  \n",
       "hold_altitude_ft             NaN  "
      ]
     },
     "execution_count": 5,
     "metadata": {},
     "output_type": "execute_result"
    }
   ],
   "source": [
    "aliases.loc['hold_speed_kt','min'] = 100\n",
    "aliases.loc['hold_speed_kt','max'] = 500\n",
    "aliases.loc['hold_altitude_ft','min'] = 1000\n",
    "aliases.loc['hold_altitude_ft','max'] = 10000\n",
    "aliases"
   ]
  },
  {
   "cell_type": "markdown",
   "id": "4ee4284d",
   "metadata": {
    "tags": []
   },
   "source": [
    "## Criando Design de Experimentos (DOE) <a name=\"criando_doe\"></a>\n",
    "\n",
    "Os usuários têm a capacidade de estabelecer um DOE, que lhes permite planejar, conduzir e analisar um conjunto de experimentos de maneira sistemática.\n",
    "\n",
    "Nesta célula, estamos usando o método 'create' do objeto 'Doe' para gerar uma tabela de Design de Experimentos (DOE). O método recebe como argumentos os aliases processados anteriormente e o número de amostras. O DOE resultante é um DataFrame do pandas, que é armazenado na variável 'df' e então exibido.\n",
    "O DOE é criado usando um método de Amostragem de Hipercubo Latino (LHS) e um tamanho de amostra samples. A função retorna um novo DataFrame com os nomes e valores das variáveis de entrada de acordo com o seu tipo."
   ]
  },
  {
   "cell_type": "code",
   "execution_count": 6,
   "id": "0dad990c",
   "metadata": {},
   "outputs": [
    {
     "data": {
      "text/html": [
       "<div>\n",
       "<style scoped>\n",
       "    .dataframe tbody tr th:only-of-type {\n",
       "        vertical-align: middle;\n",
       "    }\n",
       "\n",
       "    .dataframe tbody tr th {\n",
       "        vertical-align: top;\n",
       "    }\n",
       "\n",
       "    .dataframe thead th {\n",
       "        text-align: right;\n",
       "    }\n",
       "</style>\n",
       "<table border=\"1\" class=\"dataframe\">\n",
       "  <thead>\n",
       "    <tr style=\"text-align: right;\">\n",
       "      <th></th>\n",
       "      <th>speed</th>\n",
       "      <th>altitude</th>\n",
       "      <th>hold_speed_kt</th>\n",
       "      <th>hold_altitude_ft</th>\n",
       "    </tr>\n",
       "  </thead>\n",
       "  <tbody>\n",
       "    <tr>\n",
       "      <th>0</th>\n",
       "      <td>2867.35</td>\n",
       "      <td>45985.70</td>\n",
       "      <td>331.323050</td>\n",
       "      <td>5659.750613</td>\n",
       "    </tr>\n",
       "    <tr>\n",
       "      <th>1</th>\n",
       "      <td>801.98</td>\n",
       "      <td>108539.96</td>\n",
       "      <td>422.081806</td>\n",
       "      <td>7108.244118</td>\n",
       "    </tr>\n",
       "    <tr>\n",
       "      <th>2</th>\n",
       "      <td>4206.20</td>\n",
       "      <td>108096.34</td>\n",
       "      <td>272.352827</td>\n",
       "      <td>3379.823608</td>\n",
       "    </tr>\n",
       "    <tr>\n",
       "      <th>3</th>\n",
       "      <td>2417.44</td>\n",
       "      <td>58533.73</td>\n",
       "      <td>493.213878</td>\n",
       "      <td>4126.891740</td>\n",
       "    </tr>\n",
       "    <tr>\n",
       "      <th>4</th>\n",
       "      <td>3050.76</td>\n",
       "      <td>89399.35</td>\n",
       "      <td>279.536587</td>\n",
       "      <td>1610.211710</td>\n",
       "    </tr>\n",
       "    <tr>\n",
       "      <th>...</th>\n",
       "      <td>...</td>\n",
       "      <td>...</td>\n",
       "      <td>...</td>\n",
       "      <td>...</td>\n",
       "    </tr>\n",
       "    <tr>\n",
       "      <th>995</th>\n",
       "      <td>2226.72</td>\n",
       "      <td>47253.25</td>\n",
       "      <td>182.879485</td>\n",
       "      <td>2614.018232</td>\n",
       "    </tr>\n",
       "    <tr>\n",
       "      <th>996</th>\n",
       "      <td>1316.63</td>\n",
       "      <td>51652.63</td>\n",
       "      <td>432.467607</td>\n",
       "      <td>1555.850052</td>\n",
       "    </tr>\n",
       "    <tr>\n",
       "      <th>997</th>\n",
       "      <td>4651.69</td>\n",
       "      <td>91640.76</td>\n",
       "      <td>338.209185</td>\n",
       "      <td>1737.045354</td>\n",
       "    </tr>\n",
       "    <tr>\n",
       "      <th>998</th>\n",
       "      <td>4073.01</td>\n",
       "      <td>905.04</td>\n",
       "      <td>172.181820</td>\n",
       "      <td>3293.879183</td>\n",
       "    </tr>\n",
       "    <tr>\n",
       "      <th>999</th>\n",
       "      <td>3968.62</td>\n",
       "      <td>94491.58</td>\n",
       "      <td>445.292735</td>\n",
       "      <td>2304.815371</td>\n",
       "    </tr>\n",
       "  </tbody>\n",
       "</table>\n",
       "<p>1000 rows × 4 columns</p>\n",
       "</div>"
      ],
      "text/plain": [
       "       speed   altitude  hold_speed_kt  hold_altitude_ft\n",
       "0    2867.35   45985.70     331.323050       5659.750613\n",
       "1     801.98  108539.96     422.081806       7108.244118\n",
       "2    4206.20  108096.34     272.352827       3379.823608\n",
       "3    2417.44   58533.73     493.213878       4126.891740\n",
       "4    3050.76   89399.35     279.536587       1610.211710\n",
       "..       ...        ...            ...               ...\n",
       "995  2226.72   47253.25     182.879485       2614.018232\n",
       "996  1316.63   51652.63     432.467607       1555.850052\n",
       "997  4651.69   91640.76     338.209185       1737.045354\n",
       "998  4073.01     905.04     172.181820       3293.879183\n",
       "999  3968.62   94491.58     445.292735       2304.815371\n",
       "\n",
       "[1000 rows x 4 columns]"
      ]
     },
     "execution_count": 6,
     "metadata": {},
     "output_type": "execute_result"
    }
   ],
   "source": [
    "df = doe.create(aliases, samples=1000, seed=101)\n",
    "df"
   ]
  },
  {
   "cell_type": "markdown",
   "id": "d04caa9f",
   "metadata": {},
   "source": [
    "## Listando Métricas <a name=\"listando_metricas\"></a>\n",
    "\n",
    "Esta etapa envolve a geração de uma lista de todas as métricas usadas em uma simulação.\n",
    "\n",
    "O seguinte segmento de código recupera e processa as métricas associadas à simulação ``sim``. O método ``process_metrics`` do objeto ``Doe`` é usado para obter um DataFrame, ``metrics_df``, contendo os dados das métricas. A linha de código subsequente seleciona a linha rotulada como ``Team_Metrics_Blue`` do DataFrame e recupera as métricas correspondentes usando a coluna ``metrics``."
   ]
  },
  {
   "cell_type": "code",
   "execution_count": 7,
   "id": "412525b3",
   "metadata": {},
   "outputs": [
    {
     "data": {
      "text/html": [
       "<div>\n",
       "<style scoped>\n",
       "    .dataframe tbody tr th:only-of-type {\n",
       "        vertical-align: middle;\n",
       "    }\n",
       "\n",
       "    .dataframe tbody tr th {\n",
       "        vertical-align: top;\n",
       "    }\n",
       "\n",
       "    .dataframe thead th {\n",
       "        text-align: right;\n",
       "    }\n",
       "</style>\n",
       "<table border=\"1\" class=\"dataframe\">\n",
       "  <thead>\n",
       "    <tr style=\"text-align: right;\">\n",
       "      <th></th>\n",
       "      <th>identifier</th>\n",
       "      <th>metrics</th>\n",
       "    </tr>\n",
       "    <tr>\n",
       "      <th>ws_name</th>\n",
       "      <th></th>\n",
       "      <th></th>\n",
       "    </tr>\n",
       "  </thead>\n",
       "  <tbody>\n",
       "    <tr>\n",
       "      <th>Team_Metrics_Blue</th>\n",
       "      <td>AsaTeamMetrics@AsaModels</td>\n",
       "      <td>[fuel_consumed, time_of_flight]</td>\n",
       "    </tr>\n",
       "  </tbody>\n",
       "</table>\n",
       "</div>"
      ],
      "text/plain": [
       "                                 identifier                          metrics\n",
       "ws_name                                                                     \n",
       "Team_Metrics_Blue  AsaTeamMetrics@AsaModels  [fuel_consumed, time_of_flight]"
      ]
     },
     "execution_count": 7,
     "metadata": {},
     "output_type": "execute_result"
    }
   ],
   "source": [
    "metrics_df = doe.process_metrics(sim)\n",
    "metrics_df"
   ]
  },
  {
   "cell_type": "markdown",
   "id": "5f0e2238-5f6a-4456-8e89-9f48be0894c0",
   "metadata": {},
   "source": [
    "Inspecionando especificando as métricas do time `blue`"
   ]
  },
  {
   "cell_type": "code",
   "execution_count": 8,
   "id": "58ccc1aa-3313-407a-9e4f-44f4fb6219fd",
   "metadata": {},
   "outputs": [
    {
     "name": "stdout",
     "output_type": "stream",
     "text": [
      "['fuel_consumed', 'time_of_flight']\n"
     ]
    }
   ],
   "source": [
    "print(metrics_df.loc['Team_Metrics_Blue']['metrics'])"
   ]
  },
  {
   "cell_type": "markdown",
   "id": "b4099e44",
   "metadata": {},
   "source": [
    "A variável `metric` é atribuída ao valor da string `acft_standing`, representando uma métrica específica de interesse no contexto da análise. Esta métrica será importante ao implementar o recurso de parada automática durante a execução em lote.\n"
   ]
  },
  {
   "cell_type": "code",
   "execution_count": 9,
   "id": "a4d3a3e8",
   "metadata": {},
   "outputs": [],
   "source": [
    "metric = 'acft_standing' \n",
    "side= 'blue'"
   ]
  },
  {
   "cell_type": "markdown",
   "id": "2df8e360",
   "metadata": {},
   "source": [
    "## Executando um Lote com Parada Automática e Barra de Progresso <a name=\"executando_lote\"></a>\n",
    "\n",
    "Este recurso permite aos usuários executar um processo em lote e uma barra de progresso para acompanhar visualmente sua conclusão.\n",
    "\n",
    "O lote está associado à simulação identificada por ``sim.id``. Após sua criação, ele é enviado para o sistema para posterior processamento e eventual execução.\n",
    "\n",
    "Os códigos a seguir inicializa um objeto `ExecutionController` chamado `ec`. O parâmetro `sim_func` é definido como `asapy.batch_simulate(batch=batch)`, que especifica a função responsável pela execução da simulação em lote.\n",
    "\n",
    "`asa::recorder::AsaMonitorReport` traz os relatórios de monitoramento para a simulação, ou seja, as métricas utilizadas para controlar a execução do lote estão listadas.\n",
    "\n",
    "O parâmetro `stop_func` é definido como `asapy.stop_func(metric=metric, threshold=0.001)`, que indica a função a ser usada para parar a execução com base em uma métrica e um limite especificados.\n",
    "\n",
    "O parâmetro `chunk_size` determina o tamanho de cada pedaço de simulações a ser executado simultaneamente."
   ]
  },
  {
   "cell_type": "code",
   "execution_count": 10,
   "id": "3e0b7f08",
   "metadata": {},
   "outputs": [
    {
     "name": "stdout",
     "output_type": "stream",
     "text": [
      "Batch criado: 2620\n"
     ]
    }
   ],
   "source": [
    "batch = asaclient.Batch(label=simulation_name, simulation_id=sim.id)\n",
    "batch = asa.save_batch(batch)\n",
    "print(f\"Batch criado: {batch.id}\")\n",
    "ec = asapy.ExecutionController(sim_func=asapy.batch_simulate(batch=batch), stop_func=asapy.stop_func(metric=metric, threshold=0.001, side=side), chunk_size=3)"
   ]
  },
  {
   "cell_type": "markdown",
   "id": "ad9e02ce",
   "metadata": {},
   "source": [
    "O método `run` do objeto `ec` é executado, passando o DataFrame `df` os com aliases. O resultado da execução é armazenado na variável `results`."
   ]
  },
  {
   "cell_type": "code",
   "execution_count": null,
   "id": "dc27f4c8",
   "metadata": {},
   "outputs": [
    {
     "name": "stderr",
     "output_type": "stream",
     "text": [
      "  4%|█                            | 35/1000 [07:10<45:31,  2.83s/it]"
     ]
    }
   ],
   "source": [
    "%%time\n",
    "\n",
    "results = ec.run(doe=df)"
   ]
  },
  {
   "cell_type": "code",
   "execution_count": null,
   "id": "20720822",
   "metadata": {},
   "outputs": [],
   "source": [
    "results"
   ]
  },
  {
   "cell_type": "markdown",
   "id": "3408ab76",
   "metadata": {},
   "source": [
    "## Recuperando um Lote de Execuções <a name=\"recuperando_lote\"></a>\n",
    "\n",
    "Após a conclusão do processo em lote, os usuários podem recuperá-lo para análise. Nesta seção, salvamos os aliases e os resultados das simulações para análises futuras."
   ]
  },
  {
   "cell_type": "code",
   "execution_count": null,
   "id": "b1bddd97",
   "metadata": {},
   "outputs": [],
   "source": [
    "import os\n",
    "\n",
    "# Create 'results' directory if it doesn't exist\n",
    "if not os.path.exists('results'):\n",
    "    os.makedirs('results')\n",
    "\n",
    "# Save the DataFrames to CSV files in the 'results' directory\n",
    "df.to_csv(f'./results/{simulation_name}_batch_{batch.id}_aliases.csv', index=False)\n",
    "results.to_csv(f\"./results/{simulation_name}_batch_{batch.id}.csv\", index=False)"
   ]
  }
 ],
 "metadata": {
  "kernelspec": {
   "display_name": "Python 3 (ipykernel)",
   "language": "python",
   "name": "python3"
  },
  "language_info": {
   "codemirror_mode": {
    "name": "ipython",
    "version": 3
   },
   "file_extension": ".py",
   "mimetype": "text/x-python",
   "name": "python",
   "nbconvert_exporter": "python",
   "pygments_lexer": "ipython3",
   "version": "3.9.0"
  }
 },
 "nbformat": 4,
 "nbformat_minor": 5
}
