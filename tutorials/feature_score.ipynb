{
 "cells": [
  {
   "cell_type": "markdown",
   "id": "9938476c-9af5-42c8-a9fe-2b773e206fec",
   "metadata": {},
   "source": [
    "# AsaPY\n",
    "\n",
    "### Asa Analysis\n",
    "\n",
    "#### Analysis.feature_score\n",
    "\n",
    "    \"\"\"\n",
    "    Calculate the score of input features using the specified scoring function.\n",
    "\n",
    "    This function applies a specified scoring function to evaluate the relevance of each input feature for the output\n",
    "    variable in a given DataFrame. The supported scoring functions are those provided by sklearn's feature_selection module.\n",
    "\n",
    "    Args:\n",
    "        df (pd.DataFrame): The input data, where each column is a feature and each row is an observation.\n",
    "        x (List[str]): A list of names of the input features in 'df'.\n",
    "        y (str): The name of the output feature in 'df'.\n",
    "        scoring_function (str): The name of the scoring function to be used. Should be one of the following:\n",
    "            - 'r_regression'\n",
    "            - 'f_regression'\n",
    "            - 'mutual_info_regression'\n",
    "            - 'chi2'\n",
    "            - 'f_classif'\n",
    "            - 'mutual_info_classif'\n",
    "        verbose (bool, optional): Whether to print detailed output. Default is False.\n",
    "        save_path (str, optional): Path to save the plotted figure. If not specified, the figure is simply shown.\n",
    "\n",
    "    Raises:\n",
    "        ValueError: If 'scoring_function' is not one of the supported scoring functions.\n",
    "\n",
    "    Returns:\n",
    "        pd.DataFrame: A DataFrame where each row corresponds to an input feature, and the 'score' column contains\n",
    "            the corresponding score. The DataFrame is sorted by score in descending order.\n",
    "    \"\"\"\n",
    "\n",
    "### Seleção de Features\n",
    "\n",
    "A seleção de features, ou seleção de características, é uma etapa crucial na preparação dos dados para a modelagem preditiva. Essa técnica visa identificar e selecionar as variáveis de entrada mais relevantes para a tarefa de previsão, o que pode ser vital por várias razões.\n",
    "\n",
    "Em muitos problemas de aprendizado de máquina, um grande número de variáveis de entrada pode levar a uma maior complexidade computacional, aumentando o tempo de treinamento e a demanda de memória do sistema. Também pode resultar em um risco de overfitting, onde o modelo se ajusta excessivamente aos dados de treinamento, perdendo a capacidade de generalizar para dados não vistos. Além disso, a inclusão de características irrelevantes ou redundantes pode degradar o desempenho do modelo.\n",
    "\n",
    "A seleção de features é frequentemente comparada à redução de dimensionalidade, mas são conceitos distintos. A seleção envolve escolher um subconjunto de características existentes, mantendo-as inalteradas. Por outro lado, a redução de dimensionalidade cria novas características através da combinação de características existentes, resultando em um espaço de características de dimensão inferior. Embora ambos tenham o objetivo de simplificar o conjunto de dados, eles fazem isso de maneiras diferentes.\n",
    "\n",
    "Existem vários métodos de seleção de features, como métodos filtrados, que avaliam a relevância de cada característica individualmente com base em estatísticas; métodos wrapper, que utilizam um modelo preditivo para avaliar a qualidade das características selecionadas; e métodos embarcados, que incorporam a seleção de características como parte do processo de treinamento de um modelo.\n",
    "\n",
    "Em resumo, a seleção de características é uma etapa vital na preparação dos dados, ajudando a melhorar o desempenho e a eficiência dos modelos de aprendizado de máquina. É um processo que requer cuidado e compreensão, pois a seleção adequada de características pode levar à construção de modelos mais robustos e eficazes.\n",
    "\n",
    "Mais informações: https://machinelearningmastery.com/feature-selection-with-real-and-categorical-data/\n",
    "\n",
    "#### Método `feature_score`\n",
    "\n",
    "O método `feature_score` utiliza diferentes funções de pontuação do módulo `feature_selection` do scikit-learn para avaliar a importância ou relevância de cada característica (ou feature) em relação à variável de saída. Dependendo da função de pontuação escolhida, o \"score\" ou pontuação pode representar diferentes métricas estatísticas:\n",
    "\n",
    "- **f_regression**: Testa a dependência linear individual de duas amostras. Retorna os valores F (indicando a variância explicada por cada característica dividida pela variância não explicada) e os valores p.\n",
    "- **mutual_info_regression**: Estima a informação mútua (MI) para uma variável contínua. MI entre duas variáveis é uma medida não-negativa que mede a dependência entre as variáveis; é igual a zero se e somente se duas variáveis são independentes.\n",
    "- **r_regression**: Não é uma função padrão no scikit-learn. Talvez você esteja se referindo ao coeficiente de correlação de Pearson, que mede a dependência linear entre duas variáveis.\n",
    "- **chi2**: Realiza o teste Qui-quadrado para amostras não negativas para classificação. Mede a dependência entre variáveis estocásticas, sendo útil para tarefas de seleção de recursos discretos.\n",
    "- **f_classif**: Calcula o valor ANOVA F para os dados fornecidos. Usado em cenários de classificação.\n",
    "- **mutual_info_classif**: Estima a informação mútua para uma variável discreta. Semelhante ao `mutual_info_regression`, mas é usado em cenários de classificação.\n",
    "\n",
    "O \"score\" representa o quão relevante ou importante é uma característica em relação à variável alvo, com base na métrica estatística específica da função de pontuação escolhida. Por exemplo, em `f_regression`, um score mais alto indica que uma maior proporção da variância na variável dependente é \"explicada\" pela característica. Em funções de informação mútua, um score mais alto indica uma maior dependência entre a característica e a variável alvo.\n",
    "\n",
    "Ao interpretar os scores, é crucial entender o significado da métrica estatística da função de pontuação escolhida e como ela se relaciona com a relevância da característica.\n"
   ]
  },
  {
   "cell_type": "code",
   "execution_count": 1,
   "id": "3b5700c0-7c1b-4727-ac96-cd629fa4fc1a",
   "metadata": {},
   "outputs": [
    {
     "name": "stderr",
     "output_type": "stream",
     "text": [
      "2023-12-19 17:09:30.252344: I tensorflow/tsl/cuda/cudart_stub.cc:28] Could not find cuda drivers on your machine, GPU will not be used.\n",
      "2023-12-19 17:09:30.303207: I tensorflow/tsl/cuda/cudart_stub.cc:28] Could not find cuda drivers on your machine, GPU will not be used.\n",
      "2023-12-19 17:09:30.304288: I tensorflow/core/platform/cpu_feature_guard.cc:182] This TensorFlow binary is optimized to use available CPU instructions in performance-critical operations.\n",
      "To enable the following instructions: AVX2 FMA, in other operations, rebuild TensorFlow with the appropriate compiler flags.\n",
      "2023-12-19 17:09:31.288016: W tensorflow/compiler/tf2tensorrt/utils/py_utils.cc:38] TF-TRT Warning: Could not find TensorRT\n"
     ]
    },
    {
     "name": "stdout",
     "output_type": "stream",
     "text": [
      "Using TensorFlow backend\n",
      "    feature      score\n",
      " 2  bmi         230.65\n",
      " 8  s5          207.27\n",
      " 3  bp          106.52\n",
      " 7  s4          100.07\n",
      " 6  s3           81.24\n",
      " 9  s6           75.4\n",
      " 4  s1           20.71\n",
      " 0  age          16.1\n",
      " 5  s2           13.75\n",
      " 1  sex           0.82\n"
     ]
    },
    {
     "name": "stderr",
     "output_type": "stream",
     "text": [
      "/opt/conda/lib/python3.9/site-packages/sklearn/utils/validation.py:993: DataConversionWarning: A column-vector y was passed when a 1d array was expected. Please change the shape of y to (n_samples, ), for example using ravel().\n",
      "  y = column_or_1d(y, warn=True)\n"
     ]
    },
    {
     "data": {
      "image/png": "[encoded data removed]",
      "text/plain": [
       "<Figure size 864x576 with 1 Axes>"
      ]
     },
     "metadata": {
      "needs_background": "light"
     },
     "output_type": "display_data"
    }
   ],
   "source": [
    "import asapy\n",
    "from sklearn.datasets import load_diabetes\n",
    "\n",
    "X, y  = load_diabetes(as_frame=True, return_X_y=True)\n",
    "feature_list = X.columns.tolist()\n",
    "X['target'] = y\n",
    "\n",
    "Analysis = asapy.Analysis\n",
    "\n",
    "scores = Analysis.feature_score(X,feature_list, ['target'], 'f_regression', verbose = True)"
   ]
  }
 ],
 "metadata": {
  "kernelspec": {
   "display_name": "Python 3 (ipykernel)",
   "language": "python",
   "name": "python3"
  },
  "language_info": {
   "codemirror_mode": {
    "name": "ipython",
    "version": 3
   },
   "file_extension": ".py",
   "mimetype": "text/x-python",
   "name": "python",
   "nbconvert_exporter": "python",
   "pygments_lexer": "ipython3",
   "version": "3.9.10"
  }
 },
 "nbformat": 4,
 "nbformat_minor": 5
}
