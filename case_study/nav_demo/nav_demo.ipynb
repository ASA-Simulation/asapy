{
 "cells": [
  {
   "cell_type": "markdown",
   "id": "e5617a3a",
   "metadata": {},
   "source": [
    "# Scenario: Fighter Aircraft Navigation Demonstration\n",
    "\n",
    "### General Description:\n",
    "This scenario describes a navigation flight carried out by a fighter aircraft, focusing on the execution of maneuvers at different altitudes and speeds. The navigation encompasses an altitude range between Flight Level (FL) 100 and FL 350, as well as a speed variation from 350 knots to 550 knots. During this flight, at the third point of the route, the aircraft will perform a holding maneuver around a specific point (**Hold**) for 10 minutes, integrating it into the flight pattern.\n",
    "\n",
    "<img src='./nav_demo.gif' width='500' height='500'>"
   ]
  },
  {
   "cell_type": "markdown",
   "id": "f8e64271",
   "metadata": {},
   "source": [
    "**This cell imports all the necessary modules for the execution and analysis of the simulations.**"
   ]
  },
  {
   "cell_type": "code",
   "execution_count": null,
   "id": "718a13c7",
   "metadata": {},
   "outputs": [],
   "source": [
    "# Libraries for data analysis and plotting\n",
    "import pandas as pd           # Library for data analysis and manipulation, nicknamed 'pd'.\n",
    "import matplotlib.pyplot as plt # Library to create static, animated, and interactive data visualizations, nicknamed 'plt'.\n",
    "import seaborn as sns         # Matplotlib-based library for drawing attractive and informative statistical graphs.\n",
    "\n",
    "# Specific Library\n",
    "import asapy                  # Provides Python bindings for the AsaPy API.\n",
    "\n",
    "# Display Settings\n",
    "import warnings               # Library for handling warnings.\n",
    "warnings.filterwarnings('ignore') # Suppresses warnings to make the output cleaner."
   ]
  },
  {
   "cell_type": "markdown",
   "id": "e518a726-2293-4863-8ddf-9a5bc2123725",
   "metadata": {},
   "source": [
    "## EXPERIMENT 1: Analysis of the Relationship between Flight Time and Fuel Consumption\n",
    "\n",
    "### Experiment Objective:\n",
    "This experiment aims to investigate the relationship between flight time (`time_of_flight_blue`) and fuel consumption (`fuel_consumed_blue`) in a flight simulation scenario. The main goal is to understand whether there is a direct correlation between these two variables, that is, whether an increase in flight time consistently results in higher fuel consumption.\n",
    "\n",
    "### Methodology:\n",
    "- Data Used: Data from **4000** flight simulations will be analyzed, where `time_of_flight_blue` represents the total flight duration (in seconds) and `fuel_consumed_blue` indicates the amount of fuel consumed (in pounds).\n",
    "- Statistical Analysis: Apply statistical methods to evaluate the relationship between the two variables. This includes performing linear regression analysis, calculating the correlation coefficient, or other relevant statistical methods.\n",
    "- Data Visualization: Use charts (such as scatter plots) to visualize the relationship between flight time and fuel consumption, facilitating the interpretation of results.\n",
    "\n",
    "### Hypotheses:\n",
    "The main hypothesis is that there is a positive correlation between flight time and fuel consumption, meaning that the longer the flight time, the higher the fuel consumption.\n",
    "\n",
    "### Expected Results:\n",
    "The results may be useful for planning more fuel-efficient air routes and for improving fuel consumption forecasting models in aeronautical simulations.\n",
    "\n",
    "### Potential Applications:\n",
    "The results may be useful for training in flight simulators, planning more fuel-efficient air routes, and for improving fuel consumption forecasting models in aeronautical simulations."
   ]
  },
  {
   "cell_type": "markdown",
   "id": "dea405dd",
   "metadata": {},
   "source": [
    "#### Loading Simulation Data\n",
    "\n",
    "In this cell, we are loading data from different simulations from CSV files. For each scenario, there are two types of files:\n",
    "\n",
    "1. `*_aliases.csv` files: These contain the inputs (or parameters) for each simulation.\n",
    "\n",
    "2. `*_output.csv` files: These contain the results of the simulations.\n",
    "\n",
    "The data is read and loaded into pandas DataFrames for subsequent analysis and processing."
   ]
  },
  {
   "cell_type": "code",
   "execution_count": null,
   "id": "e545a832",
   "metadata": {},
   "outputs": [],
   "source": [
    "x = pd.read_csv('./nav_demo_aliases.csv')\n",
    "y = pd.read_csv('./nav_demo_output.csv')"
   ]
  },
  {
   "cell_type": "markdown",
   "id": "cd71946d",
   "metadata": {},
   "source": [
    "Viewing the Aliases"
   ]
  },
  {
   "cell_type": "code",
   "execution_count": null,
   "id": "e90b39fc",
   "metadata": {},
   "outputs": [],
   "source": [
    "x.head(5)"
   ]
  },
  {
   "cell_type": "markdown",
   "id": "85a5b757",
   "metadata": {},
   "source": [
    "Viewing the Raw Results of the Simulations"
   ]
  },
  {
   "cell_type": "code",
   "execution_count": null,
   "id": "0302b13c",
   "metadata": {},
   "outputs": [],
   "source": [
    "y.head(5)"
   ]
  },
  {
   "cell_type": "markdown",
   "id": "d46acab6",
   "metadata": {},
   "source": [
    "### Create Preprocessing Object and Preprocess Data\n",
    "\n",
    "The following code snippet is a fundamental part of the process of preparing raw data from simulations. Using the AsaPy library, the code addresses three main areas: aliases, monitor report type messages, and weapon detonation type messages.\n",
    "\n",
    "1. **Creation of the Preprocessing Object:** Using the `Preprocessing` class from the AsaPy library, a `preprocessing` object is created. This instance facilitates the application of specific preprocessing methods to the raw simulation data.\n",
    "\n",
    "2. **Preprocessing of Aliases:** The `preprocessing.aliases()` function is used to process the aliases, converting them from a raw format to a more accessible and interpretable representation.\n",
    "\n",
    "3. **Preprocessing of Team Metrics:** Through the `preprocessing.team_metrics()` function, the raw data from `Team Metrics` type messages are transformed into a format that facilitates analysis.\n",
    "\n",
    "This set of operations plays a vital role in the data analysis of the simulations, as it transforms raw and complex information into a form that is more easily manipulated and understood, thereby establishing a solid foundation for further investigations."
   ]
  },
  {
   "cell_type": "markdown",
   "id": "8447a1ac",
   "metadata": {},
   "source": [
    "Criação do objeto preprocessing e preprocessamento dos aliases e dos outputs das simulações"
   ]
  },
  {
   "cell_type": "code",
   "execution_count": null,
   "id": "6bdf5602",
   "metadata": {},
   "outputs": [],
   "source": [
    "# Creation of the preprocessing object\n",
    "preprocessing = asapy.Preprocessing()\n",
    "\n",
    "# Function to preprocess the DataFrame of aliases\n",
    "x = preprocessing.aliases(x)\n",
    "\n",
    "# Function to preprocess the DataFrame of results of the type Team Metrics\n",
    "y = preprocessing.team_metrics(y)"
   ]
  },
  {
   "cell_type": "markdown",
   "id": "1a45163c",
   "metadata": {},
   "source": [
    "Viewing the Processed Aliases"
   ]
  },
  {
   "cell_type": "code",
   "execution_count": null,
   "id": "2c89ac90",
   "metadata": {},
   "outputs": [],
   "source": [
    "x.head(5)"
   ]
  },
  {
   "cell_type": "markdown",
   "id": "3b48c01a",
   "metadata": {},
   "source": [
    "Viewing the Processed Results of the Simulations"
   ]
  },
  {
   "cell_type": "code",
   "execution_count": null,
   "id": "4ae981a9",
   "metadata": {},
   "outputs": [],
   "source": [
    "y.head(5)"
   ]
  },
  {
   "cell_type": "markdown",
   "id": "e0827d1f",
   "metadata": {},
   "source": [
    "### Analysis of the Relationship Between Variables\n",
    "\n",
    "Validating the models used in simulations is a crucial task to ensure that the results are reliable and representative of reality. One way to do this is by analyzing the relationship between critical variables, such as fuel consumption and flight time. Below, we present a comprehensive guide to exploring and validating this relationship in your DataFrame df1.\n",
    "\n",
    "#### 1. Descriptive Analysis\n",
    "\n",
    "First and foremost, it's essential to analyze the basic statistics of these variables. This provides a clear view of the distribution, centrality, and dispersion of the data, fundamental characteristics for an initial evaluation of the model's validity.\n",
    "\n",
    "#### 2. Scatter Plot\n",
    "\n",
    "This plot is a powerful visual tool that shows how two variables interact. In the context of fuel consumed and flight time, for example, a clear linear relationship may indicate that the longer a plane stays in the air, the more fuel it consumes.\n",
    "\n",
    "#### 3. Correlation\n",
    "\n",
    "Correlation quantifies the degree to which two variables change together:\n",
    "\n",
    "- **Pearson Correlation**: Measures the linear relationship between two continuous variables. Use when the variables have a normal distribution and the relationship seems to be linear. Values close to 1 or -1 indicate a strong linear relationship.\n",
    "\n",
    "- **Spearman Correlation**: Used when the relationship between variables is not linear, or when the variables are ordinal. Spearman correlation assesses how well the relationship between the variables can be described using a monotonic function.\n",
    "\n",
    "- **Kendall Correlation**: Evaluates the strength of the monotonic dependence between two variables. It is particularly useful with small datasets, with many ties, or for ordinal data. It is less sensitive to outliers than the Pearson correlation.\n",
    "\n",
    "#### 4. Linear Regression\n",
    "\n",
    "Through linear regression, one can not only verify the relationship between the variables but also predict one based on the other. The coefficient of determination (R²) is an essential metric here, as it indicates the percentage of variance in the dependent variable that is predictable from the independent variable.\n",
    "\n",
    "#### 5. Residual Plot\n",
    "\n",
    "The residual plot is a graphical representation of the errors between observed and predicted values. Some typical characteristics and their interpretations are:\n",
    "\n",
    "- **Random Pattern**: If the residuals are randomly distributed around the horizontal axis, this indicates a good fit of the model.\n",
    "- **Curves or Patterns**: Discernible patterns, such as curves, might suggest that an important variable has not been included in the model or that the relationship is not linear.\n",
    "- **Funnel Shape (heteroscedasticity)**: If the residuals widen or narrow as the fitted values increase, this suggests that the residuals have non-constant variations.\n",
    "- **Outliers**: Isolated points far from the random pattern may indicate outliers.\n",
    "- **Linear Trend**: A clear line in the residuals might indicate a missing predictor variable.\n",
    "- **Clusters**: Groupings of residuals may indicate subgroups in the dataset that the model is not capturing."
   ]
  },
  {
   "cell_type": "markdown",
   "id": "6c3cbf1f-51a0-45c9-8362-db428a5e6cb2",
   "metadata": {},
   "source": [
    "To answer the question:\n",
    "\n",
    "\"**If I flew longer (`time_of_flight_blue`), does it mean I consumed more fuel (`fuel_consumed_blue`)?**\",\n",
    "\n",
    "we need to create an `analysis` object using the `Analysis` class from the AsaPy library. Then, we use the `analyze_relationship` method to observe the relationship between the two variables."
   ]
  },
  {
   "cell_type": "code",
   "execution_count": null,
   "id": "a095c4fe",
   "metadata": {},
   "outputs": [],
   "source": [
    "y"
   ]
  },
  {
   "cell_type": "code",
   "execution_count": null,
   "id": "c4052d0a",
   "metadata": {},
   "outputs": [],
   "source": [
    "# Creation of the analysis object\n",
    "analysis = asapy.Analysis()\n",
    "\n",
    "# Function to analyze the relationship between two variables in a DataFrame\n",
    "analyze_relationship(y, 'fuel_consumed', 'time_of_flight')"
   ]
  },
  {
   "cell_type": "markdown",
   "id": "655cc7e2",
   "metadata": {},
   "source": [
    "#### Conclusion:\n",
    "\n",
    "Based on the analysis conducted, we conclude that there is **NO** direct linear relationship between the variables under study.\n",
    "\n",
    "The main suspicion for the absence of a linear relationship between the studied variables is the variation in speeds and altitudes observed during flight simulations. These fluctuations appear to be key factors impacting the dynamics between the variables, introducing a complexity that goes beyond a simple linear correlation. Variations in altitude can affect engine efficiency and aerodynamic conditions, while changes in speed can alter air resistance and fuel consumption. Therefore, this observation reinforces the need for a deeper investigation into how these variations in speed and altitude influence the variables of interest, to better understand the non-linear nature of their interactions.\n",
    "\n",
    "This analysis will be conducted in **EXPERIMENT 2**."
   ]
  },
  {
   "cell_type": "markdown",
   "id": "d06411ab-90ae-4511-9a53-b318d7c9546f",
   "metadata": {},
   "source": [
    "## EXPERIMENT 2: Analysis of the Relationship between Speed, Altitude, and Fuel Consumption\n",
    "\n",
    "### Experiment Objective:\n",
    "Experiment 2 aims to explore the complex relationship between flight speed (`speed`), altitude (`altitude`), and fuel consumption (`fuel_consumed`) in a flight simulation environment. The goal is to understand how speed and altitude, individually or in combination, influence an aircraft's fuel consumption.\n",
    "\n",
    "### Methodology:\n",
    "- **Data Used**: Flight simulation data will be analyzed, with `speed` indicating the aircraft's velocity (in knots), `altitude` representing the flight altitude (in feet), and `fuel_consumed` measuring the amount of fuel consumed (in pounds).\n",
    "- **Statistical Analysis**: Use of statistical analyses to examine how the speed and altitude variables correlate with fuel consumption. The analysis may include the assessment of interactions between speed and altitude.\n",
    "- **Data Visualization**: Implementation of two-dimensional charts and surface plots to visualize the complex relationships between the three variables, facilitating the interpretation and understanding of observed patterns.\n",
    "\n",
    "### Hypotheses:\n",
    "- **Main Hypothesis**: The hypothesis is that both speed and altitude have significant impacts on fuel consumption, with possible complex interactions between these two variables.\n",
    "- **Secondary Hypotheses**: Explore whether higher speeds or greater altitudes lead to a proportional increase in fuel consumption, and whether there is an optimal point of fuel efficiency in relation to these variables.\n",
    "\n",
    "### Expected Results:\n",
    "The experiment is expected to show patterns, possibly non-linear, in the interaction between speed, altitude, and aircraft fuel consumption. Specifically, it is expected that keeping altitude and speed constant, an increase in flight time will unequivocally result in greater fuel consumption. However, the experiment also seeks to investigate how different combinations of altitude and speed can influence this consumption. Thus, it cannot be stated with certainty that an increase in flight time will always lead to greater fuel consumption for all combinations of altitude and speed. This study aims to provide crucial insights for optimizing aircraft performance in various operational conditions.\n",
    "\n",
    "### Potential Applications:\n",
    "The results can be applied in training pilots for more efficient flight operations, developing economically viable flight strategies, and improving predictive models for fuel consumption in different flight scenarios. Additionally, they can contribute to the enhancement of aircraft design and flight control systems, aiming for greater energy efficiency."
   ]
  },
  {
   "cell_type": "markdown",
   "id": "10f9dc99",
   "metadata": {},
   "source": [
    "Creation of a dataframe `df` with the aliases data (`speed` and `altitude`) combined with the `fuel_consumed` data."
   ]
  },
  {
   "cell_type": "code",
   "execution_count": null,
   "id": "03d10bb0",
   "metadata": {},
   "outputs": [],
   "source": [
    "# Dataframe generated by merging the input and output dataframes from the simulation\n",
    "df = pd.merge(x, y[['fuel_consumed']], left_index=True, right_index=True)\n",
    "\n",
    "# Viewing the df dataframe\n",
    "df.head(5)"
   ]
  },
  {
   "cell_type": "markdown",
   "id": "cdda4f7f",
   "metadata": {},
   "source": [
    "2D visualization of the relationship between the variables `speed`, `altitude`, and `fuel_consumed`."
   ]
  },
  {
   "cell_type": "code",
   "execution_count": null,
   "id": "5ab00d75",
   "metadata": {},
   "outputs": [],
   "source": [
    "analysis.create_2d_scatter_plot(df=df, \n",
    "                       x_col='speed', \n",
    "                       y_col='altitude', \n",
    "                       size_col='fuel_consumed',\n",
    "                       title='2D Plot of Speed and Altitude with Fuel Consumed', \n",
    "                       xlabel='Speed (knots)', \n",
    "                       ylabel='Altitude (feet)', \n",
    "                       size_label='Normalized Fuel Consumed',\n",
    "                       cmap='coolwarm', \n",
    "                       figsize=(12, 8), \n",
    "                       alpha=0.5, \n",
    "                       grid=True, \n",
    "                       ref_size_value=0.5)"
   ]
  },
  {
   "cell_type": "markdown",
   "id": "cca4fbfe",
   "metadata": {},
   "source": [
    "3D visualization of the relationship between the variables `speed`, `altitude`, and `fuel_consumed`."
   ]
  },
  {
   "cell_type": "code",
   "execution_count": null,
   "id": "29475855",
   "metadata": {},
   "outputs": [],
   "source": [
    "%matplotlib inline\n",
    "create_3d_surface_plot(df=df, \n",
    "                       x_col='speed', \n",
    "                       y_col='altitude', \n",
    "                       z_col='fuel_consumed',\n",
    "                       title='3D Surface Plot of Speed, Altitude, and Fuel Consumed', \n",
    "                       xlabel='Speed (knots)', \n",
    "                       ylabel='Altitude (feet)', \n",
    "                       zlabel='Fuel Consumed (pounds)')"
   ]
  },
  {
   "cell_type": "markdown",
   "id": "4d80784e",
   "metadata": {},
   "source": [
    "#### Conclusions\n",
    "\n",
    "- **Fuel Consumption Peaks**: The higher and **<span style=\"color:red\">red</span>** regions indicate the highest fuel consumption values, which occur at an altitude of approximately 10,000 feet and a speed of about 525 knots, where consumption reaches values near 1800 pounds per hour.\n",
    "\n",
    "- **Operational Efficiency**: The **<span style=\"color:blue\">blue</span>** areas, representing lower fuel consumption, suggest more efficient operating ranges. The lowest consumption values, close to 1000 pounds per hour, are observed at altitudes around 25,000 to 30,000 feet and speeds of 400 to 450 knots.\n",
    "\n",
    "- **Consumption at Intermediate Speeds**: A complex variation is observed where, at certain intermediate altitudes, consumption is also high, indicating an operational efficiency point that does not follow a simple linear relationship with speed or altitude.\n",
    "\n",
    "- **Route Decisions**: The information from the chart can be used to plan routes that prioritize fuel efficiency, avoiding altitude and speed ranges that result in excessive consumption.\n",
    "\n",
    "- **Aircraft Performance Analysis**: The data reflect the engine and aircraft performance under different operational conditions, assisting engineers in adjusting or designing more efficient propulsion systems."
   ]
  }
 ],
 "metadata": {
  "kernelspec": {
   "display_name": "Python 3 (ipykernel)",
   "language": "python",
   "name": "python3"
  },
  "language_info": {
   "codemirror_mode": {
    "name": "ipython",
    "version": 3
   },
   "file_extension": ".py",
   "mimetype": "text/x-python",
   "name": "python",
   "nbconvert_exporter": "python",
   "pygments_lexer": "ipython3",
   "version": "3.9.10"
  }
 },
 "nbformat": 4,
 "nbformat_minor": 5
}
